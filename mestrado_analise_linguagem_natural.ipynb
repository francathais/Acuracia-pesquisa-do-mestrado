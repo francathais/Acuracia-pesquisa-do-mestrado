{
  "nbformat": 4,
  "nbformat_minor": 0,
  "metadata": {
    "colab": {
      "provenance": []
    },
    "kernelspec": {
      "name": "python3",
      "display_name": "Python 3"
    },
    "language_info": {
      "name": "python"
    }
  },
  "cells": [
    {
      "cell_type": "code",
      "source": [
        "pip install nltk #instalando o nltk"
      ],
      "metadata": {
        "colab": {
          "base_uri": "https://localhost:8080/"
        },
        "id": "krWwBaZOXFEe",
        "outputId": "8d468b27-55b7-4328-f3a5-3b164f0a4c92"
      },
      "execution_count": null,
      "outputs": [
        {
          "output_type": "stream",
          "name": "stdout",
          "text": [
            "Looking in indexes: https://pypi.org/simple, https://us-python.pkg.dev/colab-wheels/public/simple/\n",
            "Requirement already satisfied: nltk in /usr/local/lib/python3.7/dist-packages (3.7)\n",
            "Requirement already satisfied: click in /usr/local/lib/python3.7/dist-packages (from nltk) (7.1.2)\n",
            "Requirement already satisfied: tqdm in /usr/local/lib/python3.7/dist-packages (from nltk) (4.64.1)\n",
            "Requirement already satisfied: joblib in /usr/local/lib/python3.7/dist-packages (from nltk) (1.1.0)\n",
            "Requirement already satisfied: regex>=2021.8.3 in /usr/local/lib/python3.7/dist-packages (from nltk) (2022.6.2)\n"
          ]
        }
      ]
    },
    {
      "cell_type": "code",
      "execution_count": null,
      "metadata": {
        "id": "ThwfbMFJVDe8"
      },
      "outputs": [],
      "source": [
        "import nltk \n",
        "import re \n",
        "import string\n",
        "import pandas as pd\n",
        "import numpy as np  \n",
        "#importa"
      ]
    },
    {
      "cell_type": "code",
      "source": [
        "nltk.download ('all') #baixa tudo no nltk"
      ],
      "metadata": {
        "colab": {
          "base_uri": "https://localhost:8080/"
        },
        "id": "OlcPUn7CXnX1",
        "outputId": "e17ff8a5-7957-4d5c-b1f4-414c2aff7ab1"
      },
      "execution_count": null,
      "outputs": [
        {
          "output_type": "stream",
          "name": "stderr",
          "text": [
            "[nltk_data] Downloading collection 'all'\n",
            "[nltk_data]    | \n",
            "[nltk_data]    | Downloading package abc to /root/nltk_data...\n",
            "[nltk_data]    |   Unzipping corpora/abc.zip.\n",
            "[nltk_data]    | Downloading package alpino to /root/nltk_data...\n",
            "[nltk_data]    |   Unzipping corpora/alpino.zip.\n",
            "[nltk_data]    | Downloading package averaged_perceptron_tagger to\n",
            "[nltk_data]    |     /root/nltk_data...\n",
            "[nltk_data]    |   Unzipping taggers/averaged_perceptron_tagger.zip.\n",
            "[nltk_data]    | Downloading package averaged_perceptron_tagger_ru to\n",
            "[nltk_data]    |     /root/nltk_data...\n",
            "[nltk_data]    |   Unzipping\n",
            "[nltk_data]    |       taggers/averaged_perceptron_tagger_ru.zip.\n",
            "[nltk_data]    | Downloading package basque_grammars to\n",
            "[nltk_data]    |     /root/nltk_data...\n",
            "[nltk_data]    |   Unzipping grammars/basque_grammars.zip.\n",
            "[nltk_data]    | Downloading package biocreative_ppi to\n",
            "[nltk_data]    |     /root/nltk_data...\n",
            "[nltk_data]    |   Unzipping corpora/biocreative_ppi.zip.\n",
            "[nltk_data]    | Downloading package bllip_wsj_no_aux to\n",
            "[nltk_data]    |     /root/nltk_data...\n",
            "[nltk_data]    |   Unzipping models/bllip_wsj_no_aux.zip.\n",
            "[nltk_data]    | Downloading package book_grammars to\n",
            "[nltk_data]    |     /root/nltk_data...\n",
            "[nltk_data]    |   Unzipping grammars/book_grammars.zip.\n",
            "[nltk_data]    | Downloading package brown to /root/nltk_data...\n",
            "[nltk_data]    |   Unzipping corpora/brown.zip.\n",
            "[nltk_data]    | Downloading package brown_tei to /root/nltk_data...\n",
            "[nltk_data]    |   Unzipping corpora/brown_tei.zip.\n",
            "[nltk_data]    | Downloading package cess_cat to /root/nltk_data...\n",
            "[nltk_data]    |   Unzipping corpora/cess_cat.zip.\n",
            "[nltk_data]    | Downloading package cess_esp to /root/nltk_data...\n",
            "[nltk_data]    |   Unzipping corpora/cess_esp.zip.\n",
            "[nltk_data]    | Downloading package chat80 to /root/nltk_data...\n",
            "[nltk_data]    |   Unzipping corpora/chat80.zip.\n",
            "[nltk_data]    | Downloading package city_database to\n",
            "[nltk_data]    |     /root/nltk_data...\n",
            "[nltk_data]    |   Unzipping corpora/city_database.zip.\n",
            "[nltk_data]    | Downloading package cmudict to /root/nltk_data...\n",
            "[nltk_data]    |   Unzipping corpora/cmudict.zip.\n",
            "[nltk_data]    | Downloading package comparative_sentences to\n",
            "[nltk_data]    |     /root/nltk_data...\n",
            "[nltk_data]    |   Unzipping corpora/comparative_sentences.zip.\n",
            "[nltk_data]    | Downloading package comtrans to /root/nltk_data...\n",
            "[nltk_data]    | Downloading package conll2000 to /root/nltk_data...\n",
            "[nltk_data]    |   Unzipping corpora/conll2000.zip.\n",
            "[nltk_data]    | Downloading package conll2002 to /root/nltk_data...\n",
            "[nltk_data]    |   Unzipping corpora/conll2002.zip.\n",
            "[nltk_data]    | Downloading package conll2007 to /root/nltk_data...\n",
            "[nltk_data]    | Downloading package crubadan to /root/nltk_data...\n",
            "[nltk_data]    |   Unzipping corpora/crubadan.zip.\n",
            "[nltk_data]    | Downloading package dependency_treebank to\n",
            "[nltk_data]    |     /root/nltk_data...\n",
            "[nltk_data]    |   Unzipping corpora/dependency_treebank.zip.\n",
            "[nltk_data]    | Downloading package dolch to /root/nltk_data...\n",
            "[nltk_data]    |   Unzipping corpora/dolch.zip.\n",
            "[nltk_data]    | Downloading package europarl_raw to\n",
            "[nltk_data]    |     /root/nltk_data...\n",
            "[nltk_data]    |   Unzipping corpora/europarl_raw.zip.\n",
            "[nltk_data]    | Downloading package extended_omw to\n",
            "[nltk_data]    |     /root/nltk_data...\n",
            "[nltk_data]    | Downloading package floresta to /root/nltk_data...\n",
            "[nltk_data]    |   Unzipping corpora/floresta.zip.\n",
            "[nltk_data]    | Downloading package framenet_v15 to\n",
            "[nltk_data]    |     /root/nltk_data...\n"
          ]
        }
      ]
    },
    {
      "cell_type": "code",
      "source": [
        "from nltk.tokenize import sent_tokenize\n",
        "nltk.download('punkt')\n",
        "from nltk.tokenize import word_tokenize"
      ],
      "metadata": {
        "colab": {
          "base_uri": "https://localhost:8080/"
        },
        "id": "mvVeHqK3C6Rm",
        "outputId": "55b303c2-960d-4af0-cd7d-415992a10aa1"
      },
      "execution_count": null,
      "outputs": [
        {
          "output_type": "stream",
          "name": "stderr",
          "text": [
            "[nltk_data] Downloading package punkt to /root/nltk_data...\n",
            "[nltk_data]   Package punkt is already up-to-date!\n"
          ]
        }
      ]
    },
    {
      "cell_type": "code",
      "source": [
        "#subindo no google colab\n",
        "from google.colab import files\n",
        "uploaded = files.upload() "
      ],
      "metadata": {
        "colab": {
          "base_uri": "https://localhost:8080/",
          "height": 75
        },
        "id": "kPdO8Ad_VP5t",
        "outputId": "fac36142-e15c-4ea5-fcf8-5193e2df99b7"
      },
      "execution_count": null,
      "outputs": [
        {
          "output_type": "display_data",
          "data": {
            "text/plain": [
              "<IPython.core.display.HTML object>"
            ],
            "text/html": [
              "\n",
              "     <input type=\"file\" id=\"files-b2c42021-76d0-4988-b467-9a656285dda6\" name=\"files[]\" multiple disabled\n",
              "        style=\"border:none\" />\n",
              "     <output id=\"result-b2c42021-76d0-4988-b467-9a656285dda6\">\n",
              "      Upload widget is only available when the cell has been executed in the\n",
              "      current browser session. Please rerun this cell to enable.\n",
              "      </output>\n",
              "      <script>// Copyright 2017 Google LLC\n",
              "//\n",
              "// Licensed under the Apache License, Version 2.0 (the \"License\");\n",
              "// you may not use this file except in compliance with the License.\n",
              "// You may obtain a copy of the License at\n",
              "//\n",
              "//      http://www.apache.org/licenses/LICENSE-2.0\n",
              "//\n",
              "// Unless required by applicable law or agreed to in writing, software\n",
              "// distributed under the License is distributed on an \"AS IS\" BASIS,\n",
              "// WITHOUT WARRANTIES OR CONDITIONS OF ANY KIND, either express or implied.\n",
              "// See the License for the specific language governing permissions and\n",
              "// limitations under the License.\n",
              "\n",
              "/**\n",
              " * @fileoverview Helpers for google.colab Python module.\n",
              " */\n",
              "(function(scope) {\n",
              "function span(text, styleAttributes = {}) {\n",
              "  const element = document.createElement('span');\n",
              "  element.textContent = text;\n",
              "  for (const key of Object.keys(styleAttributes)) {\n",
              "    element.style[key] = styleAttributes[key];\n",
              "  }\n",
              "  return element;\n",
              "}\n",
              "\n",
              "// Max number of bytes which will be uploaded at a time.\n",
              "const MAX_PAYLOAD_SIZE = 100 * 1024;\n",
              "\n",
              "function _uploadFiles(inputId, outputId) {\n",
              "  const steps = uploadFilesStep(inputId, outputId);\n",
              "  const outputElement = document.getElementById(outputId);\n",
              "  // Cache steps on the outputElement to make it available for the next call\n",
              "  // to uploadFilesContinue from Python.\n",
              "  outputElement.steps = steps;\n",
              "\n",
              "  return _uploadFilesContinue(outputId);\n",
              "}\n",
              "\n",
              "// This is roughly an async generator (not supported in the browser yet),\n",
              "// where there are multiple asynchronous steps and the Python side is going\n",
              "// to poll for completion of each step.\n",
              "// This uses a Promise to block the python side on completion of each step,\n",
              "// then passes the result of the previous step as the input to the next step.\n",
              "function _uploadFilesContinue(outputId) {\n",
              "  const outputElement = document.getElementById(outputId);\n",
              "  const steps = outputElement.steps;\n",
              "\n",
              "  const next = steps.next(outputElement.lastPromiseValue);\n",
              "  return Promise.resolve(next.value.promise).then((value) => {\n",
              "    // Cache the last promise value to make it available to the next\n",
              "    // step of the generator.\n",
              "    outputElement.lastPromiseValue = value;\n",
              "    return next.value.response;\n",
              "  });\n",
              "}\n",
              "\n",
              "/**\n",
              " * Generator function which is called between each async step of the upload\n",
              " * process.\n",
              " * @param {string} inputId Element ID of the input file picker element.\n",
              " * @param {string} outputId Element ID of the output display.\n",
              " * @return {!Iterable<!Object>} Iterable of next steps.\n",
              " */\n",
              "function* uploadFilesStep(inputId, outputId) {\n",
              "  const inputElement = document.getElementById(inputId);\n",
              "  inputElement.disabled = false;\n",
              "\n",
              "  const outputElement = document.getElementById(outputId);\n",
              "  outputElement.innerHTML = '';\n",
              "\n",
              "  const pickedPromise = new Promise((resolve) => {\n",
              "    inputElement.addEventListener('change', (e) => {\n",
              "      resolve(e.target.files);\n",
              "    });\n",
              "  });\n",
              "\n",
              "  const cancel = document.createElement('button');\n",
              "  inputElement.parentElement.appendChild(cancel);\n",
              "  cancel.textContent = 'Cancel upload';\n",
              "  const cancelPromise = new Promise((resolve) => {\n",
              "    cancel.onclick = () => {\n",
              "      resolve(null);\n",
              "    };\n",
              "  });\n",
              "\n",
              "  // Wait for the user to pick the files.\n",
              "  const files = yield {\n",
              "    promise: Promise.race([pickedPromise, cancelPromise]),\n",
              "    response: {\n",
              "      action: 'starting',\n",
              "    }\n",
              "  };\n",
              "\n",
              "  cancel.remove();\n",
              "\n",
              "  // Disable the input element since further picks are not allowed.\n",
              "  inputElement.disabled = true;\n",
              "\n",
              "  if (!files) {\n",
              "    return {\n",
              "      response: {\n",
              "        action: 'complete',\n",
              "      }\n",
              "    };\n",
              "  }\n",
              "\n",
              "  for (const file of files) {\n",
              "    const li = document.createElement('li');\n",
              "    li.append(span(file.name, {fontWeight: 'bold'}));\n",
              "    li.append(span(\n",
              "        `(${file.type || 'n/a'}) - ${file.size} bytes, ` +\n",
              "        `last modified: ${\n",
              "            file.lastModifiedDate ? file.lastModifiedDate.toLocaleDateString() :\n",
              "                                    'n/a'} - `));\n",
              "    const percent = span('0% done');\n",
              "    li.appendChild(percent);\n",
              "\n",
              "    outputElement.appendChild(li);\n",
              "\n",
              "    const fileDataPromise = new Promise((resolve) => {\n",
              "      const reader = new FileReader();\n",
              "      reader.onload = (e) => {\n",
              "        resolve(e.target.result);\n",
              "      };\n",
              "      reader.readAsArrayBuffer(file);\n",
              "    });\n",
              "    // Wait for the data to be ready.\n",
              "    let fileData = yield {\n",
              "      promise: fileDataPromise,\n",
              "      response: {\n",
              "        action: 'continue',\n",
              "      }\n",
              "    };\n",
              "\n",
              "    // Use a chunked sending to avoid message size limits. See b/62115660.\n",
              "    let position = 0;\n",
              "    do {\n",
              "      const length = Math.min(fileData.byteLength - position, MAX_PAYLOAD_SIZE);\n",
              "      const chunk = new Uint8Array(fileData, position, length);\n",
              "      position += length;\n",
              "\n",
              "      const base64 = btoa(String.fromCharCode.apply(null, chunk));\n",
              "      yield {\n",
              "        response: {\n",
              "          action: 'append',\n",
              "          file: file.name,\n",
              "          data: base64,\n",
              "        },\n",
              "      };\n",
              "\n",
              "      let percentDone = fileData.byteLength === 0 ?\n",
              "          100 :\n",
              "          Math.round((position / fileData.byteLength) * 100);\n",
              "      percent.textContent = `${percentDone}% done`;\n",
              "\n",
              "    } while (position < fileData.byteLength);\n",
              "  }\n",
              "\n",
              "  // All done.\n",
              "  yield {\n",
              "    response: {\n",
              "      action: 'complete',\n",
              "    }\n",
              "  };\n",
              "}\n",
              "\n",
              "scope.google = scope.google || {};\n",
              "scope.google.colab = scope.google.colab || {};\n",
              "scope.google.colab._files = {\n",
              "  _uploadFiles,\n",
              "  _uploadFilesContinue,\n",
              "};\n",
              "})(self);\n",
              "</script> "
            ]
          },
          "metadata": {}
        },
        {
          "output_type": "stream",
          "name": "stdout",
          "text": [
            "Saving mestrado.txt to mestrado.txt\n"
          ]
        }
      ]
    },
    {
      "cell_type": "code",
      "source": [
        "#fazendo a leitura do arquivo\n",
        "f = open('mestrado.txt', 'r')\n",
        "texto = ''\n",
        "while 1:\n",
        "    line = f.readline()\n",
        "    if not line: break\n",
        "    texto += line\n",
        "f.close()\n",
        "\n",
        "print(texto)\n",
        "print(type(texto))"
      ],
      "metadata": {
        "colab": {
          "base_uri": "https://localhost:8080/"
        },
        "id": "xlVReVAEVUDE",
        "outputId": "16670853-58c7-4b5a-f20f-b00bbaab1248"
      },
      "execution_count": null,
      "outputs": [
        {
          "output_type": "stream",
          "name": "stdout",
          "text": [
            "\n",
            "A primeira pergunta é sobre um pouco da minha história no território. Então, eu cheguei no território em 1994, tinha 7 anos de idade quando fui morar no paraisópolis, fui morar por ocasião de um despejo, ordem de despejo que  a prefeitura fez do outro lado do rio que era a comunidade do jardim Edite I que compreendia ali onde fica a rede globo na Luís Carlos Berrini, a avenida hoje roberto marinho que era chamada avenida Águas Espraiadas.\n",
            "\n",
            "Minha mãe veio da zona leste para trabalhar na zona sul nessas casas de família da região Brooklin e  todas essas regiões, ela se instalou ali, comprou um barraquinho ali e eu era garoto. A gente foi morar ali e com a ordem de despejo a prefeitura colocou à disposição o valor na época, 5 mil reais ou 4 mil, e minha mãe conseguiu comprar barraquinho em Paraisópolis e a gente se mudou pra cá. \n",
            "\n",
            "E eu lembro que ali em 1990 paraisópolis era assim um lugar ainda mais precário em recursos. Eu me lembro que morava numa das principais ruas e ficava a famosa sedinha onde fica a sede dos representantes comunitários e comerciais de paraisópolis e essa rua, por exemplo, a parte que eu morava e está associação, não tinha asfalto, poucas ruas com asfalto, fazia-se vaquinha para alugar caminhão e comprar concreto e todo mundo criança, mulheres, pessoas mais velhas espalharam o concreto e assim foi o asfaltamento de muitas ruas e eu participei disso naquela ocasião. \n",
            "\n",
            "Esse território, naquele período, marcado por uma escassez, por exemplo, eu fiquei um ano fora da escola, um ano atrasado porque não tinha vagas, tinha pouca escolas em paraisópolis pro ensino fundamental, não tinha escolas para ensino médio naquele período e o pessoal mais velho tinha estudar em lugares pertos tipo Vila Sônia, Campo Limpo. Lembro aqui no Campo Limpo  ensino médio tinha o Solito, um colégio relativamente distante, mas amigos meus mais velhos se formaram nessas regiões dentro do Campo Limpo e Vila Sônia porque não tinha naquele período escola de ensino médio . E foi um pouco assim meu começo de história com Paraisopolis. \n",
            "\n",
            "Todo esse contexto que to te falando de escassez, das pessoas se unindo para asfaltar e eu vivia em uma rua, nas vielas, imagina quem vivia nas vielas? Uma coisa interessante nessa forma de viver na comunidade de paraisópolis naquele período, que não é mais assim, paraisópolis cresceu demais, uma das maiores do brasil, mas naquele período era menor e a pessoas eram mais próximas, a gente conhecia mais as pessoas, hoje eu circulo em paraisópolis e conheço poucas pessoas, mas quando eu era garoto todo mundo já sabia e se eu fosse aprontar era “o dona luzia, encontrei o jonathans’ era tip cidadezinha e as pessoas se conheciam. \n",
            "\n",
            "E pra falar de onde vem as pessoas dali, a maioria dos meus colegas eram do nordeste, menos do norte e sudeste, minas gerais, rio de janeiro muito pouco. Esmagadora maioria nordeste, piauí, ceará, pernambuco, umas pessoas que vinham final anos 80 e alguns poucos anos 70 para paraisópolis e assentaram ali e construíram suas vidas. \n",
            "\n",
            "Hoje eu não moro mais lá e saí de lá com 29 anos, hoje tenho 32, faz quatro anos. Sempre foi muito difícil no ponto de vista do acesso aos serviços públicos, mesmo hoje e não só no paraisópolis, mas numa favela, numa comunidade isso é exacerbado, é bastante nítido ver as carências. Só conseguimos entrar na escola por conta de uma parceria que o único colégio aqui no paraisópolis fez com um colégio privado do Morumbi, famoso Pio XII que construíram uma escola anexa, super pequenininha pra abrigar a gente porque é um terreno grande e a gente estudou lá, então a gente atravessava todo coração do morumbi pra chegar ali, perto do extra da marginal pra estudar.\n",
            "\n",
            "Esporte? Você tinha os campinhos, hoje só tem um. Dentro das comunidades tem uma especulação imobiliária feroz, todo espaço é muito disputado e é tudo muito caro por estar no coração do Morumbi. Muitas pessoas vêm de fora, de outras comunidades ao redor, Jardim Colombo, Real Parque, Vila Prel, Panorama também vão até a comunidade de paraisópolis para usar o que tem, tem parente que mora lá, e tudo isso gera muita demanda e o estado fechou os olhos para as comunidades.\n",
            "\n",
            "Paraisópolis sempre foi uma pedra no sapato dos governos. O primeiro a tentar fazer o que foi feito de despejo lá no Jardim Edite foi o Maluf, tentou indenizar algumas famílias, só que Paraisopolis tomou uma proporção tão grande que não conseguiram fazer. Só que existem maneiras de sufocar a população e uma delas é a escassez de serviços e recursos. \n",
            "\n",
            "Hoje acho que é uma realidade diferente, está nas mídias, dá pra ver que tem bastante coisa, claro que ainda sim não alcança todo mundo, é muito difícil alcançar determinados grupos. Dentro da comunidade também tem grupos, uma estratificação grande. Mas não há dúvidas que melhor que anos 90 e início dos anos 2000. A possibilidade de prática esportiva era muito vaga. Hoje Paraisópolis tem escolas grandes de vários níveis, tem o CEU e o CEU Paraisópolis é um modelo em todos os sentidos: cursos, o teatro é um dos melhores de São Paulo e peças importantes aconteceram por lá, tem amostras de arte. \n",
            "\n",
            "Foi evoluindo, mas muita coisa é recente e não dá pra falar também que está tudo bem, principalmente na área da saúde que são muitos gargalos. \n",
            "\n",
            "Não moro mais lá, mas lá estão minhas referências de vida. Fui ficando adulto, entrei na universidade e em paraisópolis conheci o cursinho gratuito no qual eu consegui depois ingressar na universidade e fui convidado a voltar e ser professor, coordenador e depois presidente. E na universidade a coisa melhorou financeiramente, estudando e trabalhando. \n",
            "\n",
            "Muitos problemas com correspondência, sem o correio, isso tudo foi se juntando. Eu morava próximo ao pancadão da DZ17, numa rotina de trabalhos e estudos. Dava quinta-feira a segunda-feira de manhã já não conseguia mais dormir. Então eu entendi que o mais adequado a se fazer era procurar um lugar tranquilo. E me formando e com trabalho melhor tive condições de alugar uma casa em outro bairro. Esse foi o principal motivo para me mudar de Paraisópolis para o Campo Limpo. \n",
            "\n",
            "E você me perguntando as diferenças de acesso desses lugares. É absurdo, o espaço geográfico das vielas, os próprios pancadões que são difíceis de controlar, a superlotação e isso são realidades do território de paraisópolis hoje, agora. \n",
            "\n",
            "Aqui não é nada comparado a uma superlotação, o sistema viário de transporte em Paraisópolis é extremamente deficitário e quando acontecem os bailes os ônibus não param, a garotada lota os pontos, às vezes embriagados. Então se você for pegar ônibus de manhã precisa se locomover até outro ponto e isso acontece até hoje, agora, se você for lá na segunda-feira vai passar por isso.\n",
            "\n",
            "\n",
            "Para minha mãe que ainda está em paraisópolis, meus amigos e família na pandemia, foi difícil porque já era muito difícil e com a pandemia isso se multiplicou. Eu passava dois dias da semana com minha mãe, era um lugar relativamente tranquilo. E era sem médico, sem especialista, renda baixa, muito difícil, a pandemia veio como uma pá de cal. \n",
            "\n",
            "Meu irmão que faleceu era entregador de ifood, meu outro irmão trabalhava como caixa do Carrefour e minha mãe empregada doméstica. Como é que não vai sair? pagando aluguel, como vai pagar aluguel e comer? E você soma isso com espaços super apertados, como faz isolamento?\n",
            "\n",
            "Muito triste um pai de familia nao poder trabalhar, incertezas, ter que se isolar em outro lugar que não é em casa. \n",
            "\n",
            "Minha mãe sem trabalhar, fiquei super preocupado.\n",
            " \n",
            "E aí a gente chega no projeto em si né. Minha mãe me ligou em meados de março, a gente achava que a pandemia ia ser uma coisa rápida, mas as patroas já começaram a ligar cancelando as diárias e eu enquanto professor de cursinho fiquei pensando quantas mães iguais às minhas mães estariam nessa situação e quantos Jonathan estariam nessa situação, jovens sonhando em melhorar a vida. \n",
            "\n",
            "Chamei algumas pessoas do cursinho, majoritariamente professoras, e pensamos nas possibilidades do que fazer e a gente pensou em Paraisópolis e nos alunos do nosso cursinho. A estratégia foi fazer o levantamento de quantas mães que também eram diaristas e tinham perdido seus dias de trabalho no nosso cursinho. Colocamos a mão na massa, criamos planilha do Excel, criamos uns forms, chamamos pessoas pra ajudar e deu 15 mães sem ganho, domésticas e comerciantes. Vamos ajudar essas pessoas.\n",
            "\n",
            "A gente descartou de pronto a questão de ajudar com cesta, pensamos na aglomeração que isso ia gerar e pegar ou pegar o vírus. Definimos que seria uma ajuda financeira depositada nas contas, vamos fixar um valor para que a cada 15 dias. Pensamos em um valor viável, será que 400 a gente consegue? Como a gente vai conseguir esse dinheiro?\n",
            "\n",
            "Começamos entre nós a doação e depois o crossfader.  Uma colega designer montou o site, escolhemos o vakinha, vimos quando descansavam, e se era de fácil usabilidade pras pessoas doarem. E aí começamos uma divulgação em massa, uma campanha massiva com imagens textos\n",
            "\n",
            "Em pouco tempo, menos de 15 dias a gente já tinha o dinheiro do primeiro depósito para essas 15 mães, fomos atrás de como guardar esses dados, sempre com muito cuidado e distribuímos esse dinheiro. Depois tínhamos um mês garantido, nos antecipamos ao governo, já sabíamos que 200 reais não dava pra nada, \n",
            "\n",
            "Isso tomou uma proporção que a gente não esperava, essa divulgação entre amigos e conhecidos chegam a lugares que foram fundamentais para divulgação da campanha. \n",
            "\n",
            "Chegou no ouvido de jornalistas renomados. Caiu no ouvido da Mônica Bergamo, então ela veio falar com a gente, pediu para escrever um texto e publicou esse texto na  coluna dela da Folha de São Paulo na página principal. Outras pessoas que viram a Mônica veio falar com a gente e a TV Cultura me entrevistou ao vivo na hora do almoço, jornais internacionais que também queriam aplicar a ideia e condomínios no Morumbi entravam em contato que ajudavam na arrecadação e depositavam. \n",
            "\n",
            "Em quatro cinco meses já tínhamos 50 mil reais e ajudamos mais de 30 famílias não só de paraisópolis, como de ocupações em Mauá, em Suzano. Governadores e deputados entram em contato para saber se era possível divulgar para incluir pessoas na lista, mas o dinheiro entrava na conta e já saia, precisava de limite.  \n",
            "\n",
            "A campanha durou 2 anos, e no último eu já estava muito esgotado, muita gente, muita energia, triste, mães me mandavam fotos quando recebiam o dinheiro, fotos e vídeos agradecendo chorando e a gente absorve essa energia. O pessoal queria seguir e fazer desse projeto um programa, mas naquele momento eu não tinha essa força, está tudo guardado e documentado, o projeto ganhou prêmios e foi citado como modelo, mas surgiu sem nenhuma pretensão e apenas surgiu.\n",
            "\n",
            "Se a gente teve apoio do governo, não. Nenhuma secretaria, fonte de fomento entrou em contato. O que tocou foram os educadores do cursinho, a ideia que eu tive, que nós tivemos, e construíram e de forma espontânea e voluntária, nada institucional. Forças instantâneas.\n",
            "\n",
            "\n",
            "Primeiro eu vou me apresentar, eu sou Glória Maria, eu tenho vinte e três anos. Sou mãe da Manu, uma criança de oito anos e eu nasci no estado de Brasília. Eu vim morar aqui em São Paulo aos quatorze anos, assim que eu tive a Manu eu vim pra cá que eu morava em Brasília com a minha avó e meus pais sempre moraram aqui no Paraisópolis.\n",
            "\n",
            "E foi assim que eu conheci Paraisópolis assim, né? A partir dessa transição de quando eu saio de uma periferia de Brasília que se chamava Samambaia Sul (egião administrativa do Distrito Federal brasileiro) e venho morar aqui em São Paulo, no Paraisópolis. \n",
            "\n",
            "Como eu me sinto em relação a Paraisópolis? Foi um processo de descoberta né? Entender o que é esse território e quais são as ações, quais são as lacunas, as demandas, enfim, as violações que existem neste território foi uma coisa que levou um tempo. \n",
            "\n",
            "E de certa forma isso veio a partir do movimento de ocupações, né? Em dois mil e quinze ocupações das escolas estaduais, né? Contra a reorganização que o Alckmin estava fazendo. \n",
            "\n",
            "Então eu acho que agora sabendo o que eu sinto que o Paraisópolis é um território que me faz que eu sinto tipo muitas potências mas ao mesmo tempo também muitas violações, né? Eu acho que isso também não talvez não se difere de outros territórios.\n",
            "\n",
            "Sobre a sua pergunta sobre o acesso a transporte, lazer e cultura em Paraisópolis, olha aqui no Paraisópolis existe um polo muito focado na própria comunidade, né? Tem muita coisa, tem muita loja, tem muito movimento acontecendo. A economia é muito grande, né? Circula muita grana desses comércios, enfim. \n",
            "\n",
            "O transporte, mano, é, a gente tem né. Existe sim uma certa dificuldade para locomoção pela questão de superlotação mesmo. \n",
            "\n",
            "Acho que é uma um problema bem comum também essa questão do lazer e cultura, eu acho que é uma coisa que pega muito porque o Paraisópolis é um espaço que não tem nem calçada, quem dirá um espaço de lazer.\n",
            "\n",
            "É, a gente já reivindicou para ter casa de cultura aqui, só que a prefeitura sempre justifica que é a casa de cultura por subprefeitura e a subprefeitura de Paraisópolis é o Campo Limpo e lá já existe. Mas não tem condição de eu que sou moradora de Paraisópolis me deslocar pro Campo Limpo que é contramão, sabe? Então a gente tem muita dificuldade de ter espaço de lazer, e os espaços de lazer que a gente tem próximo aqui é da galera do Morumbi que é um espaço totalmente elitizado com coisas caras enfim é que não é feito pra gente né então o que falar sinceramente não tem espaço de lazer nenhum a cultura quem move é quem está aqui dentro então são coletivos independentes.\n",
            "\n",
            "Eu fiz a batalha do Paraisópolis, né? Sou uma das fundadoras da batalha do Paraisópolis. E eu e o meu companheiro Mike que fazemos a batalha já tem cinco anos, a gente está parando com ela agora porque a gente vai iniciar outro projeto que se chama Sete Notas que vai ser voltado ser o Estúdio e voltado pros artistas independentes daqui, né?\n",
            "\n",
            "O Estúdio de gravação, enfim… Mas a cultura ela só existe porque quem mora aqui está fazendo sabe? Porque se for ver alguma coisa do estado tipo, mano, não tem.\n",
            "\n",
            "É sobre a pandemia, agora na parte da pandemia. É na pandemia, foi bem difícil assim né? Porque Paraisópolis é um território que não dorme, é um território que as pessoas não param de circular. Então no começo a galera deu uma acalmada mas depois tudo voltou assim né? Tudo voltou. Teve então todos os rolês e tudo assim durante toda a pandemia. \n",
            "\n",
            "Foi bem caótico.\n",
            "\n",
            "Mas teve uma organização muito boa, a galera do G10 que tem ambulâncias, né? Então tipo aqui a ambulância do SUS não entra aqui. Então a galera contratou ambulâncias para atender a galera. Teve também o projeto das marmitas. Então essa mobilização de organizações aqui, não só a do G10, mas a batalha por exemplo distribuiu algumas cestas e eu acho que foram cerca de quatrocentas cestas básicas em parceria com a Uneafro. Teve também os projetos da CUFA.\n",
            "\n",
            "Então várias ações e vários coletivos se organizaram para conseguir fortalecer a comunidade principalmente nessa questão de alimentação, né? Porque essa pessoa não está trabalhando? Como que ela vai comprar o alimento? \n",
            "\n",
            "Essa parte de ação social é a batalha, mas a gente costuma, a gente costuma fazer tudo de forma independente, sem apoio.\n",
            "\n",
            "A Batalha, por exemplo, só teve um apoio que foi em dois mil e dezoito que foi o VAI, aí agora a gente está vindo com Sete Notas que é o estúdio a gente conseguiu o apoio do VAI, né? Só que a gente ainda não começou, então é uma coisa que ainda está em processo.\n",
            "\n",
            "Eu acredito que a importância da atuação social é fortalecer mesmo as famílias, né? Porque as pessoas estão em situações tão vulneráveis assim em geral, né? Todo mundo e aí quando vem uma doença ou  qualquer outra coisa isso impacta muito na questão da grana que essa pessoa tinha pra se alimentar, com isso e muita gente que perdeu o emprego não é?\n",
            "\n",
            " Então como essas pessoas podem fazer se não se a gente está num momento tão sensível de desemprego. E também em que as coisas estão extremamente caras. Que a gente está voltando ali pra miséria mesmo, sabe? A galera está voltando pra fome. Então a solução é ter ações sociais, é olhar pra essas pra esse público, sabe?\n",
            "\n",
            "É olhar para esse recorte de pessoas que estão passando por essa situação. \n",
            "\n",
            "É essas ações despertam em mim o sentido da vida mesmo tá ligado? \n",
            "\n",
            "Porque eu fico pensando assim tá? Eu estou trampando e pá estou fazendo o meu corre mas eu acredito que o meu corre ele também tem que estar direcionado para o pro coletivo, né? E pra outras pessoas, enfim, e pras demandas que a gente tem coletivamente, né? Porque o que atravessa o meu vizinho também me atravessa.\n",
            "\n",
            "A violência policial que bate na porta da minha casa, bate não, arromba. \n",
            "\n",
            "Também o que acontece com meu vizinho né? Então não tem como eu não despertar esse senso de coletividade está ligado? Acho que é isso.\n",
            "\n",
            "\n",
            "Conheci Paraisópolis através dos meus pais e das minhas irmãs. Eu sou baiana natural de Salvador. E eles vieram tentar mudar o nosso quadro de vida e perspectiva. Chegaram aqui no ano de 1994, e eu vim só no ano de 2000.\n",
            "\n",
            "No começo não gostei muito de Paraisópolis, mas depois de cinco meses comecei a trabalhar, voltei a estudar, porque logo percebi que para mudar meu destino eu precisava voltar a estudar aqui.\n",
            "\n",
            "Quando cheguei aqui, no ano de 2000 estranhei muito tudo aqui, como morava em cidade praiana e com um ritmo de vida totalmente diferente, além de que até às casas são de proporções diferentes, tudo isso acabou me afetando um pouco, mas logo após cinco meses aqui comecei a trabalhar, acabei por me acostumar.\n",
            " \n",
            "Paraisópolis mudou tanto, cresceu tanto e junto com esse crescimento veio também as adversidades, os desafios de morar em um lugar assim.\n",
            "\n",
            "Mas na verdade, em matéria de segurança me sinto muito mais segura aqui dentro. A comunidade tem seus desafios, mas tem suas formas de acolhimento também. Muita coisa boa e muita gente de boa fé disposta a fazer a diferença também.\n",
            "\n",
            "Aqui temos transporte praticamente para todas as principais regiões, mas é claro que um transporte no segmento ferroviário seria de grande valia também.\n",
            "\n",
            "Desde a época da então prefeita Marta Suplicy, existiam projetos para a linha ferroviária, depois o Mário Covas, falou também sobre o monotrilho e não aconteceu.\n",
            "\n",
            "Pensando em cultura, temos um campo muito conhecido também, o campo do palmeirinha, que traz bastante torneios aqui pra população, e ajuda não só o lazer como também a economia.\n",
            "\n",
            "Ainda pensando sobre o lazer, temos parque de diversões também, praças e muitos shows, temos ONGs... Estamos bem servidos, mas lógico que para atender uma população do tamanho da nossa, certamente precisaríamos de mais.\n",
            "\n",
            "Em saúde também, para atender o tamanho da população precisamos de mais equipamentos. \n",
            "\n",
            "O começo da pandemia foi difícil pra todo mundo, não tínhamos nenhum conhecimento aprimorando de nada, mas com muito trabalho e dedicação do SUS, em conjunto com a colaboração da população, conseguimos atingir com eficácia.\n",
            "\n",
            "Lógico que tivemos os desafios do desemprego, um aumento considerável de pessoas em situação de rua. Mas tivemos também bastante ajuda aqui na comunidade, muitas doações, óbvio que com a redução do crescimento essas doações diminuíram, o que acabou afetou e afeta muito essa parte da população.\n",
            "\n",
            "Infelizmente não participei de nenhuma atuação, apenas trabalho. Trabalhei fora, agora que trabalho aqui na UBS Paraisopolis um. \n",
            "\n",
            "E gosto muito de morar aqui. Temos acesso a tudo aqui.\n",
            "\n",
            "\n",
            "<class 'str'>\n"
          ]
        }
      ]
    },
    {
      "cell_type": "code",
      "source": [
        "f #meu arquivo"
      ],
      "metadata": {
        "colab": {
          "base_uri": "https://localhost:8080/"
        },
        "id": "mO8YX0aMVXdE",
        "outputId": "be5b4ad0-a209-4380-e8af-d2bde24f84fe"
      },
      "execution_count": null,
      "outputs": [
        {
          "output_type": "execute_result",
          "data": {
            "text/plain": [
              "<_io.TextIOWrapper name='mestrado.txt' mode='r' encoding='UTF-8'>"
            ]
          },
          "metadata": {},
          "execution_count": 8
        }
      ]
    },
    {
      "cell_type": "code",
      "source": [
        "texto #meu texto\n"
      ],
      "metadata": {
        "colab": {
          "base_uri": "https://localhost:8080/",
          "height": 146
        },
        "id": "cAD1yOjrVZCc",
        "outputId": "10f71893-bbb7-4187-a7bd-bc7adab4eeae"
      },
      "execution_count": null,
      "outputs": [
        {
          "output_type": "execute_result",
          "data": {
            "text/plain": [
              "'\\nA primeira pergunta é sobre um pouco da minha história no território. Então, eu cheguei no território em 1994, tinha 7 anos de idade quando fui morar no paraisópolis, fui morar por ocasião de um despejo, ordem de despejo que  a prefeitura fez do outro lado do rio que era a comunidade do jardim Edite I que compreendia ali onde fica a rede globo na Luís Carlos Berrini, a avenida hoje roberto marinho que era chamada avenida Águas Espraiadas.\\n\\nMinha mãe veio da zona leste para trabalhar na zona sul nessas casas de família da região Brooklin e  todas essas regiões, ela se instalou ali, comprou um barraquinho ali e eu era garoto. A gente foi morar ali e com a ordem de despejo a prefeitura colocou à disposição o valor na época, 5 mil reais ou 4 mil, e minha mãe conseguiu comprar barraquinho em Paraisópolis e a gente se mudou pra cá. \\n\\nE eu lembro que ali em 1990 paraisópolis era assim um lugar ainda mais precário em recursos. Eu me lembro que morava numa das principais ruas e ficava a famosa sedinha onde fica a sede dos representantes comunitários e comerciais de paraisópolis e essa rua, por exemplo, a parte que eu morava e está associação, não tinha asfalto, poucas ruas com asfalto, fazia-se vaquinha para alugar caminhão e comprar concreto e todo mundo criança, mulheres, pessoas mais velhas espalharam o concreto e assim foi o asfaltamento de muitas ruas e eu participei disso naquela ocasião. \\n\\nEsse território, naquele período, marcado por uma escassez, por exemplo, eu fiquei um ano fora da escola, um ano atrasado porque não tinha vagas, tinha pouca escolas em paraisópolis pro ensino fundamental, não tinha escolas para ensino médio naquele período e o pessoal mais velho tinha estudar em lugares pertos tipo Vila Sônia, Campo Limpo. Lembro aqui no Campo Limpo  ensino médio tinha o Solito, um colégio relativamente distante, mas amigos meus mais velhos se formaram nessas regiões dentro do Campo Limpo e Vila Sônia porque não tinha naquele período escola de ensino médio . E foi um pouco assim meu começo de história com Paraisopolis. \\n\\nTodo esse contexto que to te falando de escassez, das pessoas se unindo para asfaltar e eu vivia em uma rua, nas vielas, imagina quem vivia nas vielas? Uma coisa interessante nessa forma de viver na comunidade de paraisópolis naquele período, que não é mais assim, paraisópolis cresceu demais, uma das maiores do brasil, mas naquele período era menor e a pessoas eram mais próximas, a gente conhecia mais as pessoas, hoje eu circulo em paraisópolis e conheço poucas pessoas, mas quando eu era garoto todo mundo já sabia e se eu fosse aprontar era “o dona luzia, encontrei o jonathans’ era tip cidadezinha e as pessoas se conheciam. \\n\\nE pra falar de onde vem as pessoas dali, a maioria dos meus colegas eram do nordeste, menos do norte e sudeste, minas gerais, rio de janeiro muito pouco. Esmagadora maioria nordeste, piauí, ceará, pernambuco, umas pessoas que vinham final anos 80 e alguns poucos anos 70 para paraisópolis e assentaram ali e construíram suas vidas. \\n\\nHoje eu não moro mais lá e saí de lá com 29 anos, hoje tenho 32, faz quatro anos. Sempre foi muito difícil no ponto de vista do acesso aos serviços públicos, mesmo hoje e não só no paraisópolis, mas numa favela, numa comunidade isso é exacerbado, é bastante nítido ver as carências. Só conseguimos entrar na escola por conta de uma parceria que o único colégio aqui no paraisópolis fez com um colégio privado do Morumbi, famoso Pio XII que construíram uma escola anexa, super pequenininha pra abrigar a gente porque é um terreno grande e a gente estudou lá, então a gente atravessava todo coração do morumbi pra chegar ali, perto do extra da marginal pra estudar.\\n\\nEsporte? Você tinha os campinhos, hoje só tem um. Dentro das comunidades tem uma especulação imobiliária feroz, todo espaço é muito disputado e é tudo muito caro por estar no coração do Morumbi. Muitas pessoas vêm de fora, de outras comunidades ao redor, Jardim Colombo, Real Parque, Vila Prel, Panorama também vão até a comunidade de paraisópolis para usar o que tem, tem parente que mora lá, e tudo isso gera muita demanda e o estado fechou os olhos para as comunidades.\\n\\nParaisópolis sempre foi uma pedra no sapato dos governos. O primeiro a tentar fazer o que foi feito de despejo lá no Jardim Edite foi o Maluf, tentou indenizar algumas famílias, só que Paraisopolis tomou uma proporção tão grande que não conseguiram fazer. Só que existem maneiras de sufocar a população e uma delas é a escassez de serviços e recursos. \\n\\nHoje acho que é uma realidade diferente, está nas mídias, dá pra ver que tem bastante coisa, claro que ainda sim não alcança todo mundo, é muito difícil alcançar determinados grupos. Dentro da comunidade também tem grupos, uma estratificação grande. Mas não há dúvidas que melhor que anos 90 e início dos anos 2000. A possibilidade de prática esportiva era muito vaga. Hoje Paraisópolis tem escolas grandes de vários níveis, tem o CEU e o CEU Paraisópolis é um modelo em todos os sentidos: cursos, o teatro é um dos melhores de São Paulo e peças importantes aconteceram por lá, tem amostras de arte. \\n\\nFoi evoluindo, mas muita coisa é recente e não dá pra falar também que está tudo bem, principalmente na área da saúde que são muitos gargalos. \\n\\nNão moro mais lá, mas lá estão minhas referências de vida. Fui ficando adulto, entrei na universidade e em paraisópolis conheci o cursinho gratuito no qual eu consegui depois ingressar na universidade e fui convidado a voltar e ser professor, coordenador e depois presidente. E na universidade a coisa melhorou financeiramente, estudando e trabalhando. \\n\\nMuitos problemas com correspondência, sem o correio, isso tudo foi se juntando. Eu morava próximo ao pancadão da DZ17, numa rotina de trabalhos e estudos. Dava quinta-feira a segunda-feira de manhã já não conseguia mais dormir. Então eu entendi que o mais adequado a se fazer era procurar um lugar tranquilo. E me formando e com trabalho melhor tive condições de alugar uma casa em outro bairro. Esse foi o principal motivo para me mudar de Paraisópolis para o Campo Limpo. \\n\\nE você me perguntando as diferenças de acesso desses lugares. É absurdo, o espaço geográfico das vielas, os próprios pancadões que são difíceis de controlar, a superlotação e isso são realidades do território de paraisópolis hoje, agora. \\n\\nAqui não é nada comparado a uma superlotação, o sistema viário de transporte em Paraisópolis é extremamente deficitário e quando acontecem os bailes os ônibus não param, a garotada lota os pontos, às vezes embriagados. Então se você for pegar ônibus de manhã precisa se locomover até outro ponto e isso acontece até hoje, agora, se você for lá na segunda-feira vai passar por isso.\\n\\n\\nPara minha mãe que ainda está em paraisópolis, meus amigos e família na pandemia, foi difícil porque já era muito difícil e com a pandemia isso se multiplicou. Eu passava dois dias da semana com minha mãe, era um lugar relativamente tranquilo. E era sem médico, sem especialista, renda baixa, muito difícil, a pandemia veio como uma pá de cal. \\n\\nMeu irmão que faleceu era entregador de ifood, meu outro irmão trabalhava como caixa do Carrefour e minha mãe empregada doméstica. Como é que não vai sair? pagando aluguel, como vai pagar aluguel e comer? E você soma isso com espaços super apertados, como faz isolamento?\\n\\nMuito triste um pai de familia nao poder trabalhar, incertezas, ter que se isolar em outro lugar que não é em casa. \\n\\nMinha mãe sem trabalhar, fiquei super preocupado.\\n \\nE aí a gente chega no projeto em si né. Minha mãe me ligou em meados de março, a gente achava que a pandemia ia ser uma coisa rápida, mas as patroas já começaram a ligar cancelando as diárias e eu enquanto professor de cursinho fiquei pensando quantas mães iguais às minhas mães estariam nessa situação e quantos Jonathan estariam nessa situação, jovens sonhando em melhorar a vida. \\n\\nChamei algumas pessoas do cursinho, majoritariamente professoras, e pensamos nas possibilidades do que fazer e a gente pensou em Paraisópolis e nos alunos do nosso cursinho. A estratégia foi fazer o levantamento de quantas mães que também eram diaristas e tinham perdido seus dias de trabalho no nosso cursinho. Colocamos a mão na massa, criamos planilha do Excel, criamos uns forms, chamamos pessoas pra ajudar e deu 15 mães sem ganho, domésticas e comerciantes. Vamos ajudar essas pessoas.\\n\\nA gente descartou de pronto a questão de ajudar com cesta, pensamos na aglomeração que isso ia gerar e pegar ou pegar o vírus. Definimos que seria uma ajuda financeira depositada nas contas, vamos fixar um valor para que a cada 15 dias. Pensamos em um valor viável, será que 400 a gente consegue? Como a gente vai conseguir esse dinheiro?\\n\\nComeçamos entre nós a doação e depois o crossfader.  Uma colega designer montou o site, escolhemos o vakinha, vimos quando descansavam, e se era de fácil usabilidade pras pessoas doarem. E aí começamos uma divulgação em massa, uma campanha massiva com imagens textos\\n\\nEm pouco tempo, menos de 15 dias a gente já tinha o dinheiro do primeiro depósito para essas 15 mães, fomos atrás de como guardar esses dados, sempre com muito cuidado e distribuímos esse dinheiro. Depois tínhamos um mês garantido, nos antecipamos ao governo, já sabíamos que 200 reais não dava pra nada, \\n\\nIsso tomou uma proporção que a gente não esperava, essa divulgação entre amigos e conhecidos chegam a lugares que foram fundamentais para divulgação da campanha. \\n\\nChegou no ouvido de jornalistas renomados. Caiu no ouvido da Mônica Bergamo, então ela veio falar com a gente, pediu para escrever um texto e publicou esse texto na  coluna dela da Folha de São Paulo na página principal. Outras pessoas que viram a Mônica veio falar com a gente e a TV Cultura me entrevistou ao vivo na hora do almoço, jornais internacionais que também queriam aplicar a ideia e condomínios no Morumbi entravam em contato que ajudavam na arrecadação e depositavam. \\n\\nEm quatro cinco meses já tínhamos 50 mil reais e ajudamos mais de 30 famílias não só de paraisópolis, como de ocupações em Mauá, em Suzano. Governadores e deputados entram em contato para saber se era possível divulgar para incluir pessoas na lista, mas o dinheiro entrava na conta e já saia, precisava de limite.  \\n\\nA campanha durou 2 anos, e no último eu já estava muito esgotado, muita gente, muita energia, triste, mães me mandavam fotos quando recebiam o dinheiro, fotos e vídeos agradecendo chorando e a gente absorve essa energia. O pessoal queria seguir e fazer desse projeto um programa, mas naquele momento eu não tinha essa força, está tudo guardado e documentado, o projeto ganhou prêmios e foi citado como modelo, mas surgiu sem nenhuma pretensão e apenas surgiu.\\n\\nSe a gente teve apoio do governo, não. Nenhuma secretaria, fonte de fomento entrou em contato. O que tocou foram os educadores do cursinho, a ideia que eu tive, que nós tivemos, e construíram e de forma espontânea e voluntária, nada institucional. Forças instantâneas.\\n\\n\\nPrimeiro eu vou me apresentar, eu sou Glória Maria, eu tenho vinte e três anos. Sou mãe da Manu, uma criança de oito anos e eu nasci no estado de Brasília. Eu vim morar aqui em São Paulo aos quatorze anos, assim que eu tive a Manu eu vim pra cá que eu morava em Brasília com a minha avó e meus pais sempre moraram aqui no Paraisópolis.\\n\\nE foi assim que eu conheci Paraisópolis assim, né? A partir dessa transição de quando eu saio de uma periferia de Brasília que se chamava Samambaia Sul (egião administrativa do Distrito Federal brasileiro) e venho morar aqui em São Paulo, no Paraisópolis. \\n\\nComo eu me sinto em relação a Paraisópolis? Foi um processo de descoberta né? Entender o que é esse território e quais são as ações, quais são as lacunas, as demandas, enfim, as violações que existem neste território foi uma coisa que levou um tempo. \\n\\nE de certa forma isso veio a partir do movimento de ocupações, né? Em dois mil e quinze ocupações das escolas estaduais, né? Contra a reorganização que o Alckmin estava fazendo. \\n\\nEntão eu acho que agora sabendo o que eu sinto que o Paraisópolis é um território que me faz que eu sinto tipo muitas potências mas ao mesmo tempo também muitas violações, né? Eu acho que isso também não talvez não se difere de outros territórios.\\n\\nSobre a sua pergunta sobre o acesso a transporte, lazer e cultura em Paraisópolis, olha aqui no Paraisópolis existe um polo muito focado na própria comunidade, né? Tem muita coisa, tem muita loja, tem muito movimento acontecendo. A economia é muito grande, né? Circula muita grana desses comércios, enfim. \\n\\nO transporte, mano, é, a gente tem né. Existe sim uma certa dificuldade para locomoção pela questão de superlotação mesmo. \\n\\nAcho que é uma um problema bem comum também essa questão do lazer e cultura, eu acho que é uma coisa que pega muito porque o Paraisópolis é um espaço que não tem nem calçada, quem dirá um espaço de lazer.\\n\\nÉ, a gente já reivindicou para ter casa de cultura aqui, só que a prefeitura sempre justifica que é a casa de cultura por subprefeitura e a subprefeitura de Paraisópolis é o Campo Limpo e lá já existe. Mas não tem condição de eu que sou moradora de Paraisópolis me deslocar pro Campo Limpo que é contramão, sabe? Então a gente tem muita dificuldade de ter espaço de lazer, e os espaços de lazer que a gente tem próximo aqui é da galera do Morumbi que é um espaço totalmente elitizado com coisas caras enfim é que não é feito pra gente né então o que falar sinceramente não tem espaço de lazer nenhum a cultura quem move é quem está aqui dentro então são coletivos independentes.\\n\\nEu fiz a batalha do Paraisópolis, né? Sou uma das fundadoras da batalha do Paraisópolis. E eu e o meu companheiro Mike que fazemos a batalha já tem cinco anos, a gente está parando com ela agora porque a gente vai iniciar outro projeto que se chama Sete Notas que vai ser voltado ser o Estúdio e voltado pros artistas independentes daqui, né?\\n\\nO Estúdio de gravação, enfim… Mas a cultura ela só existe porque quem mora aqui está fazendo sabe? Porque se for ver alguma coisa do estado tipo, mano, não tem.\\n\\nÉ sobre a pandemia, agora na parte da pandemia. É na pandemia, foi bem difícil assim né? Porque Paraisópolis é um território que não dorme, é um território que as pessoas não param de circular. Então no começo a galera deu uma acalmada mas depois tudo voltou assim né? Tudo voltou. Teve então todos os rolês e tudo assim durante toda a pandemia. \\n\\nFoi bem caótico.\\n\\nMas teve uma organização muito boa, a galera do G10 que tem ambulâncias, né? Então tipo aqui a ambulância do SUS não entra aqui. Então a galera contratou ambulâncias para atender a galera. Teve também o projeto das marmitas. Então essa mobilização de organizações aqui, não só a do G10, mas a batalha por exemplo distribuiu algumas cestas e eu acho que foram cerca de quatrocentas cestas básicas em parceria com a Uneafro. Teve também os projetos da CUFA.\\n\\nEntão várias ações e vários coletivos se organizaram para conseguir fortalecer a comunidade principalmente nessa questão de alimentação, né? Porque essa pessoa não está trabalhando? Como que ela vai comprar o alimento? \\n\\nEssa parte de ação social é a batalha, mas a gente costuma, a gente costuma fazer tudo de forma independente, sem apoio.\\n\\nA Batalha, por exemplo, só teve um apoio que foi em dois mil e dezoito que foi o VAI, aí agora a gente está vindo com Sete Notas que é o estúdio a gente conseguiu o apoio do VAI, né? Só que a gente ainda não começou, então é uma coisa que ainda está em processo.\\n\\nEu acredito que a importância da atuação social é fortalecer mesmo as famílias, né? Porque as pessoas estão em situações tão vulneráveis assim em geral, né? Todo mundo e aí quando vem uma doença ou  qualquer outra coisa isso impacta muito na questão da grana que essa pessoa tinha pra se alimentar, com isso e muita gente que perdeu o emprego não é?\\n\\n Então como essas pessoas podem fazer se não se a gente está num momento tão sensível de desemprego. E também em que as coisas estão extremamente caras. Que a gente está voltando ali pra miséria mesmo, sabe? A galera está voltando pra fome. Então a solução é ter ações sociais, é olhar pra essas pra esse público, sabe?\\n\\nÉ olhar para esse recorte de pessoas que estão passando por essa situação. \\n\\nÉ essas ações despertam em mim o sentido da vida mesmo tá ligado? \\n\\nPorque eu fico pensando assim tá? Eu estou trampando e pá estou fazendo o meu corre mas eu acredito que o meu corre ele também tem que estar direcionado para o pro coletivo, né? E pra outras pessoas, enfim, e pras demandas que a gente tem coletivamente, né? Porque o que atravessa o meu vizinho também me atravessa.\\n\\nA violência policial que bate na porta da minha casa, bate não, arromba. \\n\\nTambém o que acontece com meu vizinho né? Então não tem como eu não despertar esse senso de coletividade está ligado? Acho que é isso.\\n\\n\\nConheci Paraisópolis através dos meus pais e das minhas irmãs. Eu sou baiana natural de Salvador. E eles vieram tentar mudar o nosso quadro de vida e perspectiva. Chegaram aqui no ano de 1994, e eu vim só no ano de 2000.\\n\\nNo começo não gostei muito de Paraisópolis, mas depois de cinco meses comecei a trabalhar, voltei a estudar, porque logo percebi que para mudar meu destino eu precisava voltar a estudar aqui.\\n\\nQuando cheguei aqui, no ano de 2000 estranhei muito tudo aqui, como morava em cidade praiana e com um ritmo de vida totalmente diferente, além de que até às casas são de proporções diferentes, tudo isso acabou me afetando um pouco, mas logo após cinco meses aqui comecei a trabalhar, acabei por me acostumar.\\n \\nParaisópolis mudou tanto, cresceu tanto e junto com esse crescimento veio também as adversidades, os desafios de morar em um lugar assim.\\n\\nMas na verdade, em matéria de segurança me sinto muito mais segura aqui dentro. A comunidade tem seus desafios, mas tem suas formas de acolhimento também. Muita coisa boa e muita gente de boa fé disposta a fazer a diferença também.\\n\\nAqui temos transporte praticamente para todas as principais regiões, mas é claro que um transporte no segmento ferroviário seria de grande valia também.\\n\\nDesde a época da então prefeita Marta Suplicy, existiam projetos para a linha ferroviária, depois o Mário Covas, falou também sobre o monotrilho e não aconteceu.\\n\\nPensando em cultura, temos um campo muito conhecido também, o campo do palmeirinha, que traz bastante torneios aqui pra população, e ajuda não só o lazer como também a economia.\\n\\nAinda pensando sobre o lazer, temos parque de diversões também, praças e muitos shows, temos ONGs... Estamos bem servidos, mas lógico que para atender uma população do tamanho da nossa, certamente precisaríamos de mais.\\n\\nEm saúde também, para atender o tamanho da população precisamos de mais equipamentos. \\n\\nO começo da pandemia foi difícil pra todo mundo, não tínhamos nenhum conhecimento aprimorando de nada, mas com muito trabalho e dedicação do SUS, em conjunto com a colaboração da população, conseguimos atingir com eficácia.\\n\\nLógico que tivemos os desafios do desemprego, um aumento considerável de pessoas em situação de rua. Mas tivemos também bastante ajuda aqui na comunidade, muitas doações, óbvio que com a redução do crescimento essas doações diminuíram, o que acabou afetou e afeta muito essa parte da população.\\n\\nInfelizmente não participei de nenhuma atuação, apenas trabalho. Trabalhei fora, agora que trabalho aqui na UBS Paraisopolis um. \\n\\nE gosto muito de morar aqui. Temos acesso a tudo aqui.\\n\\n'"
            ],
            "application/vnd.google.colaboratory.intrinsic+json": {
              "type": "string"
            }
          },
          "metadata": {},
          "execution_count": 9
        }
      ]
    },
    {
      "cell_type": "markdown",
      "source": [
        "#Limpeza"
      ],
      "metadata": {
        "id": "7lBERpLbM2fr"
      }
    },
    {
      "cell_type": "markdown",
      "source": [
        "remoção das pontuações tirando maiusculas e minusculas"
      ],
      "metadata": {
        "id": "CwlyaB9GNqWA"
      }
    },
    {
      "cell_type": "code",
      "source": [
        "def processamento (texto): \n",
        " texto_formatado=texto.lower() \n",
        " return texto_formatado"
      ],
      "metadata": {
        "id": "64BOMBCNMn-k"
      },
      "execution_count": null,
      "outputs": []
    },
    {
      "cell_type": "code",
      "source": [
        "texto_formatado=processamento(texto)\n",
        "texto_formatado"
      ],
      "metadata": {
        "colab": {
          "base_uri": "https://localhost:8080/",
          "height": 146
        },
        "id": "qnw6g5nXNf-p",
        "outputId": "0b653a06-a1c0-46db-8ba5-1247aba5dc60"
      },
      "execution_count": null,
      "outputs": [
        {
          "output_type": "execute_result",
          "data": {
            "text/plain": [
              "'\\na primeira pergunta é sobre um pouco da minha história no território. então, eu cheguei no território em 1994, tinha 7 anos de idade quando fui morar no paraisópolis, fui morar por ocasião de um despejo, ordem de despejo que  a prefeitura fez do outro lado do rio que era a comunidade do jardim edite i que compreendia ali onde fica a rede globo na luís carlos berrini, a avenida hoje roberto marinho que era chamada avenida águas espraiadas.\\n\\nminha mãe veio da zona leste para trabalhar na zona sul nessas casas de família da região brooklin e  todas essas regiões, ela se instalou ali, comprou um barraquinho ali e eu era garoto. a gente foi morar ali e com a ordem de despejo a prefeitura colocou à disposição o valor na época, 5 mil reais ou 4 mil, e minha mãe conseguiu comprar barraquinho em paraisópolis e a gente se mudou pra cá. \\n\\ne eu lembro que ali em 1990 paraisópolis era assim um lugar ainda mais precário em recursos. eu me lembro que morava numa das principais ruas e ficava a famosa sedinha onde fica a sede dos representantes comunitários e comerciais de paraisópolis e essa rua, por exemplo, a parte que eu morava e está associação, não tinha asfalto, poucas ruas com asfalto, fazia-se vaquinha para alugar caminhão e comprar concreto e todo mundo criança, mulheres, pessoas mais velhas espalharam o concreto e assim foi o asfaltamento de muitas ruas e eu participei disso naquela ocasião. \\n\\nesse território, naquele período, marcado por uma escassez, por exemplo, eu fiquei um ano fora da escola, um ano atrasado porque não tinha vagas, tinha pouca escolas em paraisópolis pro ensino fundamental, não tinha escolas para ensino médio naquele período e o pessoal mais velho tinha estudar em lugares pertos tipo vila sônia, campo limpo. lembro aqui no campo limpo  ensino médio tinha o solito, um colégio relativamente distante, mas amigos meus mais velhos se formaram nessas regiões dentro do campo limpo e vila sônia porque não tinha naquele período escola de ensino médio . e foi um pouco assim meu começo de história com paraisopolis. \\n\\ntodo esse contexto que to te falando de escassez, das pessoas se unindo para asfaltar e eu vivia em uma rua, nas vielas, imagina quem vivia nas vielas? uma coisa interessante nessa forma de viver na comunidade de paraisópolis naquele período, que não é mais assim, paraisópolis cresceu demais, uma das maiores do brasil, mas naquele período era menor e a pessoas eram mais próximas, a gente conhecia mais as pessoas, hoje eu circulo em paraisópolis e conheço poucas pessoas, mas quando eu era garoto todo mundo já sabia e se eu fosse aprontar era “o dona luzia, encontrei o jonathans’ era tip cidadezinha e as pessoas se conheciam. \\n\\ne pra falar de onde vem as pessoas dali, a maioria dos meus colegas eram do nordeste, menos do norte e sudeste, minas gerais, rio de janeiro muito pouco. esmagadora maioria nordeste, piauí, ceará, pernambuco, umas pessoas que vinham final anos 80 e alguns poucos anos 70 para paraisópolis e assentaram ali e construíram suas vidas. \\n\\nhoje eu não moro mais lá e saí de lá com 29 anos, hoje tenho 32, faz quatro anos. sempre foi muito difícil no ponto de vista do acesso aos serviços públicos, mesmo hoje e não só no paraisópolis, mas numa favela, numa comunidade isso é exacerbado, é bastante nítido ver as carências. só conseguimos entrar na escola por conta de uma parceria que o único colégio aqui no paraisópolis fez com um colégio privado do morumbi, famoso pio xii que construíram uma escola anexa, super pequenininha pra abrigar a gente porque é um terreno grande e a gente estudou lá, então a gente atravessava todo coração do morumbi pra chegar ali, perto do extra da marginal pra estudar.\\n\\nesporte? você tinha os campinhos, hoje só tem um. dentro das comunidades tem uma especulação imobiliária feroz, todo espaço é muito disputado e é tudo muito caro por estar no coração do morumbi. muitas pessoas vêm de fora, de outras comunidades ao redor, jardim colombo, real parque, vila prel, panorama também vão até a comunidade de paraisópolis para usar o que tem, tem parente que mora lá, e tudo isso gera muita demanda e o estado fechou os olhos para as comunidades.\\n\\nparaisópolis sempre foi uma pedra no sapato dos governos. o primeiro a tentar fazer o que foi feito de despejo lá no jardim edite foi o maluf, tentou indenizar algumas famílias, só que paraisopolis tomou uma proporção tão grande que não conseguiram fazer. só que existem maneiras de sufocar a população e uma delas é a escassez de serviços e recursos. \\n\\nhoje acho que é uma realidade diferente, está nas mídias, dá pra ver que tem bastante coisa, claro que ainda sim não alcança todo mundo, é muito difícil alcançar determinados grupos. dentro da comunidade também tem grupos, uma estratificação grande. mas não há dúvidas que melhor que anos 90 e início dos anos 2000. a possibilidade de prática esportiva era muito vaga. hoje paraisópolis tem escolas grandes de vários níveis, tem o ceu e o ceu paraisópolis é um modelo em todos os sentidos: cursos, o teatro é um dos melhores de são paulo e peças importantes aconteceram por lá, tem amostras de arte. \\n\\nfoi evoluindo, mas muita coisa é recente e não dá pra falar também que está tudo bem, principalmente na área da saúde que são muitos gargalos. \\n\\nnão moro mais lá, mas lá estão minhas referências de vida. fui ficando adulto, entrei na universidade e em paraisópolis conheci o cursinho gratuito no qual eu consegui depois ingressar na universidade e fui convidado a voltar e ser professor, coordenador e depois presidente. e na universidade a coisa melhorou financeiramente, estudando e trabalhando. \\n\\nmuitos problemas com correspondência, sem o correio, isso tudo foi se juntando. eu morava próximo ao pancadão da dz17, numa rotina de trabalhos e estudos. dava quinta-feira a segunda-feira de manhã já não conseguia mais dormir. então eu entendi que o mais adequado a se fazer era procurar um lugar tranquilo. e me formando e com trabalho melhor tive condições de alugar uma casa em outro bairro. esse foi o principal motivo para me mudar de paraisópolis para o campo limpo. \\n\\ne você me perguntando as diferenças de acesso desses lugares. é absurdo, o espaço geográfico das vielas, os próprios pancadões que são difíceis de controlar, a superlotação e isso são realidades do território de paraisópolis hoje, agora. \\n\\naqui não é nada comparado a uma superlotação, o sistema viário de transporte em paraisópolis é extremamente deficitário e quando acontecem os bailes os ônibus não param, a garotada lota os pontos, às vezes embriagados. então se você for pegar ônibus de manhã precisa se locomover até outro ponto e isso acontece até hoje, agora, se você for lá na segunda-feira vai passar por isso.\\n\\n\\npara minha mãe que ainda está em paraisópolis, meus amigos e família na pandemia, foi difícil porque já era muito difícil e com a pandemia isso se multiplicou. eu passava dois dias da semana com minha mãe, era um lugar relativamente tranquilo. e era sem médico, sem especialista, renda baixa, muito difícil, a pandemia veio como uma pá de cal. \\n\\nmeu irmão que faleceu era entregador de ifood, meu outro irmão trabalhava como caixa do carrefour e minha mãe empregada doméstica. como é que não vai sair? pagando aluguel, como vai pagar aluguel e comer? e você soma isso com espaços super apertados, como faz isolamento?\\n\\nmuito triste um pai de familia nao poder trabalhar, incertezas, ter que se isolar em outro lugar que não é em casa. \\n\\nminha mãe sem trabalhar, fiquei super preocupado.\\n \\ne aí a gente chega no projeto em si né. minha mãe me ligou em meados de março, a gente achava que a pandemia ia ser uma coisa rápida, mas as patroas já começaram a ligar cancelando as diárias e eu enquanto professor de cursinho fiquei pensando quantas mães iguais às minhas mães estariam nessa situação e quantos jonathan estariam nessa situação, jovens sonhando em melhorar a vida. \\n\\nchamei algumas pessoas do cursinho, majoritariamente professoras, e pensamos nas possibilidades do que fazer e a gente pensou em paraisópolis e nos alunos do nosso cursinho. a estratégia foi fazer o levantamento de quantas mães que também eram diaristas e tinham perdido seus dias de trabalho no nosso cursinho. colocamos a mão na massa, criamos planilha do excel, criamos uns forms, chamamos pessoas pra ajudar e deu 15 mães sem ganho, domésticas e comerciantes. vamos ajudar essas pessoas.\\n\\na gente descartou de pronto a questão de ajudar com cesta, pensamos na aglomeração que isso ia gerar e pegar ou pegar o vírus. definimos que seria uma ajuda financeira depositada nas contas, vamos fixar um valor para que a cada 15 dias. pensamos em um valor viável, será que 400 a gente consegue? como a gente vai conseguir esse dinheiro?\\n\\ncomeçamos entre nós a doação e depois o crossfader.  uma colega designer montou o site, escolhemos o vakinha, vimos quando descansavam, e se era de fácil usabilidade pras pessoas doarem. e aí começamos uma divulgação em massa, uma campanha massiva com imagens textos\\n\\nem pouco tempo, menos de 15 dias a gente já tinha o dinheiro do primeiro depósito para essas 15 mães, fomos atrás de como guardar esses dados, sempre com muito cuidado e distribuímos esse dinheiro. depois tínhamos um mês garantido, nos antecipamos ao governo, já sabíamos que 200 reais não dava pra nada, \\n\\nisso tomou uma proporção que a gente não esperava, essa divulgação entre amigos e conhecidos chegam a lugares que foram fundamentais para divulgação da campanha. \\n\\nchegou no ouvido de jornalistas renomados. caiu no ouvido da mônica bergamo, então ela veio falar com a gente, pediu para escrever um texto e publicou esse texto na  coluna dela da folha de são paulo na página principal. outras pessoas que viram a mônica veio falar com a gente e a tv cultura me entrevistou ao vivo na hora do almoço, jornais internacionais que também queriam aplicar a ideia e condomínios no morumbi entravam em contato que ajudavam na arrecadação e depositavam. \\n\\nem quatro cinco meses já tínhamos 50 mil reais e ajudamos mais de 30 famílias não só de paraisópolis, como de ocupações em mauá, em suzano. governadores e deputados entram em contato para saber se era possível divulgar para incluir pessoas na lista, mas o dinheiro entrava na conta e já saia, precisava de limite.  \\n\\na campanha durou 2 anos, e no último eu já estava muito esgotado, muita gente, muita energia, triste, mães me mandavam fotos quando recebiam o dinheiro, fotos e vídeos agradecendo chorando e a gente absorve essa energia. o pessoal queria seguir e fazer desse projeto um programa, mas naquele momento eu não tinha essa força, está tudo guardado e documentado, o projeto ganhou prêmios e foi citado como modelo, mas surgiu sem nenhuma pretensão e apenas surgiu.\\n\\nse a gente teve apoio do governo, não. nenhuma secretaria, fonte de fomento entrou em contato. o que tocou foram os educadores do cursinho, a ideia que eu tive, que nós tivemos, e construíram e de forma espontânea e voluntária, nada institucional. forças instantâneas.\\n\\n\\nprimeiro eu vou me apresentar, eu sou glória maria, eu tenho vinte e três anos. sou mãe da manu, uma criança de oito anos e eu nasci no estado de brasília. eu vim morar aqui em são paulo aos quatorze anos, assim que eu tive a manu eu vim pra cá que eu morava em brasília com a minha avó e meus pais sempre moraram aqui no paraisópolis.\\n\\ne foi assim que eu conheci paraisópolis assim, né? a partir dessa transição de quando eu saio de uma periferia de brasília que se chamava samambaia sul (egião administrativa do distrito federal brasileiro) e venho morar aqui em são paulo, no paraisópolis. \\n\\ncomo eu me sinto em relação a paraisópolis? foi um processo de descoberta né? entender o que é esse território e quais são as ações, quais são as lacunas, as demandas, enfim, as violações que existem neste território foi uma coisa que levou um tempo. \\n\\ne de certa forma isso veio a partir do movimento de ocupações, né? em dois mil e quinze ocupações das escolas estaduais, né? contra a reorganização que o alckmin estava fazendo. \\n\\nentão eu acho que agora sabendo o que eu sinto que o paraisópolis é um território que me faz que eu sinto tipo muitas potências mas ao mesmo tempo também muitas violações, né? eu acho que isso também não talvez não se difere de outros territórios.\\n\\nsobre a sua pergunta sobre o acesso a transporte, lazer e cultura em paraisópolis, olha aqui no paraisópolis existe um polo muito focado na própria comunidade, né? tem muita coisa, tem muita loja, tem muito movimento acontecendo. a economia é muito grande, né? circula muita grana desses comércios, enfim. \\n\\no transporte, mano, é, a gente tem né. existe sim uma certa dificuldade para locomoção pela questão de superlotação mesmo. \\n\\nacho que é uma um problema bem comum também essa questão do lazer e cultura, eu acho que é uma coisa que pega muito porque o paraisópolis é um espaço que não tem nem calçada, quem dirá um espaço de lazer.\\n\\né, a gente já reivindicou para ter casa de cultura aqui, só que a prefeitura sempre justifica que é a casa de cultura por subprefeitura e a subprefeitura de paraisópolis é o campo limpo e lá já existe. mas não tem condição de eu que sou moradora de paraisópolis me deslocar pro campo limpo que é contramão, sabe? então a gente tem muita dificuldade de ter espaço de lazer, e os espaços de lazer que a gente tem próximo aqui é da galera do morumbi que é um espaço totalmente elitizado com coisas caras enfim é que não é feito pra gente né então o que falar sinceramente não tem espaço de lazer nenhum a cultura quem move é quem está aqui dentro então são coletivos independentes.\\n\\neu fiz a batalha do paraisópolis, né? sou uma das fundadoras da batalha do paraisópolis. e eu e o meu companheiro mike que fazemos a batalha já tem cinco anos, a gente está parando com ela agora porque a gente vai iniciar outro projeto que se chama sete notas que vai ser voltado ser o estúdio e voltado pros artistas independentes daqui, né?\\n\\no estúdio de gravação, enfim… mas a cultura ela só existe porque quem mora aqui está fazendo sabe? porque se for ver alguma coisa do estado tipo, mano, não tem.\\n\\né sobre a pandemia, agora na parte da pandemia. é na pandemia, foi bem difícil assim né? porque paraisópolis é um território que não dorme, é um território que as pessoas não param de circular. então no começo a galera deu uma acalmada mas depois tudo voltou assim né? tudo voltou. teve então todos os rolês e tudo assim durante toda a pandemia. \\n\\nfoi bem caótico.\\n\\nmas teve uma organização muito boa, a galera do g10 que tem ambulâncias, né? então tipo aqui a ambulância do sus não entra aqui. então a galera contratou ambulâncias para atender a galera. teve também o projeto das marmitas. então essa mobilização de organizações aqui, não só a do g10, mas a batalha por exemplo distribuiu algumas cestas e eu acho que foram cerca de quatrocentas cestas básicas em parceria com a uneafro. teve também os projetos da cufa.\\n\\nentão várias ações e vários coletivos se organizaram para conseguir fortalecer a comunidade principalmente nessa questão de alimentação, né? porque essa pessoa não está trabalhando? como que ela vai comprar o alimento? \\n\\nessa parte de ação social é a batalha, mas a gente costuma, a gente costuma fazer tudo de forma independente, sem apoio.\\n\\na batalha, por exemplo, só teve um apoio que foi em dois mil e dezoito que foi o vai, aí agora a gente está vindo com sete notas que é o estúdio a gente conseguiu o apoio do vai, né? só que a gente ainda não começou, então é uma coisa que ainda está em processo.\\n\\neu acredito que a importância da atuação social é fortalecer mesmo as famílias, né? porque as pessoas estão em situações tão vulneráveis assim em geral, né? todo mundo e aí quando vem uma doença ou  qualquer outra coisa isso impacta muito na questão da grana que essa pessoa tinha pra se alimentar, com isso e muita gente que perdeu o emprego não é?\\n\\n então como essas pessoas podem fazer se não se a gente está num momento tão sensível de desemprego. e também em que as coisas estão extremamente caras. que a gente está voltando ali pra miséria mesmo, sabe? a galera está voltando pra fome. então a solução é ter ações sociais, é olhar pra essas pra esse público, sabe?\\n\\né olhar para esse recorte de pessoas que estão passando por essa situação. \\n\\né essas ações despertam em mim o sentido da vida mesmo tá ligado? \\n\\nporque eu fico pensando assim tá? eu estou trampando e pá estou fazendo o meu corre mas eu acredito que o meu corre ele também tem que estar direcionado para o pro coletivo, né? e pra outras pessoas, enfim, e pras demandas que a gente tem coletivamente, né? porque o que atravessa o meu vizinho também me atravessa.\\n\\na violência policial que bate na porta da minha casa, bate não, arromba. \\n\\ntambém o que acontece com meu vizinho né? então não tem como eu não despertar esse senso de coletividade está ligado? acho que é isso.\\n\\n\\nconheci paraisópolis através dos meus pais e das minhas irmãs. eu sou baiana natural de salvador. e eles vieram tentar mudar o nosso quadro de vida e perspectiva. chegaram aqui no ano de 1994, e eu vim só no ano de 2000.\\n\\nno começo não gostei muito de paraisópolis, mas depois de cinco meses comecei a trabalhar, voltei a estudar, porque logo percebi que para mudar meu destino eu precisava voltar a estudar aqui.\\n\\nquando cheguei aqui, no ano de 2000 estranhei muito tudo aqui, como morava em cidade praiana e com um ritmo de vida totalmente diferente, além de que até às casas são de proporções diferentes, tudo isso acabou me afetando um pouco, mas logo após cinco meses aqui comecei a trabalhar, acabei por me acostumar.\\n \\nparaisópolis mudou tanto, cresceu tanto e junto com esse crescimento veio também as adversidades, os desafios de morar em um lugar assim.\\n\\nmas na verdade, em matéria de segurança me sinto muito mais segura aqui dentro. a comunidade tem seus desafios, mas tem suas formas de acolhimento também. muita coisa boa e muita gente de boa fé disposta a fazer a diferença também.\\n\\naqui temos transporte praticamente para todas as principais regiões, mas é claro que um transporte no segmento ferroviário seria de grande valia também.\\n\\ndesde a época da então prefeita marta suplicy, existiam projetos para a linha ferroviária, depois o mário covas, falou também sobre o monotrilho e não aconteceu.\\n\\npensando em cultura, temos um campo muito conhecido também, o campo do palmeirinha, que traz bastante torneios aqui pra população, e ajuda não só o lazer como também a economia.\\n\\nainda pensando sobre o lazer, temos parque de diversões também, praças e muitos shows, temos ongs... estamos bem servidos, mas lógico que para atender uma população do tamanho da nossa, certamente precisaríamos de mais.\\n\\nem saúde também, para atender o tamanho da população precisamos de mais equipamentos. \\n\\no começo da pandemia foi difícil pra todo mundo, não tínhamos nenhum conhecimento aprimorando de nada, mas com muito trabalho e dedicação do sus, em conjunto com a colaboração da população, conseguimos atingir com eficácia.\\n\\nlógico que tivemos os desafios do desemprego, um aumento considerável de pessoas em situação de rua. mas tivemos também bastante ajuda aqui na comunidade, muitas doações, óbvio que com a redução do crescimento essas doações diminuíram, o que acabou afetou e afeta muito essa parte da população.\\n\\ninfelizmente não participei de nenhuma atuação, apenas trabalho. trabalhei fora, agora que trabalho aqui na ubs paraisopolis um. \\n\\ne gosto muito de morar aqui. temos acesso a tudo aqui.\\n\\n'"
            ],
            "application/vnd.google.colaboratory.intrinsic+json": {
              "type": "string"
            }
          },
          "metadata": {},
          "execution_count": 11
        }
      ]
    },
    {
      "cell_type": "markdown",
      "source": [
        "# Tokenization \n",
        "\n",
        "Transforma elementos do seu texto em tokens, ou seja, strings dentro de uma lista\n",
        "\n",
        "É o nome dado para o processo de dividir uma grande quantidade de texto em pequenas quantidades - essas pequenas quantidades são chamadas de tokens. Essa é uma divisão importante para fazer análises textuais.\n",
        "\n",
        "O nltk possui um módulo chamado tokenize que facilita o processo de divisão de um texto. A função word_tokenize() divide um texto por palavras e pontuações:"
      ],
      "metadata": {
        "id": "6E1WKcawS0A2"
      }
    },
    {
      "cell_type": "code",
      "source": [
        "# Quebra em palavras\n",
        "tokenized_word = word_tokenize(texto_formatado)\n",
        "print(tokenized_word)"
      ],
      "metadata": {
        "colab": {
          "base_uri": "https://localhost:8080/"
        },
        "id": "wbaHeOl8J1ra",
        "outputId": "33951f79-b558-4848-ebad-11e1f351dbe0"
      },
      "execution_count": null,
      "outputs": [
        {
          "output_type": "stream",
          "name": "stdout",
          "text": [
            "['a', 'primeira', 'pergunta', 'é', 'sobre', 'um', 'pouco', 'da', 'minha', 'história', 'no', 'território', '.', 'então', ',', 'eu', 'cheguei', 'no', 'território', 'em', '1994', ',', 'tinha', '7', 'anos', 'de', 'idade', 'quando', 'fui', 'morar', 'no', 'paraisópolis', ',', 'fui', 'morar', 'por', 'ocasião', 'de', 'um', 'despejo', ',', 'ordem', 'de', 'despejo', 'que', 'a', 'prefeitura', 'fez', 'do', 'outro', 'lado', 'do', 'rio', 'que', 'era', 'a', 'comunidade', 'do', 'jardim', 'edite', 'i', 'que', 'compreendia', 'ali', 'onde', 'fica', 'a', 'rede', 'globo', 'na', 'luís', 'carlos', 'berrini', ',', 'a', 'avenida', 'hoje', 'roberto', 'marinho', 'que', 'era', 'chamada', 'avenida', 'águas', 'espraiadas', '.', 'minha', 'mãe', 'veio', 'da', 'zona', 'leste', 'para', 'trabalhar', 'na', 'zona', 'sul', 'nessas', 'casas', 'de', 'família', 'da', 'região', 'brooklin', 'e', 'todas', 'essas', 'regiões', ',', 'ela', 'se', 'instalou', 'ali', ',', 'comprou', 'um', 'barraquinho', 'ali', 'e', 'eu', 'era', 'garoto', '.', 'a', 'gente', 'foi', 'morar', 'ali', 'e', 'com', 'a', 'ordem', 'de', 'despejo', 'a', 'prefeitura', 'colocou', 'à', 'disposição', 'o', 'valor', 'na', 'época', ',', '5', 'mil', 'reais', 'ou', '4', 'mil', ',', 'e', 'minha', 'mãe', 'conseguiu', 'comprar', 'barraquinho', 'em', 'paraisópolis', 'e', 'a', 'gente', 'se', 'mudou', 'pra', 'cá', '.', 'e', 'eu', 'lembro', 'que', 'ali', 'em', '1990', 'paraisópolis', 'era', 'assim', 'um', 'lugar', 'ainda', 'mais', 'precário', 'em', 'recursos', '.', 'eu', 'me', 'lembro', 'que', 'morava', 'numa', 'das', 'principais', 'ruas', 'e', 'ficava', 'a', 'famosa', 'sedinha', 'onde', 'fica', 'a', 'sede', 'dos', 'representantes', 'comunitários', 'e', 'comerciais', 'de', 'paraisópolis', 'e', 'essa', 'rua', ',', 'por', 'exemplo', ',', 'a', 'parte', 'que', 'eu', 'morava', 'e', 'está', 'associação', ',', 'não', 'tinha', 'asfalto', ',', 'poucas', 'ruas', 'com', 'asfalto', ',', 'fazia-se', 'vaquinha', 'para', 'alugar', 'caminhão', 'e', 'comprar', 'concreto', 'e', 'todo', 'mundo', 'criança', ',', 'mulheres', ',', 'pessoas', 'mais', 'velhas', 'espalharam', 'o', 'concreto', 'e', 'assim', 'foi', 'o', 'asfaltamento', 'de', 'muitas', 'ruas', 'e', 'eu', 'participei', 'disso', 'naquela', 'ocasião', '.', 'esse', 'território', ',', 'naquele', 'período', ',', 'marcado', 'por', 'uma', 'escassez', ',', 'por', 'exemplo', ',', 'eu', 'fiquei', 'um', 'ano', 'fora', 'da', 'escola', ',', 'um', 'ano', 'atrasado', 'porque', 'não', 'tinha', 'vagas', ',', 'tinha', 'pouca', 'escolas', 'em', 'paraisópolis', 'pro', 'ensino', 'fundamental', ',', 'não', 'tinha', 'escolas', 'para', 'ensino', 'médio', 'naquele', 'período', 'e', 'o', 'pessoal', 'mais', 'velho', 'tinha', 'estudar', 'em', 'lugares', 'pertos', 'tipo', 'vila', 'sônia', ',', 'campo', 'limpo', '.', 'lembro', 'aqui', 'no', 'campo', 'limpo', 'ensino', 'médio', 'tinha', 'o', 'solito', ',', 'um', 'colégio', 'relativamente', 'distante', ',', 'mas', 'amigos', 'meus', 'mais', 'velhos', 'se', 'formaram', 'nessas', 'regiões', 'dentro', 'do', 'campo', 'limpo', 'e', 'vila', 'sônia', 'porque', 'não', 'tinha', 'naquele', 'período', 'escola', 'de', 'ensino', 'médio', '.', 'e', 'foi', 'um', 'pouco', 'assim', 'meu', 'começo', 'de', 'história', 'com', 'paraisopolis', '.', 'todo', 'esse', 'contexto', 'que', 'to', 'te', 'falando', 'de', 'escassez', ',', 'das', 'pessoas', 'se', 'unindo', 'para', 'asfaltar', 'e', 'eu', 'vivia', 'em', 'uma', 'rua', ',', 'nas', 'vielas', ',', 'imagina', 'quem', 'vivia', 'nas', 'vielas', '?', 'uma', 'coisa', 'interessante', 'nessa', 'forma', 'de', 'viver', 'na', 'comunidade', 'de', 'paraisópolis', 'naquele', 'período', ',', 'que', 'não', 'é', 'mais', 'assim', ',', 'paraisópolis', 'cresceu', 'demais', ',', 'uma', 'das', 'maiores', 'do', 'brasil', ',', 'mas', 'naquele', 'período', 'era', 'menor', 'e', 'a', 'pessoas', 'eram', 'mais', 'próximas', ',', 'a', 'gente', 'conhecia', 'mais', 'as', 'pessoas', ',', 'hoje', 'eu', 'circulo', 'em', 'paraisópolis', 'e', 'conheço', 'poucas', 'pessoas', ',', 'mas', 'quando', 'eu', 'era', 'garoto', 'todo', 'mundo', 'já', 'sabia', 'e', 'se', 'eu', 'fosse', 'aprontar', 'era', '“', 'o', 'dona', 'luzia', ',', 'encontrei', 'o', 'jonathans', '’', 'era', 'tip', 'cidadezinha', 'e', 'as', 'pessoas', 'se', 'conheciam', '.', 'e', 'pra', 'falar', 'de', 'onde', 'vem', 'as', 'pessoas', 'dali', ',', 'a', 'maioria', 'dos', 'meus', 'colegas', 'eram', 'do', 'nordeste', ',', 'menos', 'do', 'norte', 'e', 'sudeste', ',', 'minas', 'gerais', ',', 'rio', 'de', 'janeiro', 'muito', 'pouco', '.', 'esmagadora', 'maioria', 'nordeste', ',', 'piauí', ',', 'ceará', ',', 'pernambuco', ',', 'umas', 'pessoas', 'que', 'vinham', 'final', 'anos', '80', 'e', 'alguns', 'poucos', 'anos', '70', 'para', 'paraisópolis', 'e', 'assentaram', 'ali', 'e', 'construíram', 'suas', 'vidas', '.', 'hoje', 'eu', 'não', 'moro', 'mais', 'lá', 'e', 'saí', 'de', 'lá', 'com', '29', 'anos', ',', 'hoje', 'tenho', '32', ',', 'faz', 'quatro', 'anos', '.', 'sempre', 'foi', 'muito', 'difícil', 'no', 'ponto', 'de', 'vista', 'do', 'acesso', 'aos', 'serviços', 'públicos', ',', 'mesmo', 'hoje', 'e', 'não', 'só', 'no', 'paraisópolis', ',', 'mas', 'numa', 'favela', ',', 'numa', 'comunidade', 'isso', 'é', 'exacerbado', ',', 'é', 'bastante', 'nítido', 'ver', 'as', 'carências', '.', 'só', 'conseguimos', 'entrar', 'na', 'escola', 'por', 'conta', 'de', 'uma', 'parceria', 'que', 'o', 'único', 'colégio', 'aqui', 'no', 'paraisópolis', 'fez', 'com', 'um', 'colégio', 'privado', 'do', 'morumbi', ',', 'famoso', 'pio', 'xii', 'que', 'construíram', 'uma', 'escola', 'anexa', ',', 'super', 'pequenininha', 'pra', 'abrigar', 'a', 'gente', 'porque', 'é', 'um', 'terreno', 'grande', 'e', 'a', 'gente', 'estudou', 'lá', ',', 'então', 'a', 'gente', 'atravessava', 'todo', 'coração', 'do', 'morumbi', 'pra', 'chegar', 'ali', ',', 'perto', 'do', 'extra', 'da', 'marginal', 'pra', 'estudar', '.', 'esporte', '?', 'você', 'tinha', 'os', 'campinhos', ',', 'hoje', 'só', 'tem', 'um', '.', 'dentro', 'das', 'comunidades', 'tem', 'uma', 'especulação', 'imobiliária', 'feroz', ',', 'todo', 'espaço', 'é', 'muito', 'disputado', 'e', 'é', 'tudo', 'muito', 'caro', 'por', 'estar', 'no', 'coração', 'do', 'morumbi', '.', 'muitas', 'pessoas', 'vêm', 'de', 'fora', ',', 'de', 'outras', 'comunidades', 'ao', 'redor', ',', 'jardim', 'colombo', ',', 'real', 'parque', ',', 'vila', 'prel', ',', 'panorama', 'também', 'vão', 'até', 'a', 'comunidade', 'de', 'paraisópolis', 'para', 'usar', 'o', 'que', 'tem', ',', 'tem', 'parente', 'que', 'mora', 'lá', ',', 'e', 'tudo', 'isso', 'gera', 'muita', 'demanda', 'e', 'o', 'estado', 'fechou', 'os', 'olhos', 'para', 'as', 'comunidades', '.', 'paraisópolis', 'sempre', 'foi', 'uma', 'pedra', 'no', 'sapato', 'dos', 'governos', '.', 'o', 'primeiro', 'a', 'tentar', 'fazer', 'o', 'que', 'foi', 'feito', 'de', 'despejo', 'lá', 'no', 'jardim', 'edite', 'foi', 'o', 'maluf', ',', 'tentou', 'indenizar', 'algumas', 'famílias', ',', 'só', 'que', 'paraisopolis', 'tomou', 'uma', 'proporção', 'tão', 'grande', 'que', 'não', 'conseguiram', 'fazer', '.', 'só', 'que', 'existem', 'maneiras', 'de', 'sufocar', 'a', 'população', 'e', 'uma', 'delas', 'é', 'a', 'escassez', 'de', 'serviços', 'e', 'recursos', '.', 'hoje', 'acho', 'que', 'é', 'uma', 'realidade', 'diferente', ',', 'está', 'nas', 'mídias', ',', 'dá', 'pra', 'ver', 'que', 'tem', 'bastante', 'coisa', ',', 'claro', 'que', 'ainda', 'sim', 'não', 'alcança', 'todo', 'mundo', ',', 'é', 'muito', 'difícil', 'alcançar', 'determinados', 'grupos', '.', 'dentro', 'da', 'comunidade', 'também', 'tem', 'grupos', ',', 'uma', 'estratificação', 'grande', '.', 'mas', 'não', 'há', 'dúvidas', 'que', 'melhor', 'que', 'anos', '90', 'e', 'início', 'dos', 'anos', '2000.', 'a', 'possibilidade', 'de', 'prática', 'esportiva', 'era', 'muito', 'vaga', '.', 'hoje', 'paraisópolis', 'tem', 'escolas', 'grandes', 'de', 'vários', 'níveis', ',', 'tem', 'o', 'ceu', 'e', 'o', 'ceu', 'paraisópolis', 'é', 'um', 'modelo', 'em', 'todos', 'os', 'sentidos', ':', 'cursos', ',', 'o', 'teatro', 'é', 'um', 'dos', 'melhores', 'de', 'são', 'paulo', 'e', 'peças', 'importantes', 'aconteceram', 'por', 'lá', ',', 'tem', 'amostras', 'de', 'arte', '.', 'foi', 'evoluindo', ',', 'mas', 'muita', 'coisa', 'é', 'recente', 'e', 'não', 'dá', 'pra', 'falar', 'também', 'que', 'está', 'tudo', 'bem', ',', 'principalmente', 'na', 'área', 'da', 'saúde', 'que', 'são', 'muitos', 'gargalos', '.', 'não', 'moro', 'mais', 'lá', ',', 'mas', 'lá', 'estão', 'minhas', 'referências', 'de', 'vida', '.', 'fui', 'ficando', 'adulto', ',', 'entrei', 'na', 'universidade', 'e', 'em', 'paraisópolis', 'conheci', 'o', 'cursinho', 'gratuito', 'no', 'qual', 'eu', 'consegui', 'depois', 'ingressar', 'na', 'universidade', 'e', 'fui', 'convidado', 'a', 'voltar', 'e', 'ser', 'professor', ',', 'coordenador', 'e', 'depois', 'presidente', '.', 'e', 'na', 'universidade', 'a', 'coisa', 'melhorou', 'financeiramente', ',', 'estudando', 'e', 'trabalhando', '.', 'muitos', 'problemas', 'com', 'correspondência', ',', 'sem', 'o', 'correio', ',', 'isso', 'tudo', 'foi', 'se', 'juntando', '.', 'eu', 'morava', 'próximo', 'ao', 'pancadão', 'da', 'dz17', ',', 'numa', 'rotina', 'de', 'trabalhos', 'e', 'estudos', '.', 'dava', 'quinta-feira', 'a', 'segunda-feira', 'de', 'manhã', 'já', 'não', 'conseguia', 'mais', 'dormir', '.', 'então', 'eu', 'entendi', 'que', 'o', 'mais', 'adequado', 'a', 'se', 'fazer', 'era', 'procurar', 'um', 'lugar', 'tranquilo', '.', 'e', 'me', 'formando', 'e', 'com', 'trabalho', 'melhor', 'tive', 'condições', 'de', 'alugar', 'uma', 'casa', 'em', 'outro', 'bairro', '.', 'esse', 'foi', 'o', 'principal', 'motivo', 'para', 'me', 'mudar', 'de', 'paraisópolis', 'para', 'o', 'campo', 'limpo', '.', 'e', 'você', 'me', 'perguntando', 'as', 'diferenças', 'de', 'acesso', 'desses', 'lugares', '.', 'é', 'absurdo', ',', 'o', 'espaço', 'geográfico', 'das', 'vielas', ',', 'os', 'próprios', 'pancadões', 'que', 'são', 'difíceis', 'de', 'controlar', ',', 'a', 'superlotação', 'e', 'isso', 'são', 'realidades', 'do', 'território', 'de', 'paraisópolis', 'hoje', ',', 'agora', '.', 'aqui', 'não', 'é', 'nada', 'comparado', 'a', 'uma', 'superlotação', ',', 'o', 'sistema', 'viário', 'de', 'transporte', 'em', 'paraisópolis', 'é', 'extremamente', 'deficitário', 'e', 'quando', 'acontecem', 'os', 'bailes', 'os', 'ônibus', 'não', 'param', ',', 'a', 'garotada', 'lota', 'os', 'pontos', ',', 'às', 'vezes', 'embriagados', '.', 'então', 'se', 'você', 'for', 'pegar', 'ônibus', 'de', 'manhã', 'precisa', 'se', 'locomover', 'até', 'outro', 'ponto', 'e', 'isso', 'acontece', 'até', 'hoje', ',', 'agora', ',', 'se', 'você', 'for', 'lá', 'na', 'segunda-feira', 'vai', 'passar', 'por', 'isso', '.', 'para', 'minha', 'mãe', 'que', 'ainda', 'está', 'em', 'paraisópolis', ',', 'meus', 'amigos', 'e', 'família', 'na', 'pandemia', ',', 'foi', 'difícil', 'porque', 'já', 'era', 'muito', 'difícil', 'e', 'com', 'a', 'pandemia', 'isso', 'se', 'multiplicou', '.', 'eu', 'passava', 'dois', 'dias', 'da', 'semana', 'com', 'minha', 'mãe', ',', 'era', 'um', 'lugar', 'relativamente', 'tranquilo', '.', 'e', 'era', 'sem', 'médico', ',', 'sem', 'especialista', ',', 'renda', 'baixa', ',', 'muito', 'difícil', ',', 'a', 'pandemia', 'veio', 'como', 'uma', 'pá', 'de', 'cal', '.', 'meu', 'irmão', 'que', 'faleceu', 'era', 'entregador', 'de', 'ifood', ',', 'meu', 'outro', 'irmão', 'trabalhava', 'como', 'caixa', 'do', 'carrefour', 'e', 'minha', 'mãe', 'empregada', 'doméstica', '.', 'como', 'é', 'que', 'não', 'vai', 'sair', '?', 'pagando', 'aluguel', ',', 'como', 'vai', 'pagar', 'aluguel', 'e', 'comer', '?', 'e', 'você', 'soma', 'isso', 'com', 'espaços', 'super', 'apertados', ',', 'como', 'faz', 'isolamento', '?', 'muito', 'triste', 'um', 'pai', 'de', 'familia', 'nao', 'poder', 'trabalhar', ',', 'incertezas', ',', 'ter', 'que', 'se', 'isolar', 'em', 'outro', 'lugar', 'que', 'não', 'é', 'em', 'casa', '.', 'minha', 'mãe', 'sem', 'trabalhar', ',', 'fiquei', 'super', 'preocupado', '.', 'e', 'aí', 'a', 'gente', 'chega', 'no', 'projeto', 'em', 'si', 'né', '.', 'minha', 'mãe', 'me', 'ligou', 'em', 'meados', 'de', 'março', ',', 'a', 'gente', 'achava', 'que', 'a', 'pandemia', 'ia', 'ser', 'uma', 'coisa', 'rápida', ',', 'mas', 'as', 'patroas', 'já', 'começaram', 'a', 'ligar', 'cancelando', 'as', 'diárias', 'e', 'eu', 'enquanto', 'professor', 'de', 'cursinho', 'fiquei', 'pensando', 'quantas', 'mães', 'iguais', 'às', 'minhas', 'mães', 'estariam', 'nessa', 'situação', 'e', 'quantos', 'jonathan', 'estariam', 'nessa', 'situação', ',', 'jovens', 'sonhando', 'em', 'melhorar', 'a', 'vida', '.', 'chamei', 'algumas', 'pessoas', 'do', 'cursinho', ',', 'majoritariamente', 'professoras', ',', 'e', 'pensamos', 'nas', 'possibilidades', 'do', 'que', 'fazer', 'e', 'a', 'gente', 'pensou', 'em', 'paraisópolis', 'e', 'nos', 'alunos', 'do', 'nosso', 'cursinho', '.', 'a', 'estratégia', 'foi', 'fazer', 'o', 'levantamento', 'de', 'quantas', 'mães', 'que', 'também', 'eram', 'diaristas', 'e', 'tinham', 'perdido', 'seus', 'dias', 'de', 'trabalho', 'no', 'nosso', 'cursinho', '.', 'colocamos', 'a', 'mão', 'na', 'massa', ',', 'criamos', 'planilha', 'do', 'excel', ',', 'criamos', 'uns', 'forms', ',', 'chamamos', 'pessoas', 'pra', 'ajudar', 'e', 'deu', '15', 'mães', 'sem', 'ganho', ',', 'domésticas', 'e', 'comerciantes', '.', 'vamos', 'ajudar', 'essas', 'pessoas', '.', 'a', 'gente', 'descartou', 'de', 'pronto', 'a', 'questão', 'de', 'ajudar', 'com', 'cesta', ',', 'pensamos', 'na', 'aglomeração', 'que', 'isso', 'ia', 'gerar', 'e', 'pegar', 'ou', 'pegar', 'o', 'vírus', '.', 'definimos', 'que', 'seria', 'uma', 'ajuda', 'financeira', 'depositada', 'nas', 'contas', ',', 'vamos', 'fixar', 'um', 'valor', 'para', 'que', 'a', 'cada', '15', 'dias', '.', 'pensamos', 'em', 'um', 'valor', 'viável', ',', 'será', 'que', '400', 'a', 'gente', 'consegue', '?', 'como', 'a', 'gente', 'vai', 'conseguir', 'esse', 'dinheiro', '?', 'começamos', 'entre', 'nós', 'a', 'doação', 'e', 'depois', 'o', 'crossfader', '.', 'uma', 'colega', 'designer', 'montou', 'o', 'site', ',', 'escolhemos', 'o', 'vakinha', ',', 'vimos', 'quando', 'descansavam', ',', 'e', 'se', 'era', 'de', 'fácil', 'usabilidade', 'pras', 'pessoas', 'doarem', '.', 'e', 'aí', 'começamos', 'uma', 'divulgação', 'em', 'massa', ',', 'uma', 'campanha', 'massiva', 'com', 'imagens', 'textos', 'em', 'pouco', 'tempo', ',', 'menos', 'de', '15', 'dias', 'a', 'gente', 'já', 'tinha', 'o', 'dinheiro', 'do', 'primeiro', 'depósito', 'para', 'essas', '15', 'mães', ',', 'fomos', 'atrás', 'de', 'como', 'guardar', 'esses', 'dados', ',', 'sempre', 'com', 'muito', 'cuidado', 'e', 'distribuímos', 'esse', 'dinheiro', '.', 'depois', 'tínhamos', 'um', 'mês', 'garantido', ',', 'nos', 'antecipamos', 'ao', 'governo', ',', 'já', 'sabíamos', 'que', '200', 'reais', 'não', 'dava', 'pra', 'nada', ',', 'isso', 'tomou', 'uma', 'proporção', 'que', 'a', 'gente', 'não', 'esperava', ',', 'essa', 'divulgação', 'entre', 'amigos', 'e', 'conhecidos', 'chegam', 'a', 'lugares', 'que', 'foram', 'fundamentais', 'para', 'divulgação', 'da', 'campanha', '.', 'chegou', 'no', 'ouvido', 'de', 'jornalistas', 'renomados', '.', 'caiu', 'no', 'ouvido', 'da', 'mônica', 'bergamo', ',', 'então', 'ela', 'veio', 'falar', 'com', 'a', 'gente', ',', 'pediu', 'para', 'escrever', 'um', 'texto', 'e', 'publicou', 'esse', 'texto', 'na', 'coluna', 'dela', 'da', 'folha', 'de', 'são', 'paulo', 'na', 'página', 'principal', '.', 'outras', 'pessoas', 'que', 'viram', 'a', 'mônica', 'veio', 'falar', 'com', 'a', 'gente', 'e', 'a', 'tv', 'cultura', 'me', 'entrevistou', 'ao', 'vivo', 'na', 'hora', 'do', 'almoço', ',', 'jornais', 'internacionais', 'que', 'também', 'queriam', 'aplicar', 'a', 'ideia', 'e', 'condomínios', 'no', 'morumbi', 'entravam', 'em', 'contato', 'que', 'ajudavam', 'na', 'arrecadação', 'e', 'depositavam', '.', 'em', 'quatro', 'cinco', 'meses', 'já', 'tínhamos', '50', 'mil', 'reais', 'e', 'ajudamos', 'mais', 'de', '30', 'famílias', 'não', 'só', 'de', 'paraisópolis', ',', 'como', 'de', 'ocupações', 'em', 'mauá', ',', 'em', 'suzano', '.', 'governadores', 'e', 'deputados', 'entram', 'em', 'contato', 'para', 'saber', 'se', 'era', 'possível', 'divulgar', 'para', 'incluir', 'pessoas', 'na', 'lista', ',', 'mas', 'o', 'dinheiro', 'entrava', 'na', 'conta', 'e', 'já', 'saia', ',', 'precisava', 'de', 'limite', '.', 'a', 'campanha', 'durou', '2', 'anos', ',', 'e', 'no', 'último', 'eu', 'já', 'estava', 'muito', 'esgotado', ',', 'muita', 'gente', ',', 'muita', 'energia', ',', 'triste', ',', 'mães', 'me', 'mandavam', 'fotos', 'quando', 'recebiam', 'o', 'dinheiro', ',', 'fotos', 'e', 'vídeos', 'agradecendo', 'chorando', 'e', 'a', 'gente', 'absorve', 'essa', 'energia', '.', 'o', 'pessoal', 'queria', 'seguir', 'e', 'fazer', 'desse', 'projeto', 'um', 'programa', ',', 'mas', 'naquele', 'momento', 'eu', 'não', 'tinha', 'essa', 'força', ',', 'está', 'tudo', 'guardado', 'e', 'documentado', ',', 'o', 'projeto', 'ganhou', 'prêmios', 'e', 'foi', 'citado', 'como', 'modelo', ',', 'mas', 'surgiu', 'sem', 'nenhuma', 'pretensão', 'e', 'apenas', 'surgiu', '.', 'se', 'a', 'gente', 'teve', 'apoio', 'do', 'governo', ',', 'não', '.', 'nenhuma', 'secretaria', ',', 'fonte', 'de', 'fomento', 'entrou', 'em', 'contato', '.', 'o', 'que', 'tocou', 'foram', 'os', 'educadores', 'do', 'cursinho', ',', 'a', 'ideia', 'que', 'eu', 'tive', ',', 'que', 'nós', 'tivemos', ',', 'e', 'construíram', 'e', 'de', 'forma', 'espontânea', 'e', 'voluntária', ',', 'nada', 'institucional', '.', 'forças', 'instantâneas', '.', 'primeiro', 'eu', 'vou', 'me', 'apresentar', ',', 'eu', 'sou', 'glória', 'maria', ',', 'eu', 'tenho', 'vinte', 'e', 'três', 'anos', '.', 'sou', 'mãe', 'da', 'manu', ',', 'uma', 'criança', 'de', 'oito', 'anos', 'e', 'eu', 'nasci', 'no', 'estado', 'de', 'brasília', '.', 'eu', 'vim', 'morar', 'aqui', 'em', 'são', 'paulo', 'aos', 'quatorze', 'anos', ',', 'assim', 'que', 'eu', 'tive', 'a', 'manu', 'eu', 'vim', 'pra', 'cá', 'que', 'eu', 'morava', 'em', 'brasília', 'com', 'a', 'minha', 'avó', 'e', 'meus', 'pais', 'sempre', 'moraram', 'aqui', 'no', 'paraisópolis', '.', 'e', 'foi', 'assim', 'que', 'eu', 'conheci', 'paraisópolis', 'assim', ',', 'né', '?', 'a', 'partir', 'dessa', 'transição', 'de', 'quando', 'eu', 'saio', 'de', 'uma', 'periferia', 'de', 'brasília', 'que', 'se', 'chamava', 'samambaia', 'sul', '(', 'egião', 'administrativa', 'do', 'distrito', 'federal', 'brasileiro', ')', 'e', 'venho', 'morar', 'aqui', 'em', 'são', 'paulo', ',', 'no', 'paraisópolis', '.', 'como', 'eu', 'me', 'sinto', 'em', 'relação', 'a', 'paraisópolis', '?', 'foi', 'um', 'processo', 'de', 'descoberta', 'né', '?', 'entender', 'o', 'que', 'é', 'esse', 'território', 'e', 'quais', 'são', 'as', 'ações', ',', 'quais', 'são', 'as', 'lacunas', ',', 'as', 'demandas', ',', 'enfim', ',', 'as', 'violações', 'que', 'existem', 'neste', 'território', 'foi', 'uma', 'coisa', 'que', 'levou', 'um', 'tempo', '.', 'e', 'de', 'certa', 'forma', 'isso', 'veio', 'a', 'partir', 'do', 'movimento', 'de', 'ocupações', ',', 'né', '?', 'em', 'dois', 'mil', 'e', 'quinze', 'ocupações', 'das', 'escolas', 'estaduais', ',', 'né', '?', 'contra', 'a', 'reorganização', 'que', 'o', 'alckmin', 'estava', 'fazendo', '.', 'então', 'eu', 'acho', 'que', 'agora', 'sabendo', 'o', 'que', 'eu', 'sinto', 'que', 'o', 'paraisópolis', 'é', 'um', 'território', 'que', 'me', 'faz', 'que', 'eu', 'sinto', 'tipo', 'muitas', 'potências', 'mas', 'ao', 'mesmo', 'tempo', 'também', 'muitas', 'violações', ',', 'né', '?', 'eu', 'acho', 'que', 'isso', 'também', 'não', 'talvez', 'não', 'se', 'difere', 'de', 'outros', 'territórios', '.', 'sobre', 'a', 'sua', 'pergunta', 'sobre', 'o', 'acesso', 'a', 'transporte', ',', 'lazer', 'e', 'cultura', 'em', 'paraisópolis', ',', 'olha', 'aqui', 'no', 'paraisópolis', 'existe', 'um', 'polo', 'muito', 'focado', 'na', 'própria', 'comunidade', ',', 'né', '?', 'tem', 'muita', 'coisa', ',', 'tem', 'muita', 'loja', ',', 'tem', 'muito', 'movimento', 'acontecendo', '.', 'a', 'economia', 'é', 'muito', 'grande', ',', 'né', '?', 'circula', 'muita', 'grana', 'desses', 'comércios', ',', 'enfim', '.', 'o', 'transporte', ',', 'mano', ',', 'é', ',', 'a', 'gente', 'tem', 'né', '.', 'existe', 'sim', 'uma', 'certa', 'dificuldade', 'para', 'locomoção', 'pela', 'questão', 'de', 'superlotação', 'mesmo', '.', 'acho', 'que', 'é', 'uma', 'um', 'problema', 'bem', 'comum', 'também', 'essa', 'questão', 'do', 'lazer', 'e', 'cultura', ',', 'eu', 'acho', 'que', 'é', 'uma', 'coisa', 'que', 'pega', 'muito', 'porque', 'o', 'paraisópolis', 'é', 'um', 'espaço', 'que', 'não', 'tem', 'nem', 'calçada', ',', 'quem', 'dirá', 'um', 'espaço', 'de', 'lazer', '.', 'é', ',', 'a', 'gente', 'já', 'reivindicou', 'para', 'ter', 'casa', 'de', 'cultura', 'aqui', ',', 'só', 'que', 'a', 'prefeitura', 'sempre', 'justifica', 'que', 'é', 'a', 'casa', 'de', 'cultura', 'por', 'subprefeitura', 'e', 'a', 'subprefeitura', 'de', 'paraisópolis', 'é', 'o', 'campo', 'limpo', 'e', 'lá', 'já', 'existe', '.', 'mas', 'não', 'tem', 'condição', 'de', 'eu', 'que', 'sou', 'moradora', 'de', 'paraisópolis', 'me', 'deslocar', 'pro', 'campo', 'limpo', 'que', 'é', 'contramão', ',', 'sabe', '?', 'então', 'a', 'gente', 'tem', 'muita', 'dificuldade', 'de', 'ter', 'espaço', 'de', 'lazer', ',', 'e', 'os', 'espaços', 'de', 'lazer', 'que', 'a', 'gente', 'tem', 'próximo', 'aqui', 'é', 'da', 'galera', 'do', 'morumbi', 'que', 'é', 'um', 'espaço', 'totalmente', 'elitizado', 'com', 'coisas', 'caras', 'enfim', 'é', 'que', 'não', 'é', 'feito', 'pra', 'gente', 'né', 'então', 'o', 'que', 'falar', 'sinceramente', 'não', 'tem', 'espaço', 'de', 'lazer', 'nenhum', 'a', 'cultura', 'quem', 'move', 'é', 'quem', 'está', 'aqui', 'dentro', 'então', 'são', 'coletivos', 'independentes', '.', 'eu', 'fiz', 'a', 'batalha', 'do', 'paraisópolis', ',', 'né', '?', 'sou', 'uma', 'das', 'fundadoras', 'da', 'batalha', 'do', 'paraisópolis', '.', 'e', 'eu', 'e', 'o', 'meu', 'companheiro', 'mike', 'que', 'fazemos', 'a', 'batalha', 'já', 'tem', 'cinco', 'anos', ',', 'a', 'gente', 'está', 'parando', 'com', 'ela', 'agora', 'porque', 'a', 'gente', 'vai', 'iniciar', 'outro', 'projeto', 'que', 'se', 'chama', 'sete', 'notas', 'que', 'vai', 'ser', 'voltado', 'ser', 'o', 'estúdio', 'e', 'voltado', 'pros', 'artistas', 'independentes', 'daqui', ',', 'né', '?', 'o', 'estúdio', 'de', 'gravação', ',', 'enfim…', 'mas', 'a', 'cultura', 'ela', 'só', 'existe', 'porque', 'quem', 'mora', 'aqui', 'está', 'fazendo', 'sabe', '?', 'porque', 'se', 'for', 'ver', 'alguma', 'coisa', 'do', 'estado', 'tipo', ',', 'mano', ',', 'não', 'tem', '.', 'é', 'sobre', 'a', 'pandemia', ',', 'agora', 'na', 'parte', 'da', 'pandemia', '.', 'é', 'na', 'pandemia', ',', 'foi', 'bem', 'difícil', 'assim', 'né', '?', 'porque', 'paraisópolis', 'é', 'um', 'território', 'que', 'não', 'dorme', ',', 'é', 'um', 'território', 'que', 'as', 'pessoas', 'não', 'param', 'de', 'circular', '.', 'então', 'no', 'começo', 'a', 'galera', 'deu', 'uma', 'acalmada', 'mas', 'depois', 'tudo', 'voltou', 'assim', 'né', '?', 'tudo', 'voltou', '.', 'teve', 'então', 'todos', 'os', 'rolês', 'e', 'tudo', 'assim', 'durante', 'toda', 'a', 'pandemia', '.', 'foi', 'bem', 'caótico', '.', 'mas', 'teve', 'uma', 'organização', 'muito', 'boa', ',', 'a', 'galera', 'do', 'g10', 'que', 'tem', 'ambulâncias', ',', 'né', '?', 'então', 'tipo', 'aqui', 'a', 'ambulância', 'do', 'sus', 'não', 'entra', 'aqui', '.', 'então', 'a', 'galera', 'contratou', 'ambulâncias', 'para', 'atender', 'a', 'galera', '.', 'teve', 'também', 'o', 'projeto', 'das', 'marmitas', '.', 'então', 'essa', 'mobilização', 'de', 'organizações', 'aqui', ',', 'não', 'só', 'a', 'do', 'g10', ',', 'mas', 'a', 'batalha', 'por', 'exemplo', 'distribuiu', 'algumas', 'cestas', 'e', 'eu', 'acho', 'que', 'foram', 'cerca', 'de', 'quatrocentas', 'cestas', 'básicas', 'em', 'parceria', 'com', 'a', 'uneafro', '.', 'teve', 'também', 'os', 'projetos', 'da', 'cufa', '.', 'então', 'várias', 'ações', 'e', 'vários', 'coletivos', 'se', 'organizaram', 'para', 'conseguir', 'fortalecer', 'a', 'comunidade', 'principalmente', 'nessa', 'questão', 'de', 'alimentação', ',', 'né', '?', 'porque', 'essa', 'pessoa', 'não', 'está', 'trabalhando', '?', 'como', 'que', 'ela', 'vai', 'comprar', 'o', 'alimento', '?', 'essa', 'parte', 'de', 'ação', 'social', 'é', 'a', 'batalha', ',', 'mas', 'a', 'gente', 'costuma', ',', 'a', 'gente', 'costuma', 'fazer', 'tudo', 'de', 'forma', 'independente', ',', 'sem', 'apoio', '.', 'a', 'batalha', ',', 'por', 'exemplo', ',', 'só', 'teve', 'um', 'apoio', 'que', 'foi', 'em', 'dois', 'mil', 'e', 'dezoito', 'que', 'foi', 'o', 'vai', ',', 'aí', 'agora', 'a', 'gente', 'está', 'vindo', 'com', 'sete', 'notas', 'que', 'é', 'o', 'estúdio', 'a', 'gente', 'conseguiu', 'o', 'apoio', 'do', 'vai', ',', 'né', '?', 'só', 'que', 'a', 'gente', 'ainda', 'não', 'começou', ',', 'então', 'é', 'uma', 'coisa', 'que', 'ainda', 'está', 'em', 'processo', '.', 'eu', 'acredito', 'que', 'a', 'importância', 'da', 'atuação', 'social', 'é', 'fortalecer', 'mesmo', 'as', 'famílias', ',', 'né', '?', 'porque', 'as', 'pessoas', 'estão', 'em', 'situações', 'tão', 'vulneráveis', 'assim', 'em', 'geral', ',', 'né', '?', 'todo', 'mundo', 'e', 'aí', 'quando', 'vem', 'uma', 'doença', 'ou', 'qualquer', 'outra', 'coisa', 'isso', 'impacta', 'muito', 'na', 'questão', 'da', 'grana', 'que', 'essa', 'pessoa', 'tinha', 'pra', 'se', 'alimentar', ',', 'com', 'isso', 'e', 'muita', 'gente', 'que', 'perdeu', 'o', 'emprego', 'não', 'é', '?', 'então', 'como', 'essas', 'pessoas', 'podem', 'fazer', 'se', 'não', 'se', 'a', 'gente', 'está', 'num', 'momento', 'tão', 'sensível', 'de', 'desemprego', '.', 'e', 'também', 'em', 'que', 'as', 'coisas', 'estão', 'extremamente', 'caras', '.', 'que', 'a', 'gente', 'está', 'voltando', 'ali', 'pra', 'miséria', 'mesmo', ',', 'sabe', '?', 'a', 'galera', 'está', 'voltando', 'pra', 'fome', '.', 'então', 'a', 'solução', 'é', 'ter', 'ações', 'sociais', ',', 'é', 'olhar', 'pra', 'essas', 'pra', 'esse', 'público', ',', 'sabe', '?', 'é', 'olhar', 'para', 'esse', 'recorte', 'de', 'pessoas', 'que', 'estão', 'passando', 'por', 'essa', 'situação', '.', 'é', 'essas', 'ações', 'despertam', 'em', 'mim', 'o', 'sentido', 'da', 'vida', 'mesmo', 'tá', 'ligado', '?', 'porque', 'eu', 'fico', 'pensando', 'assim', 'tá', '?', 'eu', 'estou', 'trampando', 'e', 'pá', 'estou', 'fazendo', 'o', 'meu', 'corre', 'mas', 'eu', 'acredito', 'que', 'o', 'meu', 'corre', 'ele', 'também', 'tem', 'que', 'estar', 'direcionado', 'para', 'o', 'pro', 'coletivo', ',', 'né', '?', 'e', 'pra', 'outras', 'pessoas', ',', 'enfim', ',', 'e', 'pras', 'demandas', 'que', 'a', 'gente', 'tem', 'coletivamente', ',', 'né', '?', 'porque', 'o', 'que', 'atravessa', 'o', 'meu', 'vizinho', 'também', 'me', 'atravessa', '.', 'a', 'violência', 'policial', 'que', 'bate', 'na', 'porta', 'da', 'minha', 'casa', ',', 'bate', 'não', ',', 'arromba', '.', 'também', 'o', 'que', 'acontece', 'com', 'meu', 'vizinho', 'né', '?', 'então', 'não', 'tem', 'como', 'eu', 'não', 'despertar', 'esse', 'senso', 'de', 'coletividade', 'está', 'ligado', '?', 'acho', 'que', 'é', 'isso', '.', 'conheci', 'paraisópolis', 'através', 'dos', 'meus', 'pais', 'e', 'das', 'minhas', 'irmãs', '.', 'eu', 'sou', 'baiana', 'natural', 'de', 'salvador', '.', 'e', 'eles', 'vieram', 'tentar', 'mudar', 'o', 'nosso', 'quadro', 'de', 'vida', 'e', 'perspectiva', '.', 'chegaram', 'aqui', 'no', 'ano', 'de', '1994', ',', 'e', 'eu', 'vim', 'só', 'no', 'ano', 'de', '2000.', 'no', 'começo', 'não', 'gostei', 'muito', 'de', 'paraisópolis', ',', 'mas', 'depois', 'de', 'cinco', 'meses', 'comecei', 'a', 'trabalhar', ',', 'voltei', 'a', 'estudar', ',', 'porque', 'logo', 'percebi', 'que', 'para', 'mudar', 'meu', 'destino', 'eu', 'precisava', 'voltar', 'a', 'estudar', 'aqui', '.', 'quando', 'cheguei', 'aqui', ',', 'no', 'ano', 'de', '2000', 'estranhei', 'muito', 'tudo', 'aqui', ',', 'como', 'morava', 'em', 'cidade', 'praiana', 'e', 'com', 'um', 'ritmo', 'de', 'vida', 'totalmente', 'diferente', ',', 'além', 'de', 'que', 'até', 'às', 'casas', 'são', 'de', 'proporções', 'diferentes', ',', 'tudo', 'isso', 'acabou', 'me', 'afetando', 'um', 'pouco', ',', 'mas', 'logo', 'após', 'cinco', 'meses', 'aqui', 'comecei', 'a', 'trabalhar', ',', 'acabei', 'por', 'me', 'acostumar', '.', 'paraisópolis', 'mudou', 'tanto', ',', 'cresceu', 'tanto', 'e', 'junto', 'com', 'esse', 'crescimento', 'veio', 'também', 'as', 'adversidades', ',', 'os', 'desafios', 'de', 'morar', 'em', 'um', 'lugar', 'assim', '.', 'mas', 'na', 'verdade', ',', 'em', 'matéria', 'de', 'segurança', 'me', 'sinto', 'muito', 'mais', 'segura', 'aqui', 'dentro', '.', 'a', 'comunidade', 'tem', 'seus', 'desafios', ',', 'mas', 'tem', 'suas', 'formas', 'de', 'acolhimento', 'também', '.', 'muita', 'coisa', 'boa', 'e', 'muita', 'gente', 'de', 'boa', 'fé', 'disposta', 'a', 'fazer', 'a', 'diferença', 'também', '.', 'aqui', 'temos', 'transporte', 'praticamente', 'para', 'todas', 'as', 'principais', 'regiões', ',', 'mas', 'é', 'claro', 'que', 'um', 'transporte', 'no', 'segmento', 'ferroviário', 'seria', 'de', 'grande', 'valia', 'também', '.', 'desde', 'a', 'época', 'da', 'então', 'prefeita', 'marta', 'suplicy', ',', 'existiam', 'projetos', 'para', 'a', 'linha', 'ferroviária', ',', 'depois', 'o', 'mário', 'covas', ',', 'falou', 'também', 'sobre', 'o', 'monotrilho', 'e', 'não', 'aconteceu', '.', 'pensando', 'em', 'cultura', ',', 'temos', 'um', 'campo', 'muito', 'conhecido', 'também', ',', 'o', 'campo', 'do', 'palmeirinha', ',', 'que', 'traz', 'bastante', 'torneios', 'aqui', 'pra', 'população', ',', 'e', 'ajuda', 'não', 'só', 'o', 'lazer', 'como', 'também', 'a', 'economia', '.', 'ainda', 'pensando', 'sobre', 'o', 'lazer', ',', 'temos', 'parque', 'de', 'diversões', 'também', ',', 'praças', 'e', 'muitos', 'shows', ',', 'temos', 'ongs', '...', 'estamos', 'bem', 'servidos', ',', 'mas', 'lógico', 'que', 'para', 'atender', 'uma', 'população', 'do', 'tamanho', 'da', 'nossa', ',', 'certamente', 'precisaríamos', 'de', 'mais', '.', 'em', 'saúde', 'também', ',', 'para', 'atender', 'o', 'tamanho', 'da', 'população', 'precisamos', 'de', 'mais', 'equipamentos', '.', 'o', 'começo', 'da', 'pandemia', 'foi', 'difícil', 'pra', 'todo', 'mundo', ',', 'não', 'tínhamos', 'nenhum', 'conhecimento', 'aprimorando', 'de', 'nada', ',', 'mas', 'com', 'muito', 'trabalho', 'e', 'dedicação', 'do', 'sus', ',', 'em', 'conjunto', 'com', 'a', 'colaboração', 'da', 'população', ',', 'conseguimos', 'atingir', 'com', 'eficácia', '.', 'lógico', 'que', 'tivemos', 'os', 'desafios', 'do', 'desemprego', ',', 'um', 'aumento', 'considerável', 'de', 'pessoas', 'em', 'situação', 'de', 'rua', '.', 'mas', 'tivemos', 'também', 'bastante', 'ajuda', 'aqui', 'na', 'comunidade', ',', 'muitas', 'doações', ',', 'óbvio', 'que', 'com', 'a', 'redução', 'do', 'crescimento', 'essas', 'doações', 'diminuíram', ',', 'o', 'que', 'acabou', 'afetou', 'e', 'afeta', 'muito', 'essa', 'parte', 'da', 'população', '.', 'infelizmente', 'não', 'participei', 'de', 'nenhuma', 'atuação', ',', 'apenas', 'trabalho', '.', 'trabalhei', 'fora', ',', 'agora', 'que', 'trabalho', 'aqui', 'na', 'ubs', 'paraisopolis', 'um', '.', 'e', 'gosto', 'muito', 'de', 'morar', 'aqui', '.', 'temos', 'acesso', 'a', 'tudo', 'aqui', '.']\n"
          ]
        }
      ]
    },
    {
      "cell_type": "code",
      "source": [
        "# Aqui também deixamos as palavras em letras minúsculas\n",
        "tokenized_word2 = [w.lower() for w in tokenized_word]\n",
        "print(tokenized_word2)"
      ],
      "metadata": {
        "colab": {
          "base_uri": "https://localhost:8080/"
        },
        "id": "NdtdpmkFJ-aR",
        "outputId": "1de4947b-f0fb-4e69-f076-8348a190f48a"
      },
      "execution_count": null,
      "outputs": [
        {
          "output_type": "stream",
          "name": "stdout",
          "text": [
            "['a', 'primeira', 'pergunta', 'é', 'sobre', 'um', 'pouco', 'da', 'minha', 'história', 'no', 'território', '.', 'então', ',', 'eu', 'cheguei', 'no', 'território', 'em', '1994', ',', 'tinha', '7', 'anos', 'de', 'idade', 'quando', 'fui', 'morar', 'no', 'paraisópolis', ',', 'fui', 'morar', 'por', 'ocasião', 'de', 'um', 'despejo', ',', 'ordem', 'de', 'despejo', 'que', 'a', 'prefeitura', 'fez', 'do', 'outro', 'lado', 'do', 'rio', 'que', 'era', 'a', 'comunidade', 'do', 'jardim', 'edite', 'i', 'que', 'compreendia', 'ali', 'onde', 'fica', 'a', 'rede', 'globo', 'na', 'luís', 'carlos', 'berrini', ',', 'a', 'avenida', 'hoje', 'roberto', 'marinho', 'que', 'era', 'chamada', 'avenida', 'águas', 'espraiadas', '.', 'minha', 'mãe', 'veio', 'da', 'zona', 'leste', 'para', 'trabalhar', 'na', 'zona', 'sul', 'nessas', 'casas', 'de', 'família', 'da', 'região', 'brooklin', 'e', 'todas', 'essas', 'regiões', ',', 'ela', 'se', 'instalou', 'ali', ',', 'comprou', 'um', 'barraquinho', 'ali', 'e', 'eu', 'era', 'garoto', '.', 'a', 'gente', 'foi', 'morar', 'ali', 'e', 'com', 'a', 'ordem', 'de', 'despejo', 'a', 'prefeitura', 'colocou', 'à', 'disposição', 'o', 'valor', 'na', 'época', ',', '5', 'mil', 'reais', 'ou', '4', 'mil', ',', 'e', 'minha', 'mãe', 'conseguiu', 'comprar', 'barraquinho', 'em', 'paraisópolis', 'e', 'a', 'gente', 'se', 'mudou', 'pra', 'cá', '.', 'e', 'eu', 'lembro', 'que', 'ali', 'em', '1990', 'paraisópolis', 'era', 'assim', 'um', 'lugar', 'ainda', 'mais', 'precário', 'em', 'recursos', '.', 'eu', 'me', 'lembro', 'que', 'morava', 'numa', 'das', 'principais', 'ruas', 'e', 'ficava', 'a', 'famosa', 'sedinha', 'onde', 'fica', 'a', 'sede', 'dos', 'representantes', 'comunitários', 'e', 'comerciais', 'de', 'paraisópolis', 'e', 'essa', 'rua', ',', 'por', 'exemplo', ',', 'a', 'parte', 'que', 'eu', 'morava', 'e', 'está', 'associação', ',', 'não', 'tinha', 'asfalto', ',', 'poucas', 'ruas', 'com', 'asfalto', ',', 'fazia-se', 'vaquinha', 'para', 'alugar', 'caminhão', 'e', 'comprar', 'concreto', 'e', 'todo', 'mundo', 'criança', ',', 'mulheres', ',', 'pessoas', 'mais', 'velhas', 'espalharam', 'o', 'concreto', 'e', 'assim', 'foi', 'o', 'asfaltamento', 'de', 'muitas', 'ruas', 'e', 'eu', 'participei', 'disso', 'naquela', 'ocasião', '.', 'esse', 'território', ',', 'naquele', 'período', ',', 'marcado', 'por', 'uma', 'escassez', ',', 'por', 'exemplo', ',', 'eu', 'fiquei', 'um', 'ano', 'fora', 'da', 'escola', ',', 'um', 'ano', 'atrasado', 'porque', 'não', 'tinha', 'vagas', ',', 'tinha', 'pouca', 'escolas', 'em', 'paraisópolis', 'pro', 'ensino', 'fundamental', ',', 'não', 'tinha', 'escolas', 'para', 'ensino', 'médio', 'naquele', 'período', 'e', 'o', 'pessoal', 'mais', 'velho', 'tinha', 'estudar', 'em', 'lugares', 'pertos', 'tipo', 'vila', 'sônia', ',', 'campo', 'limpo', '.', 'lembro', 'aqui', 'no', 'campo', 'limpo', 'ensino', 'médio', 'tinha', 'o', 'solito', ',', 'um', 'colégio', 'relativamente', 'distante', ',', 'mas', 'amigos', 'meus', 'mais', 'velhos', 'se', 'formaram', 'nessas', 'regiões', 'dentro', 'do', 'campo', 'limpo', 'e', 'vila', 'sônia', 'porque', 'não', 'tinha', 'naquele', 'período', 'escola', 'de', 'ensino', 'médio', '.', 'e', 'foi', 'um', 'pouco', 'assim', 'meu', 'começo', 'de', 'história', 'com', 'paraisopolis', '.', 'todo', 'esse', 'contexto', 'que', 'to', 'te', 'falando', 'de', 'escassez', ',', 'das', 'pessoas', 'se', 'unindo', 'para', 'asfaltar', 'e', 'eu', 'vivia', 'em', 'uma', 'rua', ',', 'nas', 'vielas', ',', 'imagina', 'quem', 'vivia', 'nas', 'vielas', '?', 'uma', 'coisa', 'interessante', 'nessa', 'forma', 'de', 'viver', 'na', 'comunidade', 'de', 'paraisópolis', 'naquele', 'período', ',', 'que', 'não', 'é', 'mais', 'assim', ',', 'paraisópolis', 'cresceu', 'demais', ',', 'uma', 'das', 'maiores', 'do', 'brasil', ',', 'mas', 'naquele', 'período', 'era', 'menor', 'e', 'a', 'pessoas', 'eram', 'mais', 'próximas', ',', 'a', 'gente', 'conhecia', 'mais', 'as', 'pessoas', ',', 'hoje', 'eu', 'circulo', 'em', 'paraisópolis', 'e', 'conheço', 'poucas', 'pessoas', ',', 'mas', 'quando', 'eu', 'era', 'garoto', 'todo', 'mundo', 'já', 'sabia', 'e', 'se', 'eu', 'fosse', 'aprontar', 'era', '“', 'o', 'dona', 'luzia', ',', 'encontrei', 'o', 'jonathans', '’', 'era', 'tip', 'cidadezinha', 'e', 'as', 'pessoas', 'se', 'conheciam', '.', 'e', 'pra', 'falar', 'de', 'onde', 'vem', 'as', 'pessoas', 'dali', ',', 'a', 'maioria', 'dos', 'meus', 'colegas', 'eram', 'do', 'nordeste', ',', 'menos', 'do', 'norte', 'e', 'sudeste', ',', 'minas', 'gerais', ',', 'rio', 'de', 'janeiro', 'muito', 'pouco', '.', 'esmagadora', 'maioria', 'nordeste', ',', 'piauí', ',', 'ceará', ',', 'pernambuco', ',', 'umas', 'pessoas', 'que', 'vinham', 'final', 'anos', '80', 'e', 'alguns', 'poucos', 'anos', '70', 'para', 'paraisópolis', 'e', 'assentaram', 'ali', 'e', 'construíram', 'suas', 'vidas', '.', 'hoje', 'eu', 'não', 'moro', 'mais', 'lá', 'e', 'saí', 'de', 'lá', 'com', '29', 'anos', ',', 'hoje', 'tenho', '32', ',', 'faz', 'quatro', 'anos', '.', 'sempre', 'foi', 'muito', 'difícil', 'no', 'ponto', 'de', 'vista', 'do', 'acesso', 'aos', 'serviços', 'públicos', ',', 'mesmo', 'hoje', 'e', 'não', 'só', 'no', 'paraisópolis', ',', 'mas', 'numa', 'favela', ',', 'numa', 'comunidade', 'isso', 'é', 'exacerbado', ',', 'é', 'bastante', 'nítido', 'ver', 'as', 'carências', '.', 'só', 'conseguimos', 'entrar', 'na', 'escola', 'por', 'conta', 'de', 'uma', 'parceria', 'que', 'o', 'único', 'colégio', 'aqui', 'no', 'paraisópolis', 'fez', 'com', 'um', 'colégio', 'privado', 'do', 'morumbi', ',', 'famoso', 'pio', 'xii', 'que', 'construíram', 'uma', 'escola', 'anexa', ',', 'super', 'pequenininha', 'pra', 'abrigar', 'a', 'gente', 'porque', 'é', 'um', 'terreno', 'grande', 'e', 'a', 'gente', 'estudou', 'lá', ',', 'então', 'a', 'gente', 'atravessava', 'todo', 'coração', 'do', 'morumbi', 'pra', 'chegar', 'ali', ',', 'perto', 'do', 'extra', 'da', 'marginal', 'pra', 'estudar', '.', 'esporte', '?', 'você', 'tinha', 'os', 'campinhos', ',', 'hoje', 'só', 'tem', 'um', '.', 'dentro', 'das', 'comunidades', 'tem', 'uma', 'especulação', 'imobiliária', 'feroz', ',', 'todo', 'espaço', 'é', 'muito', 'disputado', 'e', 'é', 'tudo', 'muito', 'caro', 'por', 'estar', 'no', 'coração', 'do', 'morumbi', '.', 'muitas', 'pessoas', 'vêm', 'de', 'fora', ',', 'de', 'outras', 'comunidades', 'ao', 'redor', ',', 'jardim', 'colombo', ',', 'real', 'parque', ',', 'vila', 'prel', ',', 'panorama', 'também', 'vão', 'até', 'a', 'comunidade', 'de', 'paraisópolis', 'para', 'usar', 'o', 'que', 'tem', ',', 'tem', 'parente', 'que', 'mora', 'lá', ',', 'e', 'tudo', 'isso', 'gera', 'muita', 'demanda', 'e', 'o', 'estado', 'fechou', 'os', 'olhos', 'para', 'as', 'comunidades', '.', 'paraisópolis', 'sempre', 'foi', 'uma', 'pedra', 'no', 'sapato', 'dos', 'governos', '.', 'o', 'primeiro', 'a', 'tentar', 'fazer', 'o', 'que', 'foi', 'feito', 'de', 'despejo', 'lá', 'no', 'jardim', 'edite', 'foi', 'o', 'maluf', ',', 'tentou', 'indenizar', 'algumas', 'famílias', ',', 'só', 'que', 'paraisopolis', 'tomou', 'uma', 'proporção', 'tão', 'grande', 'que', 'não', 'conseguiram', 'fazer', '.', 'só', 'que', 'existem', 'maneiras', 'de', 'sufocar', 'a', 'população', 'e', 'uma', 'delas', 'é', 'a', 'escassez', 'de', 'serviços', 'e', 'recursos', '.', 'hoje', 'acho', 'que', 'é', 'uma', 'realidade', 'diferente', ',', 'está', 'nas', 'mídias', ',', 'dá', 'pra', 'ver', 'que', 'tem', 'bastante', 'coisa', ',', 'claro', 'que', 'ainda', 'sim', 'não', 'alcança', 'todo', 'mundo', ',', 'é', 'muito', 'difícil', 'alcançar', 'determinados', 'grupos', '.', 'dentro', 'da', 'comunidade', 'também', 'tem', 'grupos', ',', 'uma', 'estratificação', 'grande', '.', 'mas', 'não', 'há', 'dúvidas', 'que', 'melhor', 'que', 'anos', '90', 'e', 'início', 'dos', 'anos', '2000.', 'a', 'possibilidade', 'de', 'prática', 'esportiva', 'era', 'muito', 'vaga', '.', 'hoje', 'paraisópolis', 'tem', 'escolas', 'grandes', 'de', 'vários', 'níveis', ',', 'tem', 'o', 'ceu', 'e', 'o', 'ceu', 'paraisópolis', 'é', 'um', 'modelo', 'em', 'todos', 'os', 'sentidos', ':', 'cursos', ',', 'o', 'teatro', 'é', 'um', 'dos', 'melhores', 'de', 'são', 'paulo', 'e', 'peças', 'importantes', 'aconteceram', 'por', 'lá', ',', 'tem', 'amostras', 'de', 'arte', '.', 'foi', 'evoluindo', ',', 'mas', 'muita', 'coisa', 'é', 'recente', 'e', 'não', 'dá', 'pra', 'falar', 'também', 'que', 'está', 'tudo', 'bem', ',', 'principalmente', 'na', 'área', 'da', 'saúde', 'que', 'são', 'muitos', 'gargalos', '.', 'não', 'moro', 'mais', 'lá', ',', 'mas', 'lá', 'estão', 'minhas', 'referências', 'de', 'vida', '.', 'fui', 'ficando', 'adulto', ',', 'entrei', 'na', 'universidade', 'e', 'em', 'paraisópolis', 'conheci', 'o', 'cursinho', 'gratuito', 'no', 'qual', 'eu', 'consegui', 'depois', 'ingressar', 'na', 'universidade', 'e', 'fui', 'convidado', 'a', 'voltar', 'e', 'ser', 'professor', ',', 'coordenador', 'e', 'depois', 'presidente', '.', 'e', 'na', 'universidade', 'a', 'coisa', 'melhorou', 'financeiramente', ',', 'estudando', 'e', 'trabalhando', '.', 'muitos', 'problemas', 'com', 'correspondência', ',', 'sem', 'o', 'correio', ',', 'isso', 'tudo', 'foi', 'se', 'juntando', '.', 'eu', 'morava', 'próximo', 'ao', 'pancadão', 'da', 'dz17', ',', 'numa', 'rotina', 'de', 'trabalhos', 'e', 'estudos', '.', 'dava', 'quinta-feira', 'a', 'segunda-feira', 'de', 'manhã', 'já', 'não', 'conseguia', 'mais', 'dormir', '.', 'então', 'eu', 'entendi', 'que', 'o', 'mais', 'adequado', 'a', 'se', 'fazer', 'era', 'procurar', 'um', 'lugar', 'tranquilo', '.', 'e', 'me', 'formando', 'e', 'com', 'trabalho', 'melhor', 'tive', 'condições', 'de', 'alugar', 'uma', 'casa', 'em', 'outro', 'bairro', '.', 'esse', 'foi', 'o', 'principal', 'motivo', 'para', 'me', 'mudar', 'de', 'paraisópolis', 'para', 'o', 'campo', 'limpo', '.', 'e', 'você', 'me', 'perguntando', 'as', 'diferenças', 'de', 'acesso', 'desses', 'lugares', '.', 'é', 'absurdo', ',', 'o', 'espaço', 'geográfico', 'das', 'vielas', ',', 'os', 'próprios', 'pancadões', 'que', 'são', 'difíceis', 'de', 'controlar', ',', 'a', 'superlotação', 'e', 'isso', 'são', 'realidades', 'do', 'território', 'de', 'paraisópolis', 'hoje', ',', 'agora', '.', 'aqui', 'não', 'é', 'nada', 'comparado', 'a', 'uma', 'superlotação', ',', 'o', 'sistema', 'viário', 'de', 'transporte', 'em', 'paraisópolis', 'é', 'extremamente', 'deficitário', 'e', 'quando', 'acontecem', 'os', 'bailes', 'os', 'ônibus', 'não', 'param', ',', 'a', 'garotada', 'lota', 'os', 'pontos', ',', 'às', 'vezes', 'embriagados', '.', 'então', 'se', 'você', 'for', 'pegar', 'ônibus', 'de', 'manhã', 'precisa', 'se', 'locomover', 'até', 'outro', 'ponto', 'e', 'isso', 'acontece', 'até', 'hoje', ',', 'agora', ',', 'se', 'você', 'for', 'lá', 'na', 'segunda-feira', 'vai', 'passar', 'por', 'isso', '.', 'para', 'minha', 'mãe', 'que', 'ainda', 'está', 'em', 'paraisópolis', ',', 'meus', 'amigos', 'e', 'família', 'na', 'pandemia', ',', 'foi', 'difícil', 'porque', 'já', 'era', 'muito', 'difícil', 'e', 'com', 'a', 'pandemia', 'isso', 'se', 'multiplicou', '.', 'eu', 'passava', 'dois', 'dias', 'da', 'semana', 'com', 'minha', 'mãe', ',', 'era', 'um', 'lugar', 'relativamente', 'tranquilo', '.', 'e', 'era', 'sem', 'médico', ',', 'sem', 'especialista', ',', 'renda', 'baixa', ',', 'muito', 'difícil', ',', 'a', 'pandemia', 'veio', 'como', 'uma', 'pá', 'de', 'cal', '.', 'meu', 'irmão', 'que', 'faleceu', 'era', 'entregador', 'de', 'ifood', ',', 'meu', 'outro', 'irmão', 'trabalhava', 'como', 'caixa', 'do', 'carrefour', 'e', 'minha', 'mãe', 'empregada', 'doméstica', '.', 'como', 'é', 'que', 'não', 'vai', 'sair', '?', 'pagando', 'aluguel', ',', 'como', 'vai', 'pagar', 'aluguel', 'e', 'comer', '?', 'e', 'você', 'soma', 'isso', 'com', 'espaços', 'super', 'apertados', ',', 'como', 'faz', 'isolamento', '?', 'muito', 'triste', 'um', 'pai', 'de', 'familia', 'nao', 'poder', 'trabalhar', ',', 'incertezas', ',', 'ter', 'que', 'se', 'isolar', 'em', 'outro', 'lugar', 'que', 'não', 'é', 'em', 'casa', '.', 'minha', 'mãe', 'sem', 'trabalhar', ',', 'fiquei', 'super', 'preocupado', '.', 'e', 'aí', 'a', 'gente', 'chega', 'no', 'projeto', 'em', 'si', 'né', '.', 'minha', 'mãe', 'me', 'ligou', 'em', 'meados', 'de', 'março', ',', 'a', 'gente', 'achava', 'que', 'a', 'pandemia', 'ia', 'ser', 'uma', 'coisa', 'rápida', ',', 'mas', 'as', 'patroas', 'já', 'começaram', 'a', 'ligar', 'cancelando', 'as', 'diárias', 'e', 'eu', 'enquanto', 'professor', 'de', 'cursinho', 'fiquei', 'pensando', 'quantas', 'mães', 'iguais', 'às', 'minhas', 'mães', 'estariam', 'nessa', 'situação', 'e', 'quantos', 'jonathan', 'estariam', 'nessa', 'situação', ',', 'jovens', 'sonhando', 'em', 'melhorar', 'a', 'vida', '.', 'chamei', 'algumas', 'pessoas', 'do', 'cursinho', ',', 'majoritariamente', 'professoras', ',', 'e', 'pensamos', 'nas', 'possibilidades', 'do', 'que', 'fazer', 'e', 'a', 'gente', 'pensou', 'em', 'paraisópolis', 'e', 'nos', 'alunos', 'do', 'nosso', 'cursinho', '.', 'a', 'estratégia', 'foi', 'fazer', 'o', 'levantamento', 'de', 'quantas', 'mães', 'que', 'também', 'eram', 'diaristas', 'e', 'tinham', 'perdido', 'seus', 'dias', 'de', 'trabalho', 'no', 'nosso', 'cursinho', '.', 'colocamos', 'a', 'mão', 'na', 'massa', ',', 'criamos', 'planilha', 'do', 'excel', ',', 'criamos', 'uns', 'forms', ',', 'chamamos', 'pessoas', 'pra', 'ajudar', 'e', 'deu', '15', 'mães', 'sem', 'ganho', ',', 'domésticas', 'e', 'comerciantes', '.', 'vamos', 'ajudar', 'essas', 'pessoas', '.', 'a', 'gente', 'descartou', 'de', 'pronto', 'a', 'questão', 'de', 'ajudar', 'com', 'cesta', ',', 'pensamos', 'na', 'aglomeração', 'que', 'isso', 'ia', 'gerar', 'e', 'pegar', 'ou', 'pegar', 'o', 'vírus', '.', 'definimos', 'que', 'seria', 'uma', 'ajuda', 'financeira', 'depositada', 'nas', 'contas', ',', 'vamos', 'fixar', 'um', 'valor', 'para', 'que', 'a', 'cada', '15', 'dias', '.', 'pensamos', 'em', 'um', 'valor', 'viável', ',', 'será', 'que', '400', 'a', 'gente', 'consegue', '?', 'como', 'a', 'gente', 'vai', 'conseguir', 'esse', 'dinheiro', '?', 'começamos', 'entre', 'nós', 'a', 'doação', 'e', 'depois', 'o', 'crossfader', '.', 'uma', 'colega', 'designer', 'montou', 'o', 'site', ',', 'escolhemos', 'o', 'vakinha', ',', 'vimos', 'quando', 'descansavam', ',', 'e', 'se', 'era', 'de', 'fácil', 'usabilidade', 'pras', 'pessoas', 'doarem', '.', 'e', 'aí', 'começamos', 'uma', 'divulgação', 'em', 'massa', ',', 'uma', 'campanha', 'massiva', 'com', 'imagens', 'textos', 'em', 'pouco', 'tempo', ',', 'menos', 'de', '15', 'dias', 'a', 'gente', 'já', 'tinha', 'o', 'dinheiro', 'do', 'primeiro', 'depósito', 'para', 'essas', '15', 'mães', ',', 'fomos', 'atrás', 'de', 'como', 'guardar', 'esses', 'dados', ',', 'sempre', 'com', 'muito', 'cuidado', 'e', 'distribuímos', 'esse', 'dinheiro', '.', 'depois', 'tínhamos', 'um', 'mês', 'garantido', ',', 'nos', 'antecipamos', 'ao', 'governo', ',', 'já', 'sabíamos', 'que', '200', 'reais', 'não', 'dava', 'pra', 'nada', ',', 'isso', 'tomou', 'uma', 'proporção', 'que', 'a', 'gente', 'não', 'esperava', ',', 'essa', 'divulgação', 'entre', 'amigos', 'e', 'conhecidos', 'chegam', 'a', 'lugares', 'que', 'foram', 'fundamentais', 'para', 'divulgação', 'da', 'campanha', '.', 'chegou', 'no', 'ouvido', 'de', 'jornalistas', 'renomados', '.', 'caiu', 'no', 'ouvido', 'da', 'mônica', 'bergamo', ',', 'então', 'ela', 'veio', 'falar', 'com', 'a', 'gente', ',', 'pediu', 'para', 'escrever', 'um', 'texto', 'e', 'publicou', 'esse', 'texto', 'na', 'coluna', 'dela', 'da', 'folha', 'de', 'são', 'paulo', 'na', 'página', 'principal', '.', 'outras', 'pessoas', 'que', 'viram', 'a', 'mônica', 'veio', 'falar', 'com', 'a', 'gente', 'e', 'a', 'tv', 'cultura', 'me', 'entrevistou', 'ao', 'vivo', 'na', 'hora', 'do', 'almoço', ',', 'jornais', 'internacionais', 'que', 'também', 'queriam', 'aplicar', 'a', 'ideia', 'e', 'condomínios', 'no', 'morumbi', 'entravam', 'em', 'contato', 'que', 'ajudavam', 'na', 'arrecadação', 'e', 'depositavam', '.', 'em', 'quatro', 'cinco', 'meses', 'já', 'tínhamos', '50', 'mil', 'reais', 'e', 'ajudamos', 'mais', 'de', '30', 'famílias', 'não', 'só', 'de', 'paraisópolis', ',', 'como', 'de', 'ocupações', 'em', 'mauá', ',', 'em', 'suzano', '.', 'governadores', 'e', 'deputados', 'entram', 'em', 'contato', 'para', 'saber', 'se', 'era', 'possível', 'divulgar', 'para', 'incluir', 'pessoas', 'na', 'lista', ',', 'mas', 'o', 'dinheiro', 'entrava', 'na', 'conta', 'e', 'já', 'saia', ',', 'precisava', 'de', 'limite', '.', 'a', 'campanha', 'durou', '2', 'anos', ',', 'e', 'no', 'último', 'eu', 'já', 'estava', 'muito', 'esgotado', ',', 'muita', 'gente', ',', 'muita', 'energia', ',', 'triste', ',', 'mães', 'me', 'mandavam', 'fotos', 'quando', 'recebiam', 'o', 'dinheiro', ',', 'fotos', 'e', 'vídeos', 'agradecendo', 'chorando', 'e', 'a', 'gente', 'absorve', 'essa', 'energia', '.', 'o', 'pessoal', 'queria', 'seguir', 'e', 'fazer', 'desse', 'projeto', 'um', 'programa', ',', 'mas', 'naquele', 'momento', 'eu', 'não', 'tinha', 'essa', 'força', ',', 'está', 'tudo', 'guardado', 'e', 'documentado', ',', 'o', 'projeto', 'ganhou', 'prêmios', 'e', 'foi', 'citado', 'como', 'modelo', ',', 'mas', 'surgiu', 'sem', 'nenhuma', 'pretensão', 'e', 'apenas', 'surgiu', '.', 'se', 'a', 'gente', 'teve', 'apoio', 'do', 'governo', ',', 'não', '.', 'nenhuma', 'secretaria', ',', 'fonte', 'de', 'fomento', 'entrou', 'em', 'contato', '.', 'o', 'que', 'tocou', 'foram', 'os', 'educadores', 'do', 'cursinho', ',', 'a', 'ideia', 'que', 'eu', 'tive', ',', 'que', 'nós', 'tivemos', ',', 'e', 'construíram', 'e', 'de', 'forma', 'espontânea', 'e', 'voluntária', ',', 'nada', 'institucional', '.', 'forças', 'instantâneas', '.', 'primeiro', 'eu', 'vou', 'me', 'apresentar', ',', 'eu', 'sou', 'glória', 'maria', ',', 'eu', 'tenho', 'vinte', 'e', 'três', 'anos', '.', 'sou', 'mãe', 'da', 'manu', ',', 'uma', 'criança', 'de', 'oito', 'anos', 'e', 'eu', 'nasci', 'no', 'estado', 'de', 'brasília', '.', 'eu', 'vim', 'morar', 'aqui', 'em', 'são', 'paulo', 'aos', 'quatorze', 'anos', ',', 'assim', 'que', 'eu', 'tive', 'a', 'manu', 'eu', 'vim', 'pra', 'cá', 'que', 'eu', 'morava', 'em', 'brasília', 'com', 'a', 'minha', 'avó', 'e', 'meus', 'pais', 'sempre', 'moraram', 'aqui', 'no', 'paraisópolis', '.', 'e', 'foi', 'assim', 'que', 'eu', 'conheci', 'paraisópolis', 'assim', ',', 'né', '?', 'a', 'partir', 'dessa', 'transição', 'de', 'quando', 'eu', 'saio', 'de', 'uma', 'periferia', 'de', 'brasília', 'que', 'se', 'chamava', 'samambaia', 'sul', '(', 'egião', 'administrativa', 'do', 'distrito', 'federal', 'brasileiro', ')', 'e', 'venho', 'morar', 'aqui', 'em', 'são', 'paulo', ',', 'no', 'paraisópolis', '.', 'como', 'eu', 'me', 'sinto', 'em', 'relação', 'a', 'paraisópolis', '?', 'foi', 'um', 'processo', 'de', 'descoberta', 'né', '?', 'entender', 'o', 'que', 'é', 'esse', 'território', 'e', 'quais', 'são', 'as', 'ações', ',', 'quais', 'são', 'as', 'lacunas', ',', 'as', 'demandas', ',', 'enfim', ',', 'as', 'violações', 'que', 'existem', 'neste', 'território', 'foi', 'uma', 'coisa', 'que', 'levou', 'um', 'tempo', '.', 'e', 'de', 'certa', 'forma', 'isso', 'veio', 'a', 'partir', 'do', 'movimento', 'de', 'ocupações', ',', 'né', '?', 'em', 'dois', 'mil', 'e', 'quinze', 'ocupações', 'das', 'escolas', 'estaduais', ',', 'né', '?', 'contra', 'a', 'reorganização', 'que', 'o', 'alckmin', 'estava', 'fazendo', '.', 'então', 'eu', 'acho', 'que', 'agora', 'sabendo', 'o', 'que', 'eu', 'sinto', 'que', 'o', 'paraisópolis', 'é', 'um', 'território', 'que', 'me', 'faz', 'que', 'eu', 'sinto', 'tipo', 'muitas', 'potências', 'mas', 'ao', 'mesmo', 'tempo', 'também', 'muitas', 'violações', ',', 'né', '?', 'eu', 'acho', 'que', 'isso', 'também', 'não', 'talvez', 'não', 'se', 'difere', 'de', 'outros', 'territórios', '.', 'sobre', 'a', 'sua', 'pergunta', 'sobre', 'o', 'acesso', 'a', 'transporte', ',', 'lazer', 'e', 'cultura', 'em', 'paraisópolis', ',', 'olha', 'aqui', 'no', 'paraisópolis', 'existe', 'um', 'polo', 'muito', 'focado', 'na', 'própria', 'comunidade', ',', 'né', '?', 'tem', 'muita', 'coisa', ',', 'tem', 'muita', 'loja', ',', 'tem', 'muito', 'movimento', 'acontecendo', '.', 'a', 'economia', 'é', 'muito', 'grande', ',', 'né', '?', 'circula', 'muita', 'grana', 'desses', 'comércios', ',', 'enfim', '.', 'o', 'transporte', ',', 'mano', ',', 'é', ',', 'a', 'gente', 'tem', 'né', '.', 'existe', 'sim', 'uma', 'certa', 'dificuldade', 'para', 'locomoção', 'pela', 'questão', 'de', 'superlotação', 'mesmo', '.', 'acho', 'que', 'é', 'uma', 'um', 'problema', 'bem', 'comum', 'também', 'essa', 'questão', 'do', 'lazer', 'e', 'cultura', ',', 'eu', 'acho', 'que', 'é', 'uma', 'coisa', 'que', 'pega', 'muito', 'porque', 'o', 'paraisópolis', 'é', 'um', 'espaço', 'que', 'não', 'tem', 'nem', 'calçada', ',', 'quem', 'dirá', 'um', 'espaço', 'de', 'lazer', '.', 'é', ',', 'a', 'gente', 'já', 'reivindicou', 'para', 'ter', 'casa', 'de', 'cultura', 'aqui', ',', 'só', 'que', 'a', 'prefeitura', 'sempre', 'justifica', 'que', 'é', 'a', 'casa', 'de', 'cultura', 'por', 'subprefeitura', 'e', 'a', 'subprefeitura', 'de', 'paraisópolis', 'é', 'o', 'campo', 'limpo', 'e', 'lá', 'já', 'existe', '.', 'mas', 'não', 'tem', 'condição', 'de', 'eu', 'que', 'sou', 'moradora', 'de', 'paraisópolis', 'me', 'deslocar', 'pro', 'campo', 'limpo', 'que', 'é', 'contramão', ',', 'sabe', '?', 'então', 'a', 'gente', 'tem', 'muita', 'dificuldade', 'de', 'ter', 'espaço', 'de', 'lazer', ',', 'e', 'os', 'espaços', 'de', 'lazer', 'que', 'a', 'gente', 'tem', 'próximo', 'aqui', 'é', 'da', 'galera', 'do', 'morumbi', 'que', 'é', 'um', 'espaço', 'totalmente', 'elitizado', 'com', 'coisas', 'caras', 'enfim', 'é', 'que', 'não', 'é', 'feito', 'pra', 'gente', 'né', 'então', 'o', 'que', 'falar', 'sinceramente', 'não', 'tem', 'espaço', 'de', 'lazer', 'nenhum', 'a', 'cultura', 'quem', 'move', 'é', 'quem', 'está', 'aqui', 'dentro', 'então', 'são', 'coletivos', 'independentes', '.', 'eu', 'fiz', 'a', 'batalha', 'do', 'paraisópolis', ',', 'né', '?', 'sou', 'uma', 'das', 'fundadoras', 'da', 'batalha', 'do', 'paraisópolis', '.', 'e', 'eu', 'e', 'o', 'meu', 'companheiro', 'mike', 'que', 'fazemos', 'a', 'batalha', 'já', 'tem', 'cinco', 'anos', ',', 'a', 'gente', 'está', 'parando', 'com', 'ela', 'agora', 'porque', 'a', 'gente', 'vai', 'iniciar', 'outro', 'projeto', 'que', 'se', 'chama', 'sete', 'notas', 'que', 'vai', 'ser', 'voltado', 'ser', 'o', 'estúdio', 'e', 'voltado', 'pros', 'artistas', 'independentes', 'daqui', ',', 'né', '?', 'o', 'estúdio', 'de', 'gravação', ',', 'enfim…', 'mas', 'a', 'cultura', 'ela', 'só', 'existe', 'porque', 'quem', 'mora', 'aqui', 'está', 'fazendo', 'sabe', '?', 'porque', 'se', 'for', 'ver', 'alguma', 'coisa', 'do', 'estado', 'tipo', ',', 'mano', ',', 'não', 'tem', '.', 'é', 'sobre', 'a', 'pandemia', ',', 'agora', 'na', 'parte', 'da', 'pandemia', '.', 'é', 'na', 'pandemia', ',', 'foi', 'bem', 'difícil', 'assim', 'né', '?', 'porque', 'paraisópolis', 'é', 'um', 'território', 'que', 'não', 'dorme', ',', 'é', 'um', 'território', 'que', 'as', 'pessoas', 'não', 'param', 'de', 'circular', '.', 'então', 'no', 'começo', 'a', 'galera', 'deu', 'uma', 'acalmada', 'mas', 'depois', 'tudo', 'voltou', 'assim', 'né', '?', 'tudo', 'voltou', '.', 'teve', 'então', 'todos', 'os', 'rolês', 'e', 'tudo', 'assim', 'durante', 'toda', 'a', 'pandemia', '.', 'foi', 'bem', 'caótico', '.', 'mas', 'teve', 'uma', 'organização', 'muito', 'boa', ',', 'a', 'galera', 'do', 'g10', 'que', 'tem', 'ambulâncias', ',', 'né', '?', 'então', 'tipo', 'aqui', 'a', 'ambulância', 'do', 'sus', 'não', 'entra', 'aqui', '.', 'então', 'a', 'galera', 'contratou', 'ambulâncias', 'para', 'atender', 'a', 'galera', '.', 'teve', 'também', 'o', 'projeto', 'das', 'marmitas', '.', 'então', 'essa', 'mobilização', 'de', 'organizações', 'aqui', ',', 'não', 'só', 'a', 'do', 'g10', ',', 'mas', 'a', 'batalha', 'por', 'exemplo', 'distribuiu', 'algumas', 'cestas', 'e', 'eu', 'acho', 'que', 'foram', 'cerca', 'de', 'quatrocentas', 'cestas', 'básicas', 'em', 'parceria', 'com', 'a', 'uneafro', '.', 'teve', 'também', 'os', 'projetos', 'da', 'cufa', '.', 'então', 'várias', 'ações', 'e', 'vários', 'coletivos', 'se', 'organizaram', 'para', 'conseguir', 'fortalecer', 'a', 'comunidade', 'principalmente', 'nessa', 'questão', 'de', 'alimentação', ',', 'né', '?', 'porque', 'essa', 'pessoa', 'não', 'está', 'trabalhando', '?', 'como', 'que', 'ela', 'vai', 'comprar', 'o', 'alimento', '?', 'essa', 'parte', 'de', 'ação', 'social', 'é', 'a', 'batalha', ',', 'mas', 'a', 'gente', 'costuma', ',', 'a', 'gente', 'costuma', 'fazer', 'tudo', 'de', 'forma', 'independente', ',', 'sem', 'apoio', '.', 'a', 'batalha', ',', 'por', 'exemplo', ',', 'só', 'teve', 'um', 'apoio', 'que', 'foi', 'em', 'dois', 'mil', 'e', 'dezoito', 'que', 'foi', 'o', 'vai', ',', 'aí', 'agora', 'a', 'gente', 'está', 'vindo', 'com', 'sete', 'notas', 'que', 'é', 'o', 'estúdio', 'a', 'gente', 'conseguiu', 'o', 'apoio', 'do', 'vai', ',', 'né', '?', 'só', 'que', 'a', 'gente', 'ainda', 'não', 'começou', ',', 'então', 'é', 'uma', 'coisa', 'que', 'ainda', 'está', 'em', 'processo', '.', 'eu', 'acredito', 'que', 'a', 'importância', 'da', 'atuação', 'social', 'é', 'fortalecer', 'mesmo', 'as', 'famílias', ',', 'né', '?', 'porque', 'as', 'pessoas', 'estão', 'em', 'situações', 'tão', 'vulneráveis', 'assim', 'em', 'geral', ',', 'né', '?', 'todo', 'mundo', 'e', 'aí', 'quando', 'vem', 'uma', 'doença', 'ou', 'qualquer', 'outra', 'coisa', 'isso', 'impacta', 'muito', 'na', 'questão', 'da', 'grana', 'que', 'essa', 'pessoa', 'tinha', 'pra', 'se', 'alimentar', ',', 'com', 'isso', 'e', 'muita', 'gente', 'que', 'perdeu', 'o', 'emprego', 'não', 'é', '?', 'então', 'como', 'essas', 'pessoas', 'podem', 'fazer', 'se', 'não', 'se', 'a', 'gente', 'está', 'num', 'momento', 'tão', 'sensível', 'de', 'desemprego', '.', 'e', 'também', 'em', 'que', 'as', 'coisas', 'estão', 'extremamente', 'caras', '.', 'que', 'a', 'gente', 'está', 'voltando', 'ali', 'pra', 'miséria', 'mesmo', ',', 'sabe', '?', 'a', 'galera', 'está', 'voltando', 'pra', 'fome', '.', 'então', 'a', 'solução', 'é', 'ter', 'ações', 'sociais', ',', 'é', 'olhar', 'pra', 'essas', 'pra', 'esse', 'público', ',', 'sabe', '?', 'é', 'olhar', 'para', 'esse', 'recorte', 'de', 'pessoas', 'que', 'estão', 'passando', 'por', 'essa', 'situação', '.', 'é', 'essas', 'ações', 'despertam', 'em', 'mim', 'o', 'sentido', 'da', 'vida', 'mesmo', 'tá', 'ligado', '?', 'porque', 'eu', 'fico', 'pensando', 'assim', 'tá', '?', 'eu', 'estou', 'trampando', 'e', 'pá', 'estou', 'fazendo', 'o', 'meu', 'corre', 'mas', 'eu', 'acredito', 'que', 'o', 'meu', 'corre', 'ele', 'também', 'tem', 'que', 'estar', 'direcionado', 'para', 'o', 'pro', 'coletivo', ',', 'né', '?', 'e', 'pra', 'outras', 'pessoas', ',', 'enfim', ',', 'e', 'pras', 'demandas', 'que', 'a', 'gente', 'tem', 'coletivamente', ',', 'né', '?', 'porque', 'o', 'que', 'atravessa', 'o', 'meu', 'vizinho', 'também', 'me', 'atravessa', '.', 'a', 'violência', 'policial', 'que', 'bate', 'na', 'porta', 'da', 'minha', 'casa', ',', 'bate', 'não', ',', 'arromba', '.', 'também', 'o', 'que', 'acontece', 'com', 'meu', 'vizinho', 'né', '?', 'então', 'não', 'tem', 'como', 'eu', 'não', 'despertar', 'esse', 'senso', 'de', 'coletividade', 'está', 'ligado', '?', 'acho', 'que', 'é', 'isso', '.', 'conheci', 'paraisópolis', 'através', 'dos', 'meus', 'pais', 'e', 'das', 'minhas', 'irmãs', '.', 'eu', 'sou', 'baiana', 'natural', 'de', 'salvador', '.', 'e', 'eles', 'vieram', 'tentar', 'mudar', 'o', 'nosso', 'quadro', 'de', 'vida', 'e', 'perspectiva', '.', 'chegaram', 'aqui', 'no', 'ano', 'de', '1994', ',', 'e', 'eu', 'vim', 'só', 'no', 'ano', 'de', '2000.', 'no', 'começo', 'não', 'gostei', 'muito', 'de', 'paraisópolis', ',', 'mas', 'depois', 'de', 'cinco', 'meses', 'comecei', 'a', 'trabalhar', ',', 'voltei', 'a', 'estudar', ',', 'porque', 'logo', 'percebi', 'que', 'para', 'mudar', 'meu', 'destino', 'eu', 'precisava', 'voltar', 'a', 'estudar', 'aqui', '.', 'quando', 'cheguei', 'aqui', ',', 'no', 'ano', 'de', '2000', 'estranhei', 'muito', 'tudo', 'aqui', ',', 'como', 'morava', 'em', 'cidade', 'praiana', 'e', 'com', 'um', 'ritmo', 'de', 'vida', 'totalmente', 'diferente', ',', 'além', 'de', 'que', 'até', 'às', 'casas', 'são', 'de', 'proporções', 'diferentes', ',', 'tudo', 'isso', 'acabou', 'me', 'afetando', 'um', 'pouco', ',', 'mas', 'logo', 'após', 'cinco', 'meses', 'aqui', 'comecei', 'a', 'trabalhar', ',', 'acabei', 'por', 'me', 'acostumar', '.', 'paraisópolis', 'mudou', 'tanto', ',', 'cresceu', 'tanto', 'e', 'junto', 'com', 'esse', 'crescimento', 'veio', 'também', 'as', 'adversidades', ',', 'os', 'desafios', 'de', 'morar', 'em', 'um', 'lugar', 'assim', '.', 'mas', 'na', 'verdade', ',', 'em', 'matéria', 'de', 'segurança', 'me', 'sinto', 'muito', 'mais', 'segura', 'aqui', 'dentro', '.', 'a', 'comunidade', 'tem', 'seus', 'desafios', ',', 'mas', 'tem', 'suas', 'formas', 'de', 'acolhimento', 'também', '.', 'muita', 'coisa', 'boa', 'e', 'muita', 'gente', 'de', 'boa', 'fé', 'disposta', 'a', 'fazer', 'a', 'diferença', 'também', '.', 'aqui', 'temos', 'transporte', 'praticamente', 'para', 'todas', 'as', 'principais', 'regiões', ',', 'mas', 'é', 'claro', 'que', 'um', 'transporte', 'no', 'segmento', 'ferroviário', 'seria', 'de', 'grande', 'valia', 'também', '.', 'desde', 'a', 'época', 'da', 'então', 'prefeita', 'marta', 'suplicy', ',', 'existiam', 'projetos', 'para', 'a', 'linha', 'ferroviária', ',', 'depois', 'o', 'mário', 'covas', ',', 'falou', 'também', 'sobre', 'o', 'monotrilho', 'e', 'não', 'aconteceu', '.', 'pensando', 'em', 'cultura', ',', 'temos', 'um', 'campo', 'muito', 'conhecido', 'também', ',', 'o', 'campo', 'do', 'palmeirinha', ',', 'que', 'traz', 'bastante', 'torneios', 'aqui', 'pra', 'população', ',', 'e', 'ajuda', 'não', 'só', 'o', 'lazer', 'como', 'também', 'a', 'economia', '.', 'ainda', 'pensando', 'sobre', 'o', 'lazer', ',', 'temos', 'parque', 'de', 'diversões', 'também', ',', 'praças', 'e', 'muitos', 'shows', ',', 'temos', 'ongs', '...', 'estamos', 'bem', 'servidos', ',', 'mas', 'lógico', 'que', 'para', 'atender', 'uma', 'população', 'do', 'tamanho', 'da', 'nossa', ',', 'certamente', 'precisaríamos', 'de', 'mais', '.', 'em', 'saúde', 'também', ',', 'para', 'atender', 'o', 'tamanho', 'da', 'população', 'precisamos', 'de', 'mais', 'equipamentos', '.', 'o', 'começo', 'da', 'pandemia', 'foi', 'difícil', 'pra', 'todo', 'mundo', ',', 'não', 'tínhamos', 'nenhum', 'conhecimento', 'aprimorando', 'de', 'nada', ',', 'mas', 'com', 'muito', 'trabalho', 'e', 'dedicação', 'do', 'sus', ',', 'em', 'conjunto', 'com', 'a', 'colaboração', 'da', 'população', ',', 'conseguimos', 'atingir', 'com', 'eficácia', '.', 'lógico', 'que', 'tivemos', 'os', 'desafios', 'do', 'desemprego', ',', 'um', 'aumento', 'considerável', 'de', 'pessoas', 'em', 'situação', 'de', 'rua', '.', 'mas', 'tivemos', 'também', 'bastante', 'ajuda', 'aqui', 'na', 'comunidade', ',', 'muitas', 'doações', ',', 'óbvio', 'que', 'com', 'a', 'redução', 'do', 'crescimento', 'essas', 'doações', 'diminuíram', ',', 'o', 'que', 'acabou', 'afetou', 'e', 'afeta', 'muito', 'essa', 'parte', 'da', 'população', '.', 'infelizmente', 'não', 'participei', 'de', 'nenhuma', 'atuação', ',', 'apenas', 'trabalho', '.', 'trabalhei', 'fora', ',', 'agora', 'que', 'trabalho', 'aqui', 'na', 'ubs', 'paraisopolis', 'um', '.', 'e', 'gosto', 'muito', 'de', 'morar', 'aqui', '.', 'temos', 'acesso', 'a', 'tudo', 'aqui', '.']\n"
          ]
        }
      ]
    },
    {
      "cell_type": "markdown",
      "source": [
        "#Remover Stopwords\n",
        "Existem palavras na construção textual chamadas de stopwords, tais palavras, dentro de uma abordagem de NLP, são irrelevantes e sua remoção colaboram com a analise textual. Alguns exemplos de stopwords comuns no português são preposições (em, na, no, etc), artigos (a, o,os, etc),conjunções (e, mas, etc), entre outras."
      ],
      "metadata": {
        "id": "ZXaubku2OFvf"
      }
    },
    {
      "cell_type": "code",
      "source": [
        "#1)importar analise de stopwords e também visualizar as existentes\n",
        "from nltk.corpus import stopwords\n",
        "nltk.download('stopwords')\n",
        "stop_words = set(stopwords.words('portuguese'))\n",
        "print(stop_words)"
      ],
      "metadata": {
        "colab": {
          "base_uri": "https://localhost:8080/"
        },
        "id": "8BcqTPhvFZbQ",
        "outputId": "ec74a823-1071-4264-c883-4bb558d3db1e"
      },
      "execution_count": null,
      "outputs": [
        {
          "output_type": "stream",
          "name": "stdout",
          "text": [
            "{'fosse', 'dela', 'aquelas', 'estar', 'estiveram', 'for', 'seremos', 'só', 'me', 'estávamos', 'seriam', 'você', 'aquela', 'nossas', 'minha', 'nossos', 'te', 'tem', 'estiverem', 'houverão', 'estivermos', 'fôssemos', 'seus', 'um', 'elas', 'houveríamos', 'a', 'minhas', 'tivemos', 'com', 'tenho', 'sem', 'estou', 'dele', 'seria', 'por', 'de', 'este', 'fora', 'lhes', 'tenham', 'uma', 'haver', 'eu', 'até', 'houveram', 'pelo', 'terei', 'nem', 'houveriam', 'isso', 'fossem', 'houverei', 'serão', 'haja', 'tuas', 'esse', 'tivermos', 'teríamos', 'houveria', 'esses', 'tínhamos', 'tiver', 'essa', 'num', 'aquele', 'estivemos', 'houvessem', 'tivessem', 'como', 'tém', 'da', 'meus', 'deles', 'havemos', 'estivéramos', 'éramos', 'já', 'na', 'fui', 'isto', 'sua', 'houverá', 'estes', 'pelas', 'sou', 'terão', 'tive', 'nós', 'houvemos', 'aos', 'meu', 'hajam', 'essas', 'nosso', 'tu', 'teus', 'hão', 'são', 'estavam', 'nossa', 'tenha', 'esteve', 'sejam', 'teria', 'houvera', 'terá', 'formos', 'ser', 'nas', 'suas', 'estas', 'está', 'estejamos', 'tinham', 'ela', 'era', 'tenhamos', 'foram', 'às', 'é', 'hei', 'teve', 'ele', 'mas', 'em', 'houverem', 'houvéramos', 'tua', 'fôramos', 'muito', 'aqueles', 'forem', 'houvesse', 'quando', 'qual', 'ou', 'esteja', 'estivéssemos', 'tiverem', 'fomos', 'tivesse', 'somos', 'nos', 'há', 'sejamos', 'eram', 'houver', 'mesmo', 'delas', 'hajamos', 'aquilo', 'será', 'houve', 'numa', 'o', 'foi', 'as', 'os', 'tinha', 'ao', 'tivera', 'houvéssemos', 'também', 'depois', 'seríamos', 'lhe', 'que', 'pelos', 'não', 'dos', 'vos', 'estamos', 'para', 'estivessem', 'estejam', 'e', 'houveremos', 'quem', 'estivera', 'à', 'serei', 'teu', 'estiver', 'tivéssemos', 'esta', 'estivesse', 'entre', 'no', 'tiveram', 'teriam', 'estive', 'se', 'houvermos', 'tivéramos', 'vocês', 'pela', 'teremos', 'temos', 'estava', 'seja', 'das', 'eles', 'mais', 'do', 'seu', 'estão'}\n"
          ]
        },
        {
          "output_type": "stream",
          "name": "stderr",
          "text": [
            "[nltk_data] Downloading package stopwords to /root/nltk_data...\n",
            "[nltk_data]   Package stopwords is already up-to-date!\n"
          ]
        }
      ]
    },
    {
      "cell_type": "code",
      "source": [
        "#2) aqui eu tiro o que nao quero\n",
        "stop_words.update(('uso', 'né', '/','i',',',';','l','.',':', '***','-','–','|', '!', '?','gente','aqui', 'então', 'pra',\n",
        "                   'porque', 'acho', 'assim', 'anos', 'coisa','tudo', 'muita', 'hoje','lá', 'ali', 'vai', 'todo','campo',\n",
        "                   'agora','sobre', 'outro', 'espaço'))\n",
        "print(stop_words)"
      ],
      "metadata": {
        "colab": {
          "base_uri": "https://localhost:8080/"
        },
        "id": "k48zDvnsGmCc",
        "outputId": "a45c40fd-0175-4979-ad6f-162400436f9c"
      },
      "execution_count": null,
      "outputs": [
        {
          "output_type": "stream",
          "name": "stdout",
          "text": [
            "{'fosse', 'dela', 'aquelas', 'estar', 'estiveram', 'for', 'seremos', 'agora', 'aqui', 'gente', 'ali', 'só', 'me', 'estávamos', 'seriam', 'você', 'campo', 'né', 'aquela', 'nossas', 'minha', 'nossos', 'te', 'tem', 'estiverem', 'houverão', '/', 'estivermos', 'fôssemos', 'seus', 'um', 'elas', 'houveríamos', 'todo', 'a', 'minhas', 'tivemos', 'com', 'tenho', 'sem', 'estou', 'dele', 'seria', 'por', 'de', 'este', 'fora', 'lhes', 'tenham', 'uma', 'coisa', 'haver', 'eu', 'até', 'houveram', 'pelo', 'terei', 'nem', 'houveriam', ',', 'isso', 'fossem', 'houverei', 'serão', 'haja', 'tuas', 'vai', '***', 'esse', 'tivermos', 'teríamos', 'houveria', 'esses', 'tínhamos', 'tiver', 'espaço', 'essa', 'num', 'aquele', 'estivemos', 'houvessem', 'tivessem', 'como', 'tém', '?', 'da', 'meus', 'deles', 'havemos', 'estivéramos', 'uso', 'éramos', 'já', 'na', '-', '!', 'fui', 'isto', 'l', 'sua', 'houverá', 'estes', 'pelas', 'sou', 'terão', 'tive', 'nós', 'sobre', 'houvemos', 'aos', 'meu', 'hajam', 'essas', 'nosso', 'tu', 'teus', 'hão', 'muita', 'são', 'estavam', 'nossa', 'tenha', 'esteve', 'anos', 'sejam', ':', 'teria', 'houvera', 'terá', 'formos', 'ser', 'nas', 'i', '–', 'acho', 'suas', 'estas', 'tudo', 'está', 'estejamos', 'tinham', 'ela', 'era', 'tenhamos', 'foram', 'às', 'é', 'hei', 'teve', 'ele', 'mas', 'em', 'houverem', 'houvéramos', 'tua', 'fôramos', 'muito', 'aqueles', 'forem', 'houvesse', 'outro', 'quando', 'qual', '.', 'ou', 'esteja', 'estivéssemos', 'tiverem', 'fomos', 'tivesse', 'somos', 'pra', 'nos', 'há', 'sejamos', 'eram', 'houver', 'mesmo', 'delas', 'hajamos', 'aquilo', 'será', 'houve', 'numa', 'assim', 'o', 'foi', 'as', 'os', 'tinha', 'ao', 'tivera', 'houvéssemos', 'também', 'depois', 'então', 'seríamos', 'lhe', 'que', 'pelos', 'não', 'dos', 'vos', 'estamos', 'para', 'estivessem', 'estejam', 'e', 'houveremos', 'quem', 'estivera', 'à', 'serei', 'teu', 'estiver', 'tivéssemos', 'esta', 'estivesse', '|', 'entre', 'no', 'tiveram', 'teriam', 'estive', 'se', 'houvermos', 'tivéramos', 'porque', 'vocês', 'pela', 'teremos', 'temos', 'estava', 'seja', 'das', 'lá', 'eles', 'mais', 'do', 'seu', 'hoje', 'estão', ';'}\n"
          ]
        }
      ]
    },
    {
      "cell_type": "code",
      "source": [
        "#3) Remover essas stopwords\n",
        "tokenized_word_3 = []\n",
        "for w in tokenized_word2:\n",
        "    if w not in stop_words:\n",
        "        tokenized_word_3.append(w)\n",
        "\n",
        "tokenized_word_3"
      ],
      "metadata": {
        "colab": {
          "base_uri": "https://localhost:8080/"
        },
        "id": "ymn0PCVxFGS6",
        "outputId": "709349ec-1489-4b81-9093-f20ce124bd66"
      },
      "execution_count": null,
      "outputs": [
        {
          "output_type": "execute_result",
          "data": {
            "text/plain": [
              "['primeira',\n",
              " 'pergunta',\n",
              " 'pouco',\n",
              " 'história',\n",
              " 'território',\n",
              " 'cheguei',\n",
              " 'território',\n",
              " '1994',\n",
              " '7',\n",
              " 'idade',\n",
              " 'morar',\n",
              " 'paraisópolis',\n",
              " 'morar',\n",
              " 'ocasião',\n",
              " 'despejo',\n",
              " 'ordem',\n",
              " 'despejo',\n",
              " 'prefeitura',\n",
              " 'fez',\n",
              " 'lado',\n",
              " 'rio',\n",
              " 'comunidade',\n",
              " 'jardim',\n",
              " 'edite',\n",
              " 'compreendia',\n",
              " 'onde',\n",
              " 'fica',\n",
              " 'rede',\n",
              " 'globo',\n",
              " 'luís',\n",
              " 'carlos',\n",
              " 'berrini',\n",
              " 'avenida',\n",
              " 'roberto',\n",
              " 'marinho',\n",
              " 'chamada',\n",
              " 'avenida',\n",
              " 'águas',\n",
              " 'espraiadas',\n",
              " 'mãe',\n",
              " 'veio',\n",
              " 'zona',\n",
              " 'leste',\n",
              " 'trabalhar',\n",
              " 'zona',\n",
              " 'sul',\n",
              " 'nessas',\n",
              " 'casas',\n",
              " 'família',\n",
              " 'região',\n",
              " 'brooklin',\n",
              " 'todas',\n",
              " 'regiões',\n",
              " 'instalou',\n",
              " 'comprou',\n",
              " 'barraquinho',\n",
              " 'garoto',\n",
              " 'morar',\n",
              " 'ordem',\n",
              " 'despejo',\n",
              " 'prefeitura',\n",
              " 'colocou',\n",
              " 'disposição',\n",
              " 'valor',\n",
              " 'época',\n",
              " '5',\n",
              " 'mil',\n",
              " 'reais',\n",
              " '4',\n",
              " 'mil',\n",
              " 'mãe',\n",
              " 'conseguiu',\n",
              " 'comprar',\n",
              " 'barraquinho',\n",
              " 'paraisópolis',\n",
              " 'mudou',\n",
              " 'cá',\n",
              " 'lembro',\n",
              " '1990',\n",
              " 'paraisópolis',\n",
              " 'lugar',\n",
              " 'ainda',\n",
              " 'precário',\n",
              " 'recursos',\n",
              " 'lembro',\n",
              " 'morava',\n",
              " 'principais',\n",
              " 'ruas',\n",
              " 'ficava',\n",
              " 'famosa',\n",
              " 'sedinha',\n",
              " 'onde',\n",
              " 'fica',\n",
              " 'sede',\n",
              " 'representantes',\n",
              " 'comunitários',\n",
              " 'comerciais',\n",
              " 'paraisópolis',\n",
              " 'rua',\n",
              " 'exemplo',\n",
              " 'parte',\n",
              " 'morava',\n",
              " 'associação',\n",
              " 'asfalto',\n",
              " 'poucas',\n",
              " 'ruas',\n",
              " 'asfalto',\n",
              " 'fazia-se',\n",
              " 'vaquinha',\n",
              " 'alugar',\n",
              " 'caminhão',\n",
              " 'comprar',\n",
              " 'concreto',\n",
              " 'mundo',\n",
              " 'criança',\n",
              " 'mulheres',\n",
              " 'pessoas',\n",
              " 'velhas',\n",
              " 'espalharam',\n",
              " 'concreto',\n",
              " 'asfaltamento',\n",
              " 'muitas',\n",
              " 'ruas',\n",
              " 'participei',\n",
              " 'disso',\n",
              " 'naquela',\n",
              " 'ocasião',\n",
              " 'território',\n",
              " 'naquele',\n",
              " 'período',\n",
              " 'marcado',\n",
              " 'escassez',\n",
              " 'exemplo',\n",
              " 'fiquei',\n",
              " 'ano',\n",
              " 'escola',\n",
              " 'ano',\n",
              " 'atrasado',\n",
              " 'vagas',\n",
              " 'pouca',\n",
              " 'escolas',\n",
              " 'paraisópolis',\n",
              " 'pro',\n",
              " 'ensino',\n",
              " 'fundamental',\n",
              " 'escolas',\n",
              " 'ensino',\n",
              " 'médio',\n",
              " 'naquele',\n",
              " 'período',\n",
              " 'pessoal',\n",
              " 'velho',\n",
              " 'estudar',\n",
              " 'lugares',\n",
              " 'pertos',\n",
              " 'tipo',\n",
              " 'vila',\n",
              " 'sônia',\n",
              " 'limpo',\n",
              " 'lembro',\n",
              " 'limpo',\n",
              " 'ensino',\n",
              " 'médio',\n",
              " 'solito',\n",
              " 'colégio',\n",
              " 'relativamente',\n",
              " 'distante',\n",
              " 'amigos',\n",
              " 'velhos',\n",
              " 'formaram',\n",
              " 'nessas',\n",
              " 'regiões',\n",
              " 'dentro',\n",
              " 'limpo',\n",
              " 'vila',\n",
              " 'sônia',\n",
              " 'naquele',\n",
              " 'período',\n",
              " 'escola',\n",
              " 'ensino',\n",
              " 'médio',\n",
              " 'pouco',\n",
              " 'começo',\n",
              " 'história',\n",
              " 'paraisopolis',\n",
              " 'contexto',\n",
              " 'to',\n",
              " 'falando',\n",
              " 'escassez',\n",
              " 'pessoas',\n",
              " 'unindo',\n",
              " 'asfaltar',\n",
              " 'vivia',\n",
              " 'rua',\n",
              " 'vielas',\n",
              " 'imagina',\n",
              " 'vivia',\n",
              " 'vielas',\n",
              " 'interessante',\n",
              " 'nessa',\n",
              " 'forma',\n",
              " 'viver',\n",
              " 'comunidade',\n",
              " 'paraisópolis',\n",
              " 'naquele',\n",
              " 'período',\n",
              " 'paraisópolis',\n",
              " 'cresceu',\n",
              " 'demais',\n",
              " 'maiores',\n",
              " 'brasil',\n",
              " 'naquele',\n",
              " 'período',\n",
              " 'menor',\n",
              " 'pessoas',\n",
              " 'próximas',\n",
              " 'conhecia',\n",
              " 'pessoas',\n",
              " 'circulo',\n",
              " 'paraisópolis',\n",
              " 'conheço',\n",
              " 'poucas',\n",
              " 'pessoas',\n",
              " 'garoto',\n",
              " 'mundo',\n",
              " 'sabia',\n",
              " 'aprontar',\n",
              " '“',\n",
              " 'dona',\n",
              " 'luzia',\n",
              " 'encontrei',\n",
              " 'jonathans',\n",
              " '’',\n",
              " 'tip',\n",
              " 'cidadezinha',\n",
              " 'pessoas',\n",
              " 'conheciam',\n",
              " 'falar',\n",
              " 'onde',\n",
              " 'vem',\n",
              " 'pessoas',\n",
              " 'dali',\n",
              " 'maioria',\n",
              " 'colegas',\n",
              " 'nordeste',\n",
              " 'menos',\n",
              " 'norte',\n",
              " 'sudeste',\n",
              " 'minas',\n",
              " 'gerais',\n",
              " 'rio',\n",
              " 'janeiro',\n",
              " 'pouco',\n",
              " 'esmagadora',\n",
              " 'maioria',\n",
              " 'nordeste',\n",
              " 'piauí',\n",
              " 'ceará',\n",
              " 'pernambuco',\n",
              " 'umas',\n",
              " 'pessoas',\n",
              " 'vinham',\n",
              " 'final',\n",
              " '80',\n",
              " 'alguns',\n",
              " 'poucos',\n",
              " '70',\n",
              " 'paraisópolis',\n",
              " 'assentaram',\n",
              " 'construíram',\n",
              " 'vidas',\n",
              " 'moro',\n",
              " 'saí',\n",
              " '29',\n",
              " '32',\n",
              " 'faz',\n",
              " 'quatro',\n",
              " 'sempre',\n",
              " 'difícil',\n",
              " 'ponto',\n",
              " 'vista',\n",
              " 'acesso',\n",
              " 'serviços',\n",
              " 'públicos',\n",
              " 'paraisópolis',\n",
              " 'favela',\n",
              " 'comunidade',\n",
              " 'exacerbado',\n",
              " 'bastante',\n",
              " 'nítido',\n",
              " 'ver',\n",
              " 'carências',\n",
              " 'conseguimos',\n",
              " 'entrar',\n",
              " 'escola',\n",
              " 'conta',\n",
              " 'parceria',\n",
              " 'único',\n",
              " 'colégio',\n",
              " 'paraisópolis',\n",
              " 'fez',\n",
              " 'colégio',\n",
              " 'privado',\n",
              " 'morumbi',\n",
              " 'famoso',\n",
              " 'pio',\n",
              " 'xii',\n",
              " 'construíram',\n",
              " 'escola',\n",
              " 'anexa',\n",
              " 'super',\n",
              " 'pequenininha',\n",
              " 'abrigar',\n",
              " 'terreno',\n",
              " 'grande',\n",
              " 'estudou',\n",
              " 'atravessava',\n",
              " 'coração',\n",
              " 'morumbi',\n",
              " 'chegar',\n",
              " 'perto',\n",
              " 'extra',\n",
              " 'marginal',\n",
              " 'estudar',\n",
              " 'esporte',\n",
              " 'campinhos',\n",
              " 'dentro',\n",
              " 'comunidades',\n",
              " 'especulação',\n",
              " 'imobiliária',\n",
              " 'feroz',\n",
              " 'disputado',\n",
              " 'caro',\n",
              " 'coração',\n",
              " 'morumbi',\n",
              " 'muitas',\n",
              " 'pessoas',\n",
              " 'vêm',\n",
              " 'outras',\n",
              " 'comunidades',\n",
              " 'redor',\n",
              " 'jardim',\n",
              " 'colombo',\n",
              " 'real',\n",
              " 'parque',\n",
              " 'vila',\n",
              " 'prel',\n",
              " 'panorama',\n",
              " 'vão',\n",
              " 'comunidade',\n",
              " 'paraisópolis',\n",
              " 'usar',\n",
              " 'parente',\n",
              " 'mora',\n",
              " 'gera',\n",
              " 'demanda',\n",
              " 'estado',\n",
              " 'fechou',\n",
              " 'olhos',\n",
              " 'comunidades',\n",
              " 'paraisópolis',\n",
              " 'sempre',\n",
              " 'pedra',\n",
              " 'sapato',\n",
              " 'governos',\n",
              " 'primeiro',\n",
              " 'tentar',\n",
              " 'fazer',\n",
              " 'feito',\n",
              " 'despejo',\n",
              " 'jardim',\n",
              " 'edite',\n",
              " 'maluf',\n",
              " 'tentou',\n",
              " 'indenizar',\n",
              " 'algumas',\n",
              " 'famílias',\n",
              " 'paraisopolis',\n",
              " 'tomou',\n",
              " 'proporção',\n",
              " 'tão',\n",
              " 'grande',\n",
              " 'conseguiram',\n",
              " 'fazer',\n",
              " 'existem',\n",
              " 'maneiras',\n",
              " 'sufocar',\n",
              " 'população',\n",
              " 'escassez',\n",
              " 'serviços',\n",
              " 'recursos',\n",
              " 'realidade',\n",
              " 'diferente',\n",
              " 'mídias',\n",
              " 'dá',\n",
              " 'ver',\n",
              " 'bastante',\n",
              " 'claro',\n",
              " 'ainda',\n",
              " 'sim',\n",
              " 'alcança',\n",
              " 'mundo',\n",
              " 'difícil',\n",
              " 'alcançar',\n",
              " 'determinados',\n",
              " 'grupos',\n",
              " 'dentro',\n",
              " 'comunidade',\n",
              " 'grupos',\n",
              " 'estratificação',\n",
              " 'grande',\n",
              " 'dúvidas',\n",
              " 'melhor',\n",
              " '90',\n",
              " 'início',\n",
              " '2000.',\n",
              " 'possibilidade',\n",
              " 'prática',\n",
              " 'esportiva',\n",
              " 'vaga',\n",
              " 'paraisópolis',\n",
              " 'escolas',\n",
              " 'grandes',\n",
              " 'vários',\n",
              " 'níveis',\n",
              " 'ceu',\n",
              " 'ceu',\n",
              " 'paraisópolis',\n",
              " 'modelo',\n",
              " 'todos',\n",
              " 'sentidos',\n",
              " 'cursos',\n",
              " 'teatro',\n",
              " 'melhores',\n",
              " 'paulo',\n",
              " 'peças',\n",
              " 'importantes',\n",
              " 'aconteceram',\n",
              " 'amostras',\n",
              " 'arte',\n",
              " 'evoluindo',\n",
              " 'recente',\n",
              " 'dá',\n",
              " 'falar',\n",
              " 'bem',\n",
              " 'principalmente',\n",
              " 'área',\n",
              " 'saúde',\n",
              " 'muitos',\n",
              " 'gargalos',\n",
              " 'moro',\n",
              " 'referências',\n",
              " 'vida',\n",
              " 'ficando',\n",
              " 'adulto',\n",
              " 'entrei',\n",
              " 'universidade',\n",
              " 'paraisópolis',\n",
              " 'conheci',\n",
              " 'cursinho',\n",
              " 'gratuito',\n",
              " 'consegui',\n",
              " 'ingressar',\n",
              " 'universidade',\n",
              " 'convidado',\n",
              " 'voltar',\n",
              " 'professor',\n",
              " 'coordenador',\n",
              " 'presidente',\n",
              " 'universidade',\n",
              " 'melhorou',\n",
              " 'financeiramente',\n",
              " 'estudando',\n",
              " 'trabalhando',\n",
              " 'muitos',\n",
              " 'problemas',\n",
              " 'correspondência',\n",
              " 'correio',\n",
              " 'juntando',\n",
              " 'morava',\n",
              " 'próximo',\n",
              " 'pancadão',\n",
              " 'dz17',\n",
              " 'rotina',\n",
              " 'trabalhos',\n",
              " 'estudos',\n",
              " 'dava',\n",
              " 'quinta-feira',\n",
              " 'segunda-feira',\n",
              " 'manhã',\n",
              " 'conseguia',\n",
              " 'dormir',\n",
              " 'entendi',\n",
              " 'adequado',\n",
              " 'fazer',\n",
              " 'procurar',\n",
              " 'lugar',\n",
              " 'tranquilo',\n",
              " 'formando',\n",
              " 'trabalho',\n",
              " 'melhor',\n",
              " 'condições',\n",
              " 'alugar',\n",
              " 'casa',\n",
              " 'bairro',\n",
              " 'principal',\n",
              " 'motivo',\n",
              " 'mudar',\n",
              " 'paraisópolis',\n",
              " 'limpo',\n",
              " 'perguntando',\n",
              " 'diferenças',\n",
              " 'acesso',\n",
              " 'desses',\n",
              " 'lugares',\n",
              " 'absurdo',\n",
              " 'geográfico',\n",
              " 'vielas',\n",
              " 'próprios',\n",
              " 'pancadões',\n",
              " 'difíceis',\n",
              " 'controlar',\n",
              " 'superlotação',\n",
              " 'realidades',\n",
              " 'território',\n",
              " 'paraisópolis',\n",
              " 'nada',\n",
              " 'comparado',\n",
              " 'superlotação',\n",
              " 'sistema',\n",
              " 'viário',\n",
              " 'transporte',\n",
              " 'paraisópolis',\n",
              " 'extremamente',\n",
              " 'deficitário',\n",
              " 'acontecem',\n",
              " 'bailes',\n",
              " 'ônibus',\n",
              " 'param',\n",
              " 'garotada',\n",
              " 'lota',\n",
              " 'pontos',\n",
              " 'vezes',\n",
              " 'embriagados',\n",
              " 'pegar',\n",
              " 'ônibus',\n",
              " 'manhã',\n",
              " 'precisa',\n",
              " 'locomover',\n",
              " 'ponto',\n",
              " 'acontece',\n",
              " 'segunda-feira',\n",
              " 'passar',\n",
              " 'mãe',\n",
              " 'ainda',\n",
              " 'paraisópolis',\n",
              " 'amigos',\n",
              " 'família',\n",
              " 'pandemia',\n",
              " 'difícil',\n",
              " 'difícil',\n",
              " 'pandemia',\n",
              " 'multiplicou',\n",
              " 'passava',\n",
              " 'dois',\n",
              " 'dias',\n",
              " 'semana',\n",
              " 'mãe',\n",
              " 'lugar',\n",
              " 'relativamente',\n",
              " 'tranquilo',\n",
              " 'médico',\n",
              " 'especialista',\n",
              " 'renda',\n",
              " 'baixa',\n",
              " 'difícil',\n",
              " 'pandemia',\n",
              " 'veio',\n",
              " 'pá',\n",
              " 'cal',\n",
              " 'irmão',\n",
              " 'faleceu',\n",
              " 'entregador',\n",
              " 'ifood',\n",
              " 'irmão',\n",
              " 'trabalhava',\n",
              " 'caixa',\n",
              " 'carrefour',\n",
              " 'mãe',\n",
              " 'empregada',\n",
              " 'doméstica',\n",
              " 'sair',\n",
              " 'pagando',\n",
              " 'aluguel',\n",
              " 'pagar',\n",
              " 'aluguel',\n",
              " 'comer',\n",
              " 'soma',\n",
              " 'espaços',\n",
              " 'super',\n",
              " 'apertados',\n",
              " 'faz',\n",
              " 'isolamento',\n",
              " 'triste',\n",
              " 'pai',\n",
              " 'familia',\n",
              " 'nao',\n",
              " 'poder',\n",
              " 'trabalhar',\n",
              " 'incertezas',\n",
              " 'ter',\n",
              " 'isolar',\n",
              " 'lugar',\n",
              " 'casa',\n",
              " 'mãe',\n",
              " 'trabalhar',\n",
              " 'fiquei',\n",
              " 'super',\n",
              " 'preocupado',\n",
              " 'aí',\n",
              " 'chega',\n",
              " 'projeto',\n",
              " 'si',\n",
              " 'mãe',\n",
              " 'ligou',\n",
              " 'meados',\n",
              " 'março',\n",
              " 'achava',\n",
              " 'pandemia',\n",
              " 'ia',\n",
              " 'rápida',\n",
              " 'patroas',\n",
              " 'começaram',\n",
              " 'ligar',\n",
              " 'cancelando',\n",
              " 'diárias',\n",
              " 'enquanto',\n",
              " 'professor',\n",
              " 'cursinho',\n",
              " 'fiquei',\n",
              " 'pensando',\n",
              " 'quantas',\n",
              " 'mães',\n",
              " 'iguais',\n",
              " 'mães',\n",
              " 'estariam',\n",
              " 'nessa',\n",
              " 'situação',\n",
              " 'quantos',\n",
              " 'jonathan',\n",
              " 'estariam',\n",
              " 'nessa',\n",
              " 'situação',\n",
              " 'jovens',\n",
              " 'sonhando',\n",
              " 'melhorar',\n",
              " 'vida',\n",
              " 'chamei',\n",
              " 'algumas',\n",
              " 'pessoas',\n",
              " 'cursinho',\n",
              " 'majoritariamente',\n",
              " 'professoras',\n",
              " 'pensamos',\n",
              " 'possibilidades',\n",
              " 'fazer',\n",
              " 'pensou',\n",
              " 'paraisópolis',\n",
              " 'alunos',\n",
              " 'cursinho',\n",
              " 'estratégia',\n",
              " 'fazer',\n",
              " 'levantamento',\n",
              " 'quantas',\n",
              " 'mães',\n",
              " 'diaristas',\n",
              " 'perdido',\n",
              " 'dias',\n",
              " 'trabalho',\n",
              " 'cursinho',\n",
              " 'colocamos',\n",
              " 'mão',\n",
              " 'massa',\n",
              " 'criamos',\n",
              " 'planilha',\n",
              " 'excel',\n",
              " 'criamos',\n",
              " 'uns',\n",
              " 'forms',\n",
              " 'chamamos',\n",
              " 'pessoas',\n",
              " 'ajudar',\n",
              " 'deu',\n",
              " '15',\n",
              " 'mães',\n",
              " 'ganho',\n",
              " 'domésticas',\n",
              " 'comerciantes',\n",
              " 'vamos',\n",
              " 'ajudar',\n",
              " 'pessoas',\n",
              " 'descartou',\n",
              " 'pronto',\n",
              " 'questão',\n",
              " 'ajudar',\n",
              " 'cesta',\n",
              " 'pensamos',\n",
              " 'aglomeração',\n",
              " 'ia',\n",
              " 'gerar',\n",
              " 'pegar',\n",
              " 'pegar',\n",
              " 'vírus',\n",
              " 'definimos',\n",
              " 'ajuda',\n",
              " 'financeira',\n",
              " 'depositada',\n",
              " 'contas',\n",
              " 'vamos',\n",
              " 'fixar',\n",
              " 'valor',\n",
              " 'cada',\n",
              " '15',\n",
              " 'dias',\n",
              " 'pensamos',\n",
              " 'valor',\n",
              " 'viável',\n",
              " '400',\n",
              " 'consegue',\n",
              " 'conseguir',\n",
              " 'dinheiro',\n",
              " 'começamos',\n",
              " 'doação',\n",
              " 'crossfader',\n",
              " 'colega',\n",
              " 'designer',\n",
              " 'montou',\n",
              " 'site',\n",
              " 'escolhemos',\n",
              " 'vakinha',\n",
              " 'vimos',\n",
              " 'descansavam',\n",
              " 'fácil',\n",
              " 'usabilidade',\n",
              " 'pras',\n",
              " 'pessoas',\n",
              " 'doarem',\n",
              " 'aí',\n",
              " 'começamos',\n",
              " 'divulgação',\n",
              " 'massa',\n",
              " 'campanha',\n",
              " 'massiva',\n",
              " 'imagens',\n",
              " 'textos',\n",
              " 'pouco',\n",
              " 'tempo',\n",
              " 'menos',\n",
              " '15',\n",
              " 'dias',\n",
              " 'dinheiro',\n",
              " 'primeiro',\n",
              " 'depósito',\n",
              " '15',\n",
              " 'mães',\n",
              " 'atrás',\n",
              " 'guardar',\n",
              " 'dados',\n",
              " 'sempre',\n",
              " 'cuidado',\n",
              " 'distribuímos',\n",
              " 'dinheiro',\n",
              " 'mês',\n",
              " 'garantido',\n",
              " 'antecipamos',\n",
              " 'governo',\n",
              " 'sabíamos',\n",
              " '200',\n",
              " 'reais',\n",
              " 'dava',\n",
              " 'nada',\n",
              " 'tomou',\n",
              " 'proporção',\n",
              " 'esperava',\n",
              " 'divulgação',\n",
              " 'amigos',\n",
              " 'conhecidos',\n",
              " 'chegam',\n",
              " 'lugares',\n",
              " 'fundamentais',\n",
              " 'divulgação',\n",
              " 'campanha',\n",
              " 'chegou',\n",
              " 'ouvido',\n",
              " 'jornalistas',\n",
              " 'renomados',\n",
              " 'caiu',\n",
              " 'ouvido',\n",
              " 'mônica',\n",
              " 'bergamo',\n",
              " 'veio',\n",
              " 'falar',\n",
              " 'pediu',\n",
              " 'escrever',\n",
              " 'texto',\n",
              " 'publicou',\n",
              " 'texto',\n",
              " 'coluna',\n",
              " 'folha',\n",
              " 'paulo',\n",
              " 'página',\n",
              " 'principal',\n",
              " 'outras',\n",
              " 'pessoas',\n",
              " 'viram',\n",
              " 'mônica',\n",
              " 'veio',\n",
              " 'falar',\n",
              " 'tv',\n",
              " 'cultura',\n",
              " 'entrevistou',\n",
              " 'vivo',\n",
              " 'hora',\n",
              " 'almoço',\n",
              " 'jornais',\n",
              " 'internacionais',\n",
              " 'queriam',\n",
              " 'aplicar',\n",
              " 'ideia',\n",
              " 'condomínios',\n",
              " 'morumbi',\n",
              " 'entravam',\n",
              " 'contato',\n",
              " 'ajudavam',\n",
              " 'arrecadação',\n",
              " 'depositavam',\n",
              " 'quatro',\n",
              " 'cinco',\n",
              " 'meses',\n",
              " '50',\n",
              " 'mil',\n",
              " 'reais',\n",
              " 'ajudamos',\n",
              " '30',\n",
              " 'famílias',\n",
              " 'paraisópolis',\n",
              " 'ocupações',\n",
              " 'mauá',\n",
              " 'suzano',\n",
              " 'governadores',\n",
              " 'deputados',\n",
              " 'entram',\n",
              " 'contato',\n",
              " 'saber',\n",
              " 'possível',\n",
              " 'divulgar',\n",
              " 'incluir',\n",
              " 'pessoas',\n",
              " 'lista',\n",
              " 'dinheiro',\n",
              " 'entrava',\n",
              " 'conta',\n",
              " 'saia',\n",
              " 'precisava',\n",
              " 'limite',\n",
              " 'campanha',\n",
              " 'durou',\n",
              " '2',\n",
              " 'último',\n",
              " 'esgotado',\n",
              " 'energia',\n",
              " 'triste',\n",
              " 'mães',\n",
              " 'mandavam',\n",
              " 'fotos',\n",
              " 'recebiam',\n",
              " 'dinheiro',\n",
              " 'fotos',\n",
              " 'vídeos',\n",
              " 'agradecendo',\n",
              " 'chorando',\n",
              " 'absorve',\n",
              " 'energia',\n",
              " 'pessoal',\n",
              " 'queria',\n",
              " 'seguir',\n",
              " 'fazer',\n",
              " 'desse',\n",
              " 'projeto',\n",
              " 'programa',\n",
              " 'naquele',\n",
              " 'momento',\n",
              " 'força',\n",
              " 'guardado',\n",
              " 'documentado',\n",
              " 'projeto',\n",
              " 'ganhou',\n",
              " 'prêmios',\n",
              " 'citado',\n",
              " 'modelo',\n",
              " 'surgiu',\n",
              " 'nenhuma',\n",
              " 'pretensão',\n",
              " 'apenas',\n",
              " 'surgiu',\n",
              " 'apoio',\n",
              " 'governo',\n",
              " 'nenhuma',\n",
              " 'secretaria',\n",
              " 'fonte',\n",
              " 'fomento',\n",
              " 'entrou',\n",
              " 'contato',\n",
              " 'tocou',\n",
              " 'educadores',\n",
              " 'cursinho',\n",
              " 'ideia',\n",
              " 'construíram',\n",
              " 'forma',\n",
              " 'espontânea',\n",
              " 'voluntária',\n",
              " 'nada',\n",
              " 'institucional',\n",
              " 'forças',\n",
              " 'instantâneas',\n",
              " 'primeiro',\n",
              " 'vou',\n",
              " 'apresentar',\n",
              " 'glória',\n",
              " 'maria',\n",
              " 'vinte',\n",
              " 'três',\n",
              " 'mãe',\n",
              " 'manu',\n",
              " 'criança',\n",
              " 'oito',\n",
              " 'nasci',\n",
              " 'estado',\n",
              " 'brasília',\n",
              " 'vim',\n",
              " 'morar',\n",
              " 'paulo',\n",
              " 'quatorze',\n",
              " 'manu',\n",
              " 'vim',\n",
              " 'cá',\n",
              " 'morava',\n",
              " 'brasília',\n",
              " 'avó',\n",
              " 'pais',\n",
              " 'sempre',\n",
              " 'moraram',\n",
              " 'paraisópolis',\n",
              " 'conheci',\n",
              " 'paraisópolis',\n",
              " 'partir',\n",
              " 'dessa',\n",
              " 'transição',\n",
              " 'saio',\n",
              " 'periferia',\n",
              " 'brasília',\n",
              " 'chamava',\n",
              " 'samambaia',\n",
              " 'sul',\n",
              " '(',\n",
              " 'egião',\n",
              " 'administrativa',\n",
              " 'distrito',\n",
              " 'federal',\n",
              " 'brasileiro',\n",
              " ')',\n",
              " 'venho',\n",
              " 'morar',\n",
              " 'paulo',\n",
              " 'paraisópolis',\n",
              " 'sinto',\n",
              " 'relação',\n",
              " 'paraisópolis',\n",
              " 'processo',\n",
              " 'descoberta',\n",
              " 'entender',\n",
              " 'território',\n",
              " 'quais',\n",
              " 'ações',\n",
              " 'quais',\n",
              " 'lacunas',\n",
              " 'demandas',\n",
              " 'enfim',\n",
              " 'violações',\n",
              " 'existem',\n",
              " 'neste',\n",
              " 'território',\n",
              " 'levou',\n",
              " 'tempo',\n",
              " 'certa',\n",
              " 'forma',\n",
              " 'veio',\n",
              " 'partir',\n",
              " 'movimento',\n",
              " 'ocupações',\n",
              " ...]"
            ]
          },
          "metadata": {},
          "execution_count": 16
        }
      ]
    },
    {
      "cell_type": "code",
      "source": [
        "# Analisa a distribuição das palavras\n",
        "from nltk.probability import FreqDist\n",
        "fdist = FreqDist(tokenized_word_3)\n",
        "fdist.most_common(11)"
      ],
      "metadata": {
        "colab": {
          "base_uri": "https://localhost:8080/"
        },
        "id": "o72UyJWLFbrp",
        "outputId": "6e942cb6-4bfb-4a63-d104-c6655446ab81"
      },
      "execution_count": null,
      "outputs": [
        {
          "output_type": "execute_result",
          "data": {
            "text/plain": [
              "[('paraisópolis', 38),\n",
              " ('pessoas', 21),\n",
              " ('território', 9),\n",
              " ('comunidade', 9),\n",
              " ('fazer', 9),\n",
              " ('pandemia', 9),\n",
              " ('mãe', 8),\n",
              " ('cultura', 8),\n",
              " ('lazer', 8),\n",
              " ('morar', 7),\n",
              " ('difícil', 7)]"
            ]
          },
          "metadata": {},
          "execution_count": 17
        }
      ]
    },
    {
      "cell_type": "code",
      "source": [
        "# Gráfico de distribuiçao de palavras\n",
        "import matplotlib.pyplot as plt\n",
        "plt.figure()\n",
        "fdist.plot(11,cumulative=False)"
      ],
      "metadata": {
        "colab": {
          "base_uri": "https://localhost:8080/",
          "height": 349
        },
        "id": "cAazh-TRLDlx",
        "outputId": "515c257c-7748-4d77-a062-20e1fd3e3f5e"
      },
      "execution_count": null,
      "outputs": [
        {
          "output_type": "display_data",
          "data": {
            "text/plain": [
              "<Figure size 432x288 with 1 Axes>"
            ],
            "image/png": "[encoded data removed]"
          },
          "metadata": {
            "needs_background": "light"
          }
        },
        {
          "output_type": "execute_result",
          "data": {
            "text/plain": [
              "<matplotlib.axes._subplots.AxesSubplot at 0x7f12e4f95090>"
            ]
          },
          "metadata": {},
          "execution_count": 18
        }
      ]
    },
    {
      "cell_type": "code",
      "source": [
        "#Outra forma de ver duas palavras mais comuns\n",
        "Comum=fdist.most_common(2)\n",
        "Comum"
      ],
      "metadata": {
        "colab": {
          "base_uri": "https://localhost:8080/"
        },
        "id": "6qgzNuu_ZHxt",
        "outputId": "d09ca5c6-2e03-4bd7-bf98-e299749f75cb"
      },
      "execution_count": null,
      "outputs": [
        {
          "output_type": "execute_result",
          "data": {
            "text/plain": [
              "[('paraisópolis', 38), ('pessoas', 21)]"
            ]
          },
          "metadata": {},
          "execution_count": 19
        }
      ]
    },
    {
      "cell_type": "markdown",
      "source": [
        "\n",
        "#Outras analises"
      ],
      "metadata": {
        "id": "tZLRE2UBL4SP"
      }
    },
    {
      "cell_type": "code",
      "source": [
        "#quantas vezes a palavra repete\n",
        "texto.count('pessoas')"
      ],
      "metadata": {
        "colab": {
          "base_uri": "https://localhost:8080/"
        },
        "id": "8i0d9SY4L7Sf",
        "outputId": "08062653-9bd5-4f58-d73a-feb044f48574"
      },
      "execution_count": null,
      "outputs": [
        {
          "output_type": "execute_result",
          "data": {
            "text/plain": [
              "21"
            ]
          },
          "metadata": {},
          "execution_count": 38
        }
      ]
    },
    {
      "cell_type": "code",
      "source": [
        "tokenized_word_3.count('pessoas')\n"
      ],
      "metadata": {
        "colab": {
          "base_uri": "https://localhost:8080/"
        },
        "id": "9YzM2gb4MWHY",
        "outputId": "e96dbb94-4685-4231-ccab-d7adc240e203"
      },
      "execution_count": null,
      "outputs": [
        {
          "output_type": "execute_result",
          "data": {
            "text/plain": [
              "21"
            ]
          },
          "metadata": {},
          "execution_count": 39
        }
      ]
    },
    {
      "cell_type": "code",
      "source": [
        "tokenized_word_3.count('mulheres')\n"
      ],
      "metadata": {
        "colab": {
          "base_uri": "https://localhost:8080/"
        },
        "id": "EMp68X_LVxJa",
        "outputId": "9f67ba48-319c-421c-b096-2fa2cc4be507"
      },
      "execution_count": null,
      "outputs": [
        {
          "output_type": "execute_result",
          "data": {
            "text/plain": [
              "1"
            ]
          },
          "metadata": {},
          "execution_count": 40
        }
      ]
    },
    {
      "cell_type": "code",
      "source": [
        "personagens = ['lazer', 'cultura', 'esporte', 'trabalho', 'dinheiro', 'escola',\n",
        "              'transporte', 'saúde']\n",
        "for p in personagens:\n",
        " print('{}: {}'.format(p, tokenized_word_3.count(p)))"
      ],
      "metadata": {
        "colab": {
          "base_uri": "https://localhost:8080/"
        },
        "id": "GaQi5O39Nl33",
        "outputId": "796b67a2-9e30-4471-9618-d1a455d754df"
      },
      "execution_count": null,
      "outputs": [
        {
          "output_type": "stream",
          "name": "stdout",
          "text": [
            "lazer: 8\n",
            "cultura: 8\n",
            "esporte: 1\n",
            "trabalho: 5\n",
            "dinheiro: 5\n",
            "escola: 4\n",
            "transporte: 5\n",
            "saúde: 2\n"
          ]
        }
      ]
    },
    {
      "cell_type": "markdown",
      "source": [
        "#Possibilidade de gráficos"
      ],
      "metadata": {
        "id": "UAo-PU1fZvYU"
      }
    },
    {
      "cell_type": "code",
      "source": [
        "#Grafico de linha\n",
        "import matplotlib.pyplot\n",
        "personagens = ['pessoas', 'território', 'comunidade','fazer']\n",
        "valores = [21, 9, 9, 9]\n",
        "matplotlib.pyplot.ylim(0, 30)\n",
        "matplotlib.pyplot.plot(personagens,valores)\n",
        "matplotlib.pyplot.show()\n"
      ],
      "metadata": {
        "colab": {
          "base_uri": "https://localhost:8080/"
        },
        "id": "fJPVz9TAGesD",
        "outputId": "7d7c5974-6da8-4c23-dc33-26f8f3a50460"
      },
      "execution_count": null,
      "outputs": [
        {
          "output_type": "display_data",
          "data": {
            "text/plain": [
              "<Figure size 432x288 with 1 Axes>"
            ],
            "image/png": "[encoded data removed]"
          },
          "metadata": {
            "needs_background": "light"
          }
        }
      ]
    },
    {
      "cell_type": "code",
      "source": [
        "personagens = ['paraisópolis', 'pessoas', 'território', 'comunidade','fazer',\n",
        "                 'pandemia', 'mãe', 'cultura', 'lazer', 'difícil']\n",
        "valores = [38, 21, 9, 9, 9, 9, 8, 8, 8, 7]"
      ],
      "metadata": {
        "id": "s7_Ph7d1pkil"
      },
      "execution_count": null,
      "outputs": []
    },
    {
      "cell_type": "code",
      "source": [
        "#grafico barras horizontais \n",
        "plt.barh(personagens,valores, color='black') \n",
        "plt.ylabel('Palavras citadas',fontsize=12) \n",
        "plt.xlabel('Valores',fontsize=12)\n",
        "plt.title('Citações mais frequentes no discuso',fontsize=12)\n",
        "plt.show()"
      ],
      "metadata": {
        "colab": {
          "base_uri": "https://localhost:8080/"
        },
        "id": "iEZU6lhw4M_K",
        "outputId": "739f2c09-1fc8-4c31-9b75-c9507e28cf38"
      },
      "execution_count": null,
      "outputs": [
        {
          "output_type": "display_data",
          "data": {
            "text/plain": [
              "<Figure size 432x288 with 1 Axes>"
            ],
            "image/png": "[encoded data removed]"
          },
          "metadata": {
            "needs_background": "light"
          }
        }
      ]
    },
    {
      "cell_type": "code",
      "source": [
        "#grafico barras horizontais com definições de espaço e titulo \n",
        "figura = plt.figure()\n",
        "ax = figura.add_axes([0,0,1.0,1])\n",
        "personagens = ['paraisópolis', 'pessoas', 'território',\n",
        "                 'fazer', 'pandemia', 'mãe']\n",
        "valores = [38, 21, 9, 9, 9, 8]\n",
        "ax.barh(personagens, valores, color = \"black\")\n",
        "ax.set_title(\"Citações mais frequentes nas entrevistas\", fontsize=14)\n",
        "ax.set_xlabel(\"Valores\", fontsize=14)\n",
        "ax.set_ylabel(\"Palavras citadas\", fontsize=14)\n",
        "plt.show()"
      ],
      "metadata": {
        "colab": {
          "base_uri": "https://localhost:8080/"
        },
        "id": "2rH4ZGmBOBp2",
        "outputId": "7294a65c-6e75-48de-898f-3f8fd11305c2"
      },
      "execution_count": null,
      "outputs": [
        {
          "output_type": "display_data",
          "data": {
            "text/plain": [
              "<Figure size 432x288 with 1 Axes>"
            ],
            "image/png": "[encoded data removed]"
          },
          "metadata": {
            "needs_background": "light"
          }
        }
      ]
    },
    {
      "cell_type": "code",
      "source": [
        "#grafico de barras\n",
        "figura = plt.figure()\n",
        "ax = figura.add_axes([0,0,1.1,1.0])\n",
        "personagens = ['paraisópolis', 'pessoas', 'território',\n",
        "                 'fazer', 'pandemia', 'mãe']\n",
        "valores = [38, 21, 9, 9, 9, 8]\n",
        "ax.bar(personagens, valores, color = \"black\")\n",
        "ax.set_title(\"Citações mais frequentes nas entrevistas\", fontsize=14)\n",
        "ax.set_xlabel(\"Palavras citadas\", fontsize=13)\n",
        "ax.set_ylabel(\"Valores\", fontsize=13)\n",
        "plt.show()"
      ],
      "metadata": {
        "colab": {
          "base_uri": "https://localhost:8080/"
        },
        "id": "pHcoyT12NKZX",
        "outputId": "912f694e-92cd-4c36-b8d3-f88b8c17a0d7"
      },
      "execution_count": null,
      "outputs": [
        {
          "output_type": "display_data",
          "data": {
            "text/plain": [
              "<Figure size 432x288 with 1 Axes>"
            ],
            "image/png": "[encoded data removed]"
          },
          "metadata": {
            "needs_background": "light"
          }
        }
      ]
    },
    {
      "cell_type": "markdown",
      "source": [
        "#Possibilidade de tabelas"
      ],
      "metadata": {
        "id": "Ua3CPtYSZz0E"
      }
    },
    {
      "cell_type": "code",
      "source": [
        "#feia\n",
        "citou_1 = pd.Series({'Palavra citada': 'terra', 'Repetições': 7})\n",
        "citou_2 = pd.Series({'Palavra citada': 'pessoas', 'Repetições': 3})\n",
        "citou_3 = pd.Series({'Palavra citada': 'bem-estar', 'Repetições': 2})\n",
        "citou_4 = pd.Series({'Palavra citada': 'milhões', 'Repetições': 2})\n",
        "citou_5 = pd.Series({'Palavra citada': 'seca', 'Repetições': 2})\n",
        "citou_6 = pd.Series({'Palavra citada': 'mudanças', 'Repetições': 2})\n",
        "citou_7 = pd.Series({'Palavra citada': 'climáticas', 'Repetições': 2})\n",
        "citou_8 = pd.Series({'Palavra citada': 'restauração', 'Repetições': 2})\n",
        "df = pd.DataFrame([citou_1, citou_2, citou_3, citou_4, citou_5, citou_6, citou_7, citou_8])\n",
        "df\n",
        "\n",
        "\n",
        "#bonita\n",
        "import plotly.graph_objects as go \n",
        "  \n",
        "fig = go.Figure(data=[go.Table( \n",
        "    header=dict(values=['Citações no discurso', 'Repetições']), \n",
        "    cells=dict(values=[['Lazer', 'Cultura', 'Trabalho', 'Dinheiro', 'Transporte',\n",
        "         'Escola', 'Saúde', 'Esporte'], \n",
        "                       [8, 8, 5, 5, 5, 4, 2, 1]])) \n",
        "]) \n",
        "fig.update_layout(width=950, height=950)\n",
        "fig.show() "
      ],
      "metadata": {
        "colab": {
          "base_uri": "https://localhost:8080/"
        },
        "id": "-isjrwlihph3",
        "outputId": "95388211-f0ff-4cca-e768-85bf998b7193"
      },
      "execution_count": null,
      "outputs": [
        {
          "output_type": "display_data",
          "data": {
            "text/html": [
              "<html>\n",
              "<head><meta charset=\"utf-8\" /></head>\n",
              "<body>\n",
              "    <div>            <script src=\"https://cdnjs.cloudflare.com/ajax/libs/mathjax/2.7.5/MathJax.js?config=TeX-AMS-MML_SVG\"></script><script type=\"text/javascript\">if (window.MathJax) {MathJax.Hub.Config({SVG: {font: \"STIX-Web\"}});}</script>                <script type=\"text/javascript\">window.PlotlyConfig = {MathJaxConfig: 'local'};</script>\n",
              "        <script src=\"https://cdn.plot.ly/plotly-2.8.3.min.js\"></script>                <div id=\"88c87355-e0c8-4583-9aab-fd48338a7748\" class=\"plotly-graph-div\" style=\"height:950px; width:950px;\"></div>            <script type=\"text/javascript\">                                    window.PLOTLYENV=window.PLOTLYENV || {};                                    if (document.getElementById(\"88c87355-e0c8-4583-9aab-fd48338a7748\")) {                    Plotly.newPlot(                        \"88c87355-e0c8-4583-9aab-fd48338a7748\",                        [{\"cells\":{\"values\":[[\"Lazer\",\"Cultura\",\"Trabalho\",\"Dinheiro\",\"Transporte\",\"Escola\",\"Sa\\u00fade\",\"Esporte\"],[8,8,5,5,5,4,2,1]]},\"header\":{\"values\":[\"Cita\\u00e7\\u00f5es no discurso\",\"Repeti\\u00e7\\u00f5es\"]},\"type\":\"table\"}],                        {\"template\":{\"data\":{\"bar\":[{\"error_x\":{\"color\":\"#2a3f5f\"},\"error_y\":{\"color\":\"#2a3f5f\"},\"marker\":{\"line\":{\"color\":\"#E5ECF6\",\"width\":0.5},\"pattern\":{\"fillmode\":\"overlay\",\"size\":10,\"solidity\":0.2}},\"type\":\"bar\"}],\"barpolar\":[{\"marker\":{\"line\":{\"color\":\"#E5ECF6\",\"width\":0.5},\"pattern\":{\"fillmode\":\"overlay\",\"size\":10,\"solidity\":0.2}},\"type\":\"barpolar\"}],\"carpet\":[{\"aaxis\":{\"endlinecolor\":\"#2a3f5f\",\"gridcolor\":\"white\",\"linecolor\":\"white\",\"minorgridcolor\":\"white\",\"startlinecolor\":\"#2a3f5f\"},\"baxis\":{\"endlinecolor\":\"#2a3f5f\",\"gridcolor\":\"white\",\"linecolor\":\"white\",\"minorgridcolor\":\"white\",\"startlinecolor\":\"#2a3f5f\"},\"type\":\"carpet\"}],\"choropleth\":[{\"colorbar\":{\"outlinewidth\":0,\"ticks\":\"\"},\"type\":\"choropleth\"}],\"contour\":[{\"colorbar\":{\"outlinewidth\":0,\"ticks\":\"\"},\"colorscale\":[[0.0,\"#0d0887\"],[0.1111111111111111,\"#46039f\"],[0.2222222222222222,\"#7201a8\"],[0.3333333333333333,\"#9c179e\"],[0.4444444444444444,\"#bd3786\"],[0.5555555555555556,\"#d8576b\"],[0.6666666666666666,\"#ed7953\"],[0.7777777777777778,\"#fb9f3a\"],[0.8888888888888888,\"#fdca26\"],[1.0,\"#f0f921\"]],\"type\":\"contour\"}],\"contourcarpet\":[{\"colorbar\":{\"outlinewidth\":0,\"ticks\":\"\"},\"type\":\"contourcarpet\"}],\"heatmap\":[{\"colorbar\":{\"outlinewidth\":0,\"ticks\":\"\"},\"colorscale\":[[0.0,\"#0d0887\"],[0.1111111111111111,\"#46039f\"],[0.2222222222222222,\"#7201a8\"],[0.3333333333333333,\"#9c179e\"],[0.4444444444444444,\"#bd3786\"],[0.5555555555555556,\"#d8576b\"],[0.6666666666666666,\"#ed7953\"],[0.7777777777777778,\"#fb9f3a\"],[0.8888888888888888,\"#fdca26\"],[1.0,\"#f0f921\"]],\"type\":\"heatmap\"}],\"heatmapgl\":[{\"colorbar\":{\"outlinewidth\":0,\"ticks\":\"\"},\"colorscale\":[[0.0,\"#0d0887\"],[0.1111111111111111,\"#46039f\"],[0.2222222222222222,\"#7201a8\"],[0.3333333333333333,\"#9c179e\"],[0.4444444444444444,\"#bd3786\"],[0.5555555555555556,\"#d8576b\"],[0.6666666666666666,\"#ed7953\"],[0.7777777777777778,\"#fb9f3a\"],[0.8888888888888888,\"#fdca26\"],[1.0,\"#f0f921\"]],\"type\":\"heatmapgl\"}],\"histogram\":[{\"marker\":{\"pattern\":{\"fillmode\":\"overlay\",\"size\":10,\"solidity\":0.2}},\"type\":\"histogram\"}],\"histogram2d\":[{\"colorbar\":{\"outlinewidth\":0,\"ticks\":\"\"},\"colorscale\":[[0.0,\"#0d0887\"],[0.1111111111111111,\"#46039f\"],[0.2222222222222222,\"#7201a8\"],[0.3333333333333333,\"#9c179e\"],[0.4444444444444444,\"#bd3786\"],[0.5555555555555556,\"#d8576b\"],[0.6666666666666666,\"#ed7953\"],[0.7777777777777778,\"#fb9f3a\"],[0.8888888888888888,\"#fdca26\"],[1.0,\"#f0f921\"]],\"type\":\"histogram2d\"}],\"histogram2dcontour\":[{\"colorbar\":{\"outlinewidth\":0,\"ticks\":\"\"},\"colorscale\":[[0.0,\"#0d0887\"],[0.1111111111111111,\"#46039f\"],[0.2222222222222222,\"#7201a8\"],[0.3333333333333333,\"#9c179e\"],[0.4444444444444444,\"#bd3786\"],[0.5555555555555556,\"#d8576b\"],[0.6666666666666666,\"#ed7953\"],[0.7777777777777778,\"#fb9f3a\"],[0.8888888888888888,\"#fdca26\"],[1.0,\"#f0f921\"]],\"type\":\"histogram2dcontour\"}],\"mesh3d\":[{\"colorbar\":{\"outlinewidth\":0,\"ticks\":\"\"},\"type\":\"mesh3d\"}],\"parcoords\":[{\"line\":{\"colorbar\":{\"outlinewidth\":0,\"ticks\":\"\"}},\"type\":\"parcoords\"}],\"pie\":[{\"automargin\":true,\"type\":\"pie\"}],\"scatter\":[{\"marker\":{\"colorbar\":{\"outlinewidth\":0,\"ticks\":\"\"}},\"type\":\"scatter\"}],\"scatter3d\":[{\"line\":{\"colorbar\":{\"outlinewidth\":0,\"ticks\":\"\"}},\"marker\":{\"colorbar\":{\"outlinewidth\":0,\"ticks\":\"\"}},\"type\":\"scatter3d\"}],\"scattercarpet\":[{\"marker\":{\"colorbar\":{\"outlinewidth\":0,\"ticks\":\"\"}},\"type\":\"scattercarpet\"}],\"scattergeo\":[{\"marker\":{\"colorbar\":{\"outlinewidth\":0,\"ticks\":\"\"}},\"type\":\"scattergeo\"}],\"scattergl\":[{\"marker\":{\"colorbar\":{\"outlinewidth\":0,\"ticks\":\"\"}},\"type\":\"scattergl\"}],\"scattermapbox\":[{\"marker\":{\"colorbar\":{\"outlinewidth\":0,\"ticks\":\"\"}},\"type\":\"scattermapbox\"}],\"scatterpolar\":[{\"marker\":{\"colorbar\":{\"outlinewidth\":0,\"ticks\":\"\"}},\"type\":\"scatterpolar\"}],\"scatterpolargl\":[{\"marker\":{\"colorbar\":{\"outlinewidth\":0,\"ticks\":\"\"}},\"type\":\"scatterpolargl\"}],\"scatterternary\":[{\"marker\":{\"colorbar\":{\"outlinewidth\":0,\"ticks\":\"\"}},\"type\":\"scatterternary\"}],\"surface\":[{\"colorbar\":{\"outlinewidth\":0,\"ticks\":\"\"},\"colorscale\":[[0.0,\"#0d0887\"],[0.1111111111111111,\"#46039f\"],[0.2222222222222222,\"#7201a8\"],[0.3333333333333333,\"#9c179e\"],[0.4444444444444444,\"#bd3786\"],[0.5555555555555556,\"#d8576b\"],[0.6666666666666666,\"#ed7953\"],[0.7777777777777778,\"#fb9f3a\"],[0.8888888888888888,\"#fdca26\"],[1.0,\"#f0f921\"]],\"type\":\"surface\"}],\"table\":[{\"cells\":{\"fill\":{\"color\":\"#EBF0F8\"},\"line\":{\"color\":\"white\"}},\"header\":{\"fill\":{\"color\":\"#C8D4E3\"},\"line\":{\"color\":\"white\"}},\"type\":\"table\"}]},\"layout\":{\"annotationdefaults\":{\"arrowcolor\":\"#2a3f5f\",\"arrowhead\":0,\"arrowwidth\":1},\"autotypenumbers\":\"strict\",\"coloraxis\":{\"colorbar\":{\"outlinewidth\":0,\"ticks\":\"\"}},\"colorscale\":{\"diverging\":[[0,\"#8e0152\"],[0.1,\"#c51b7d\"],[0.2,\"#de77ae\"],[0.3,\"#f1b6da\"],[0.4,\"#fde0ef\"],[0.5,\"#f7f7f7\"],[0.6,\"#e6f5d0\"],[0.7,\"#b8e186\"],[0.8,\"#7fbc41\"],[0.9,\"#4d9221\"],[1,\"#276419\"]],\"sequential\":[[0.0,\"#0d0887\"],[0.1111111111111111,\"#46039f\"],[0.2222222222222222,\"#7201a8\"],[0.3333333333333333,\"#9c179e\"],[0.4444444444444444,\"#bd3786\"],[0.5555555555555556,\"#d8576b\"],[0.6666666666666666,\"#ed7953\"],[0.7777777777777778,\"#fb9f3a\"],[0.8888888888888888,\"#fdca26\"],[1.0,\"#f0f921\"]],\"sequentialminus\":[[0.0,\"#0d0887\"],[0.1111111111111111,\"#46039f\"],[0.2222222222222222,\"#7201a8\"],[0.3333333333333333,\"#9c179e\"],[0.4444444444444444,\"#bd3786\"],[0.5555555555555556,\"#d8576b\"],[0.6666666666666666,\"#ed7953\"],[0.7777777777777778,\"#fb9f3a\"],[0.8888888888888888,\"#fdca26\"],[1.0,\"#f0f921\"]]},\"colorway\":[\"#636efa\",\"#EF553B\",\"#00cc96\",\"#ab63fa\",\"#FFA15A\",\"#19d3f3\",\"#FF6692\",\"#B6E880\",\"#FF97FF\",\"#FECB52\"],\"font\":{\"color\":\"#2a3f5f\"},\"geo\":{\"bgcolor\":\"white\",\"lakecolor\":\"white\",\"landcolor\":\"#E5ECF6\",\"showlakes\":true,\"showland\":true,\"subunitcolor\":\"white\"},\"hoverlabel\":{\"align\":\"left\"},\"hovermode\":\"closest\",\"mapbox\":{\"style\":\"light\"},\"paper_bgcolor\":\"white\",\"plot_bgcolor\":\"#E5ECF6\",\"polar\":{\"angularaxis\":{\"gridcolor\":\"white\",\"linecolor\":\"white\",\"ticks\":\"\"},\"bgcolor\":\"#E5ECF6\",\"radialaxis\":{\"gridcolor\":\"white\",\"linecolor\":\"white\",\"ticks\":\"\"}},\"scene\":{\"xaxis\":{\"backgroundcolor\":\"#E5ECF6\",\"gridcolor\":\"white\",\"gridwidth\":2,\"linecolor\":\"white\",\"showbackground\":true,\"ticks\":\"\",\"zerolinecolor\":\"white\"},\"yaxis\":{\"backgroundcolor\":\"#E5ECF6\",\"gridcolor\":\"white\",\"gridwidth\":2,\"linecolor\":\"white\",\"showbackground\":true,\"ticks\":\"\",\"zerolinecolor\":\"white\"},\"zaxis\":{\"backgroundcolor\":\"#E5ECF6\",\"gridcolor\":\"white\",\"gridwidth\":2,\"linecolor\":\"white\",\"showbackground\":true,\"ticks\":\"\",\"zerolinecolor\":\"white\"}},\"shapedefaults\":{\"line\":{\"color\":\"#2a3f5f\"}},\"ternary\":{\"aaxis\":{\"gridcolor\":\"white\",\"linecolor\":\"white\",\"ticks\":\"\"},\"baxis\":{\"gridcolor\":\"white\",\"linecolor\":\"white\",\"ticks\":\"\"},\"bgcolor\":\"#E5ECF6\",\"caxis\":{\"gridcolor\":\"white\",\"linecolor\":\"white\",\"ticks\":\"\"}},\"title\":{\"x\":0.05},\"xaxis\":{\"automargin\":true,\"gridcolor\":\"white\",\"linecolor\":\"white\",\"ticks\":\"\",\"title\":{\"standoff\":15},\"zerolinecolor\":\"white\",\"zerolinewidth\":2},\"yaxis\":{\"automargin\":true,\"gridcolor\":\"white\",\"linecolor\":\"white\",\"ticks\":\"\",\"title\":{\"standoff\":15},\"zerolinecolor\":\"white\",\"zerolinewidth\":2}}},\"width\":950,\"height\":950},                        {\"responsive\": true}                    ).then(function(){\n",
              "                            \n",
              "var gd = document.getElementById('88c87355-e0c8-4583-9aab-fd48338a7748');\n",
              "var x = new MutationObserver(function (mutations, observer) {{\n",
              "        var display = window.getComputedStyle(gd).display;\n",
              "        if (!display || display === 'none') {{\n",
              "            console.log([gd, 'removed!']);\n",
              "            Plotly.purge(gd);\n",
              "            observer.disconnect();\n",
              "        }}\n",
              "}});\n",
              "\n",
              "// Listen for the removal of the full notebook cells\n",
              "var notebookContainer = gd.closest('#notebook-container');\n",
              "if (notebookContainer) {{\n",
              "    x.observe(notebookContainer, {childList: true});\n",
              "}}\n",
              "\n",
              "// Listen for the clearing of the current output cell\n",
              "var outputEl = gd.closest('.output');\n",
              "if (outputEl) {{\n",
              "    x.observe(outputEl, {childList: true});\n",
              "}}\n",
              "\n",
              "                        })                };                            </script>        </div>\n",
              "</body>\n",
              "</html>"
            ]
          },
          "metadata": {}
        }
      ]
    },
    {
      "cell_type": "markdown",
      "source": [
        "[texto do link](https://)#Analise de sentimentos (LSTM)"
      ],
      "metadata": {
        "id": "w8A0cNUhlURd"
      }
    },
    {
      "cell_type": "code",
      "source": [
        "from sklearn.model_selection import train_test_split \n",
        "from sklearn.preprocessing import LabelEncoder\n",
        "from keras.models import Sequential\n",
        "from keras.layers import Dense, Embedding, LSTM, SpatialDropout1D\n",
        "from keras.preprocessing.text import Tokenizer \n",
        "from keras.preprocessing.sequence import pad_sequences \n",
        "from keras.utils import np_utils \n"
      ],
      "metadata": {
        "id": "Mq1P5hV-pZjh"
      },
      "execution_count": null,
      "outputs": []
    },
    {
      "cell_type": "code",
      "source": [
        "#a variavel tokenized_word_3 são as PALAVRAS sem stopwords e separadas, \n",
        "#para fazer analise de sentmentos a seguir usa-se a texto_formatado que será dividida em SENTENÇAS com line_tokenize\n",
        "from nltk.tokenize import line_tokenize\n",
        "sentimentos= line_tokenize(texto_formatado)\n",
        "\n",
        "#ver sentimentos\n",
        "sentimentos"
      ],
      "metadata": {
        "colab": {
          "base_uri": "https://localhost:8080/"
        },
        "id": "SLo5-ihOyyBf",
        "outputId": "6726ca69-1617-4656-bee6-4beb5d225827"
      },
      "execution_count": null,
      "outputs": [
        {
          "output_type": "execute_result",
          "data": {
            "text/plain": [
              "['a primeira pergunta é sobre um pouco da minha história no território. então, eu cheguei no território em 1994, tinha 7 anos de idade quando fui morar no paraisópolis, fui morar por ocasião de um despejo, ordem de despejo que  a prefeitura fez do outro lado do rio que era a comunidade do jardim edite i que compreendia ali onde fica a rede globo na luís carlos berrini, a avenida hoje roberto marinho que era chamada avenida águas espraiadas.',\n",
              " 'minha mãe veio da zona leste para trabalhar na zona sul nessas casas de família da região brooklin e  todas essas regiões, ela se instalou ali, comprou um barraquinho ali e eu era garoto. a gente foi morar ali e com a ordem de despejo a prefeitura colocou à disposição o valor na época, 5 mil reais ou 4 mil, e minha mãe conseguiu comprar barraquinho em paraisópolis e a gente se mudou pra cá. ',\n",
              " 'e eu lembro que ali em 1990 paraisópolis era assim um lugar ainda mais precário em recursos. eu me lembro que morava numa das principais ruas e ficava a famosa sedinha onde fica a sede dos representantes comunitários e comerciais de paraisópolis e essa rua, por exemplo, a parte que eu morava e está associação, não tinha asfalto, poucas ruas com asfalto, fazia-se vaquinha para alugar caminhão e comprar concreto e todo mundo criança, mulheres, pessoas mais velhas espalharam o concreto e assim foi o asfaltamento de muitas ruas e eu participei disso naquela ocasião. ',\n",
              " 'esse território, naquele período, marcado por uma escassez, por exemplo, eu fiquei um ano fora da escola, um ano atrasado porque não tinha vagas, tinha pouca escolas em paraisópolis pro ensino fundamental, não tinha escolas para ensino médio naquele período e o pessoal mais velho tinha estudar em lugares pertos tipo vila sônia, campo limpo. lembro aqui no campo limpo  ensino médio tinha o solito, um colégio relativamente distante, mas amigos meus mais velhos se formaram nessas regiões dentro do campo limpo e vila sônia porque não tinha naquele período escola de ensino médio . e foi um pouco assim meu começo de história com paraisopolis. ',\n",
              " 'todo esse contexto que to te falando de escassez, das pessoas se unindo para asfaltar e eu vivia em uma rua, nas vielas, imagina quem vivia nas vielas? uma coisa interessante nessa forma de viver na comunidade de paraisópolis naquele período, que não é mais assim, paraisópolis cresceu demais, uma das maiores do brasil, mas naquele período era menor e a pessoas eram mais próximas, a gente conhecia mais as pessoas, hoje eu circulo em paraisópolis e conheço poucas pessoas, mas quando eu era garoto todo mundo já sabia e se eu fosse aprontar era “o dona luzia, encontrei o jonathans’ era tip cidadezinha e as pessoas se conheciam. ',\n",
              " 'e pra falar de onde vem as pessoas dali, a maioria dos meus colegas eram do nordeste, menos do norte e sudeste, minas gerais, rio de janeiro muito pouco. esmagadora maioria nordeste, piauí, ceará, pernambuco, umas pessoas que vinham final anos 80 e alguns poucos anos 70 para paraisópolis e assentaram ali e construíram suas vidas. ',\n",
              " 'hoje eu não moro mais lá e saí de lá com 29 anos, hoje tenho 32, faz quatro anos. sempre foi muito difícil no ponto de vista do acesso aos serviços públicos, mesmo hoje e não só no paraisópolis, mas numa favela, numa comunidade isso é exacerbado, é bastante nítido ver as carências. só conseguimos entrar na escola por conta de uma parceria que o único colégio aqui no paraisópolis fez com um colégio privado do morumbi, famoso pio xii que construíram uma escola anexa, super pequenininha pra abrigar a gente porque é um terreno grande e a gente estudou lá, então a gente atravessava todo coração do morumbi pra chegar ali, perto do extra da marginal pra estudar.',\n",
              " 'esporte? você tinha os campinhos, hoje só tem um. dentro das comunidades tem uma especulação imobiliária feroz, todo espaço é muito disputado e é tudo muito caro por estar no coração do morumbi. muitas pessoas vêm de fora, de outras comunidades ao redor, jardim colombo, real parque, vila prel, panorama também vão até a comunidade de paraisópolis para usar o que tem, tem parente que mora lá, e tudo isso gera muita demanda e o estado fechou os olhos para as comunidades.',\n",
              " 'paraisópolis sempre foi uma pedra no sapato dos governos. o primeiro a tentar fazer o que foi feito de despejo lá no jardim edite foi o maluf, tentou indenizar algumas famílias, só que paraisopolis tomou uma proporção tão grande que não conseguiram fazer. só que existem maneiras de sufocar a população e uma delas é a escassez de serviços e recursos. ',\n",
              " 'hoje acho que é uma realidade diferente, está nas mídias, dá pra ver que tem bastante coisa, claro que ainda sim não alcança todo mundo, é muito difícil alcançar determinados grupos. dentro da comunidade também tem grupos, uma estratificação grande. mas não há dúvidas que melhor que anos 90 e início dos anos 2000. a possibilidade de prática esportiva era muito vaga. hoje paraisópolis tem escolas grandes de vários níveis, tem o ceu e o ceu paraisópolis é um modelo em todos os sentidos: cursos, o teatro é um dos melhores de são paulo e peças importantes aconteceram por lá, tem amostras de arte. ',\n",
              " 'foi evoluindo, mas muita coisa é recente e não dá pra falar também que está tudo bem, principalmente na área da saúde que são muitos gargalos. ',\n",
              " 'não moro mais lá, mas lá estão minhas referências de vida. fui ficando adulto, entrei na universidade e em paraisópolis conheci o cursinho gratuito no qual eu consegui depois ingressar na universidade e fui convidado a voltar e ser professor, coordenador e depois presidente. e na universidade a coisa melhorou financeiramente, estudando e trabalhando. ',\n",
              " 'muitos problemas com correspondência, sem o correio, isso tudo foi se juntando. eu morava próximo ao pancadão da dz17, numa rotina de trabalhos e estudos. dava quinta-feira a segunda-feira de manhã já não conseguia mais dormir. então eu entendi que o mais adequado a se fazer era procurar um lugar tranquilo. e me formando e com trabalho melhor tive condições de alugar uma casa em outro bairro. esse foi o principal motivo para me mudar de paraisópolis para o campo limpo. ',\n",
              " 'e você me perguntando as diferenças de acesso desses lugares. é absurdo, o espaço geográfico das vielas, os próprios pancadões que são difíceis de controlar, a superlotação e isso são realidades do território de paraisópolis hoje, agora. ',\n",
              " 'aqui não é nada comparado a uma superlotação, o sistema viário de transporte em paraisópolis é extremamente deficitário e quando acontecem os bailes os ônibus não param, a garotada lota os pontos, às vezes embriagados. então se você for pegar ônibus de manhã precisa se locomover até outro ponto e isso acontece até hoje, agora, se você for lá na segunda-feira vai passar por isso.',\n",
              " 'para minha mãe que ainda está em paraisópolis, meus amigos e família na pandemia, foi difícil porque já era muito difícil e com a pandemia isso se multiplicou. eu passava dois dias da semana com minha mãe, era um lugar relativamente tranquilo. e era sem médico, sem especialista, renda baixa, muito difícil, a pandemia veio como uma pá de cal. ',\n",
              " 'meu irmão que faleceu era entregador de ifood, meu outro irmão trabalhava como caixa do carrefour e minha mãe empregada doméstica. como é que não vai sair? pagando aluguel, como vai pagar aluguel e comer? e você soma isso com espaços super apertados, como faz isolamento?',\n",
              " 'muito triste um pai de familia nao poder trabalhar, incertezas, ter que se isolar em outro lugar que não é em casa. ',\n",
              " 'minha mãe sem trabalhar, fiquei super preocupado.',\n",
              " 'e aí a gente chega no projeto em si né. minha mãe me ligou em meados de março, a gente achava que a pandemia ia ser uma coisa rápida, mas as patroas já começaram a ligar cancelando as diárias e eu enquanto professor de cursinho fiquei pensando quantas mães iguais às minhas mães estariam nessa situação e quantos jonathan estariam nessa situação, jovens sonhando em melhorar a vida. ',\n",
              " 'chamei algumas pessoas do cursinho, majoritariamente professoras, e pensamos nas possibilidades do que fazer e a gente pensou em paraisópolis e nos alunos do nosso cursinho. a estratégia foi fazer o levantamento de quantas mães que também eram diaristas e tinham perdido seus dias de trabalho no nosso cursinho. colocamos a mão na massa, criamos planilha do excel, criamos uns forms, chamamos pessoas pra ajudar e deu 15 mães sem ganho, domésticas e comerciantes. vamos ajudar essas pessoas.',\n",
              " 'a gente descartou de pronto a questão de ajudar com cesta, pensamos na aglomeração que isso ia gerar e pegar ou pegar o vírus. definimos que seria uma ajuda financeira depositada nas contas, vamos fixar um valor para que a cada 15 dias. pensamos em um valor viável, será que 400 a gente consegue? como a gente vai conseguir esse dinheiro?',\n",
              " 'começamos entre nós a doação e depois o crossfader.  uma colega designer montou o site, escolhemos o vakinha, vimos quando descansavam, e se era de fácil usabilidade pras pessoas doarem. e aí começamos uma divulgação em massa, uma campanha massiva com imagens textos',\n",
              " 'em pouco tempo, menos de 15 dias a gente já tinha o dinheiro do primeiro depósito para essas 15 mães, fomos atrás de como guardar esses dados, sempre com muito cuidado e distribuímos esse dinheiro. depois tínhamos um mês garantido, nos antecipamos ao governo, já sabíamos que 200 reais não dava pra nada, ',\n",
              " 'isso tomou uma proporção que a gente não esperava, essa divulgação entre amigos e conhecidos chegam a lugares que foram fundamentais para divulgação da campanha. ',\n",
              " 'chegou no ouvido de jornalistas renomados. caiu no ouvido da mônica bergamo, então ela veio falar com a gente, pediu para escrever um texto e publicou esse texto na  coluna dela da folha de são paulo na página principal. outras pessoas que viram a mônica veio falar com a gente e a tv cultura me entrevistou ao vivo na hora do almoço, jornais internacionais que também queriam aplicar a ideia e condomínios no morumbi entravam em contato que ajudavam na arrecadação e depositavam. ',\n",
              " 'em quatro cinco meses já tínhamos 50 mil reais e ajudamos mais de 30 famílias não só de paraisópolis, como de ocupações em mauá, em suzano. governadores e deputados entram em contato para saber se era possível divulgar para incluir pessoas na lista, mas o dinheiro entrava na conta e já saia, precisava de limite.  ',\n",
              " 'a campanha durou 2 anos, e no último eu já estava muito esgotado, muita gente, muita energia, triste, mães me mandavam fotos quando recebiam o dinheiro, fotos e vídeos agradecendo chorando e a gente absorve essa energia. o pessoal queria seguir e fazer desse projeto um programa, mas naquele momento eu não tinha essa força, está tudo guardado e documentado, o projeto ganhou prêmios e foi citado como modelo, mas surgiu sem nenhuma pretensão e apenas surgiu.',\n",
              " 'se a gente teve apoio do governo, não. nenhuma secretaria, fonte de fomento entrou em contato. o que tocou foram os educadores do cursinho, a ideia que eu tive, que nós tivemos, e construíram e de forma espontânea e voluntária, nada institucional. forças instantâneas.',\n",
              " 'primeiro eu vou me apresentar, eu sou glória maria, eu tenho vinte e três anos. sou mãe da manu, uma criança de oito anos e eu nasci no estado de brasília. eu vim morar aqui em são paulo aos quatorze anos, assim que eu tive a manu eu vim pra cá que eu morava em brasília com a minha avó e meus pais sempre moraram aqui no paraisópolis.',\n",
              " 'e foi assim que eu conheci paraisópolis assim, né? a partir dessa transição de quando eu saio de uma periferia de brasília que se chamava samambaia sul (egião administrativa do distrito federal brasileiro) e venho morar aqui em são paulo, no paraisópolis. ',\n",
              " 'como eu me sinto em relação a paraisópolis? foi um processo de descoberta né? entender o que é esse território e quais são as ações, quais são as lacunas, as demandas, enfim, as violações que existem neste território foi uma coisa que levou um tempo. ',\n",
              " 'e de certa forma isso veio a partir do movimento de ocupações, né? em dois mil e quinze ocupações das escolas estaduais, né? contra a reorganização que o alckmin estava fazendo. ',\n",
              " 'então eu acho que agora sabendo o que eu sinto que o paraisópolis é um território que me faz que eu sinto tipo muitas potências mas ao mesmo tempo também muitas violações, né? eu acho que isso também não talvez não se difere de outros territórios.',\n",
              " 'sobre a sua pergunta sobre o acesso a transporte, lazer e cultura em paraisópolis, olha aqui no paraisópolis existe um polo muito focado na própria comunidade, né? tem muita coisa, tem muita loja, tem muito movimento acontecendo. a economia é muito grande, né? circula muita grana desses comércios, enfim. ',\n",
              " 'o transporte, mano, é, a gente tem né. existe sim uma certa dificuldade para locomoção pela questão de superlotação mesmo. ',\n",
              " 'acho que é uma um problema bem comum também essa questão do lazer e cultura, eu acho que é uma coisa que pega muito porque o paraisópolis é um espaço que não tem nem calçada, quem dirá um espaço de lazer.',\n",
              " 'é, a gente já reivindicou para ter casa de cultura aqui, só que a prefeitura sempre justifica que é a casa de cultura por subprefeitura e a subprefeitura de paraisópolis é o campo limpo e lá já existe. mas não tem condição de eu que sou moradora de paraisópolis me deslocar pro campo limpo que é contramão, sabe? então a gente tem muita dificuldade de ter espaço de lazer, e os espaços de lazer que a gente tem próximo aqui é da galera do morumbi que é um espaço totalmente elitizado com coisas caras enfim é que não é feito pra gente né então o que falar sinceramente não tem espaço de lazer nenhum a cultura quem move é quem está aqui dentro então são coletivos independentes.',\n",
              " 'eu fiz a batalha do paraisópolis, né? sou uma das fundadoras da batalha do paraisópolis. e eu e o meu companheiro mike que fazemos a batalha já tem cinco anos, a gente está parando com ela agora porque a gente vai iniciar outro projeto que se chama sete notas que vai ser voltado ser o estúdio e voltado pros artistas independentes daqui, né?',\n",
              " 'o estúdio de gravação, enfim… mas a cultura ela só existe porque quem mora aqui está fazendo sabe? porque se for ver alguma coisa do estado tipo, mano, não tem.',\n",
              " 'é sobre a pandemia, agora na parte da pandemia. é na pandemia, foi bem difícil assim né? porque paraisópolis é um território que não dorme, é um território que as pessoas não param de circular. então no começo a galera deu uma acalmada mas depois tudo voltou assim né? tudo voltou. teve então todos os rolês e tudo assim durante toda a pandemia. ',\n",
              " 'foi bem caótico.',\n",
              " 'mas teve uma organização muito boa, a galera do g10 que tem ambulâncias, né? então tipo aqui a ambulância do sus não entra aqui. então a galera contratou ambulâncias para atender a galera. teve também o projeto das marmitas. então essa mobilização de organizações aqui, não só a do g10, mas a batalha por exemplo distribuiu algumas cestas e eu acho que foram cerca de quatrocentas cestas básicas em parceria com a uneafro. teve também os projetos da cufa.',\n",
              " 'então várias ações e vários coletivos se organizaram para conseguir fortalecer a comunidade principalmente nessa questão de alimentação, né? porque essa pessoa não está trabalhando? como que ela vai comprar o alimento? ',\n",
              " 'essa parte de ação social é a batalha, mas a gente costuma, a gente costuma fazer tudo de forma independente, sem apoio.',\n",
              " 'a batalha, por exemplo, só teve um apoio que foi em dois mil e dezoito que foi o vai, aí agora a gente está vindo com sete notas que é o estúdio a gente conseguiu o apoio do vai, né? só que a gente ainda não começou, então é uma coisa que ainda está em processo.',\n",
              " 'eu acredito que a importância da atuação social é fortalecer mesmo as famílias, né? porque as pessoas estão em situações tão vulneráveis assim em geral, né? todo mundo e aí quando vem uma doença ou  qualquer outra coisa isso impacta muito na questão da grana que essa pessoa tinha pra se alimentar, com isso e muita gente que perdeu o emprego não é?',\n",
              " ' então como essas pessoas podem fazer se não se a gente está num momento tão sensível de desemprego. e também em que as coisas estão extremamente caras. que a gente está voltando ali pra miséria mesmo, sabe? a galera está voltando pra fome. então a solução é ter ações sociais, é olhar pra essas pra esse público, sabe?',\n",
              " 'é olhar para esse recorte de pessoas que estão passando por essa situação. ',\n",
              " 'é essas ações despertam em mim o sentido da vida mesmo tá ligado? ',\n",
              " 'porque eu fico pensando assim tá? eu estou trampando e pá estou fazendo o meu corre mas eu acredito que o meu corre ele também tem que estar direcionado para o pro coletivo, né? e pra outras pessoas, enfim, e pras demandas que a gente tem coletivamente, né? porque o que atravessa o meu vizinho também me atravessa.',\n",
              " 'a violência policial que bate na porta da minha casa, bate não, arromba. ',\n",
              " 'também o que acontece com meu vizinho né? então não tem como eu não despertar esse senso de coletividade está ligado? acho que é isso.',\n",
              " 'conheci paraisópolis através dos meus pais e das minhas irmãs. eu sou baiana natural de salvador. e eles vieram tentar mudar o nosso quadro de vida e perspectiva. chegaram aqui no ano de 1994, e eu vim só no ano de 2000.',\n",
              " 'no começo não gostei muito de paraisópolis, mas depois de cinco meses comecei a trabalhar, voltei a estudar, porque logo percebi que para mudar meu destino eu precisava voltar a estudar aqui.',\n",
              " 'quando cheguei aqui, no ano de 2000 estranhei muito tudo aqui, como morava em cidade praiana e com um ritmo de vida totalmente diferente, além de que até às casas são de proporções diferentes, tudo isso acabou me afetando um pouco, mas logo após cinco meses aqui comecei a trabalhar, acabei por me acostumar.',\n",
              " 'paraisópolis mudou tanto, cresceu tanto e junto com esse crescimento veio também as adversidades, os desafios de morar em um lugar assim.',\n",
              " 'mas na verdade, em matéria de segurança me sinto muito mais segura aqui dentro. a comunidade tem seus desafios, mas tem suas formas de acolhimento também. muita coisa boa e muita gente de boa fé disposta a fazer a diferença também.',\n",
              " 'aqui temos transporte praticamente para todas as principais regiões, mas é claro que um transporte no segmento ferroviário seria de grande valia também.',\n",
              " 'desde a época da então prefeita marta suplicy, existiam projetos para a linha ferroviária, depois o mário covas, falou também sobre o monotrilho e não aconteceu.',\n",
              " 'pensando em cultura, temos um campo muito conhecido também, o campo do palmeirinha, que traz bastante torneios aqui pra população, e ajuda não só o lazer como também a economia.',\n",
              " 'ainda pensando sobre o lazer, temos parque de diversões também, praças e muitos shows, temos ongs... estamos bem servidos, mas lógico que para atender uma população do tamanho da nossa, certamente precisaríamos de mais.',\n",
              " 'em saúde também, para atender o tamanho da população precisamos de mais equipamentos. ',\n",
              " 'o começo da pandemia foi difícil pra todo mundo, não tínhamos nenhum conhecimento aprimorando de nada, mas com muito trabalho e dedicação do sus, em conjunto com a colaboração da população, conseguimos atingir com eficácia.',\n",
              " 'lógico que tivemos os desafios do desemprego, um aumento considerável de pessoas em situação de rua. mas tivemos também bastante ajuda aqui na comunidade, muitas doações, óbvio que com a redução do crescimento essas doações diminuíram, o que acabou afetou e afeta muito essa parte da população.',\n",
              " 'infelizmente não participei de nenhuma atuação, apenas trabalho. trabalhei fora, agora que trabalho aqui na ubs paraisopolis um. ',\n",
              " 'e gosto muito de morar aqui. temos acesso a tudo aqui.']"
            ]
          },
          "metadata": {},
          "execution_count": 50
        }
      ]
    },
    {
      "cell_type": "code",
      "source": [
        "#transformo as sentenças em um DtaFrame (tabela) com uma unica coluna #Frases\n",
        "my_list = sentimentos\n",
        "df = pd.DataFrame(my_list, columns = ['Frases'])\n",
        "print(df)\n"
      ],
      "metadata": {
        "colab": {
          "base_uri": "https://localhost:8080/"
        },
        "id": "dmKAVq3SqGZx",
        "outputId": "33e10d0f-4c7a-4236-d476-d875f2d5c1f2"
      },
      "execution_count": null,
      "outputs": [
        {
          "output_type": "stream",
          "name": "stdout",
          "text": [
            "                                               Frases\n",
            "0   a primeira pergunta é sobre um pouco da minha ...\n",
            "1   minha mãe veio da zona leste para trabalhar na...\n",
            "2   e eu lembro que ali em 1990 paraisópolis era a...\n",
            "3   esse território, naquele período, marcado por ...\n",
            "4   todo esse contexto que to te falando de escass...\n",
            "..                                                ...\n",
            "62  em saúde também, para atender o tamanho da pop...\n",
            "63  o começo da pandemia foi difícil pra todo mund...\n",
            "64  lógico que tivemos os desafios do desemprego, ...\n",
            "65  infelizmente não participei de nenhuma atuação...\n",
            "66  e gosto muito de morar aqui. temos acesso a tu...\n",
            "\n",
            "[67 rows x 1 columns]\n"
          ]
        }
      ]
    },
    {
      "cell_type": "code",
      "source": [
        "#insere a segunda coluna #Sentimentos na tabela feita acima\n",
        "dfComDuasColunas = pd.DataFrame(df,columns=['Frases']) \n",
        "Sentimento = ['Negativo', 'Negativo', 'Negativo', 'Negativo', 'Negativo', 'Negativo', 'Negativo', 'Negativo', 'Negativo', 'Positivo', 'Negativo',\n",
        "              'Negativo', 'Negativo', 'Negativo', 'Negativo', 'Negativo', 'Negativo', 'Negativo', 'Negativo', 'Negativo', 'Positivo', 'Negativo', 'Positivo',\n",
        "              'Positivo', 'Positivo', 'Neutro', 'Positivo', 'Negativo', 'Negativo', 'Negativo', 'Negativo', 'Negativo', 'Negativo', 'Negativo', 'Negativo',\n",
        "              'Negativo', 'Negativo', 'Negativo', 'Negativo', 'Negativo', 'Negativo', 'Negativo', 'Negativo', 'Negativo', 'Negativo', 'Negativo', 'Negativo',\n",
        "              'Negativo','Negativo', 'Negativo', 'Negativo', 'Negativo', 'Negativo', 'Negativo', 'Negativo', 'Negativo', 'Negativo', 'Positivo', 'Negativo',\n",
        "              'Negativo', 'Positivo', 'Negativo', 'Negativo', 'Negativo', 'Negativo', 'Negativo', 'Negativo']\n",
        "dfComDuasColunas['Sentimento'] = Sentimento\n",
        "print(dfComDuasColunas)\n",
        "\n"
      ],
      "metadata": {
        "colab": {
          "base_uri": "https://localhost:8080/"
        },
        "id": "k__UPKePqLhx",
        "outputId": "a9beb00f-fda0-4308-e194-5661b04627a8"
      },
      "execution_count": null,
      "outputs": [
        {
          "output_type": "stream",
          "name": "stdout",
          "text": [
            "                                               Frases Sentimento\n",
            "0   a primeira pergunta é sobre um pouco da minha ...   Negativo\n",
            "1   minha mãe veio da zona leste para trabalhar na...   Negativo\n",
            "2   e eu lembro que ali em 1990 paraisópolis era a...   Negativo\n",
            "3   esse território, naquele período, marcado por ...   Negativo\n",
            "4   todo esse contexto que to te falando de escass...   Negativo\n",
            "..                                                ...        ...\n",
            "62  em saúde também, para atender o tamanho da pop...   Negativo\n",
            "63  o começo da pandemia foi difícil pra todo mund...   Negativo\n",
            "64  lógico que tivemos os desafios do desemprego, ...   Negativo\n",
            "65  infelizmente não participei de nenhuma atuação...   Negativo\n",
            "66  e gosto muito de morar aqui. temos acesso a tu...   Negativo\n",
            "\n",
            "[67 rows x 2 columns]\n"
          ]
        }
      ]
    },
    {
      "cell_type": "code",
      "source": [
        "#vendo o tamanho das colunas da tabela\n",
        "dfComDuasColunas.groupby(['Sentimento']).size()"
      ],
      "metadata": {
        "colab": {
          "base_uri": "https://localhost:8080/"
        },
        "id": "U7cX_2muqNrC",
        "outputId": "2367845b-cc4b-46e3-c932-60c216c6e784"
      },
      "execution_count": null,
      "outputs": [
        {
          "output_type": "execute_result",
          "data": {
            "text/plain": [
              "Sentimento\n",
              "Negativo    58\n",
              "Neutro       1\n",
              "Positivo     8\n",
              "dtype: int64"
            ]
          },
          "metadata": {},
          "execution_count": 53
        }
      ]
    },
    {
      "cell_type": "markdown",
      "source": [
        "Rede neural recorrente\n"
      ],
      "metadata": {
        "id": "4_ByYcF4VFJZ"
      }
    },
    {
      "cell_type": "code",
      "source": [
        "#Processamento natural precisa que a tabela esteja em numero, sendo que Fases é onde está o meu texto\n",
        "\n",
        "#cria o modelo com numero de palavras (tokens) que será criado, aqui nao executa\n",
        "token=Tokenizer(num_words=100)\n",
        "token.fit_on_texts(dfComDuasColunas['Frases'].values)\n",
        "\n",
        "#Usamos objeto token e passamos na variavel Frases\n",
        "#Transformando a coluna Frases em numeros para a rede neural\n",
        "X=token.texts_to_sequences(dfComDuasColunas['Frases'].values)\n",
        "X=pad_sequences(X, padding=\"post\", maxlen=100)\n",
        "X\n",
        "\n",
        "#Transformando a coluna Sentimento em numeros para a rede neural\n",
        "labelencoder=LabelEncoder() \n",
        "Y=labelencoder.fit_transform(dfComDuasColunas['Sentimento'])\n",
        "Y\n",
        "\n",
        "#Dividimos o teste de variavel dependente  eidependente\n",
        "Y=np_utils.to_categorical(Y)\n",
        "print(Y)\n",
        "\n",
        "X_train, X_test, Y_train, Y_test = train_test_split(X,Y, test_size = 0.1) \n",
        "X_test"
      ],
      "metadata": {
        "colab": {
          "base_uri": "https://localhost:8080/"
        },
        "id": "oo7EVWoT5Hgb",
        "outputId": "2753f151-3e15-4f1c-a35f-2fd101f3ef90"
      },
      "execution_count": null,
      "outputs": [
        {
          "output_type": "stream",
          "name": "stdout",
          "text": [
            "[[1. 0. 0.]\n",
            " [1. 0. 0.]\n",
            " [1. 0. 0.]\n",
            " [1. 0. 0.]\n",
            " [1. 0. 0.]\n",
            " [1. 0. 0.]\n",
            " [1. 0. 0.]\n",
            " [1. 0. 0.]\n",
            " [1. 0. 0.]\n",
            " [0. 0. 1.]\n",
            " [1. 0. 0.]\n",
            " [1. 0. 0.]\n",
            " [1. 0. 0.]\n",
            " [1. 0. 0.]\n",
            " [1. 0. 0.]\n",
            " [1. 0. 0.]\n",
            " [1. 0. 0.]\n",
            " [1. 0. 0.]\n",
            " [1. 0. 0.]\n",
            " [1. 0. 0.]\n",
            " [0. 0. 1.]\n",
            " [1. 0. 0.]\n",
            " [0. 0. 1.]\n",
            " [0. 0. 1.]\n",
            " [0. 0. 1.]\n",
            " [0. 1. 0.]\n",
            " [0. 0. 1.]\n",
            " [1. 0. 0.]\n",
            " [1. 0. 0.]\n",
            " [1. 0. 0.]\n",
            " [1. 0. 0.]\n",
            " [1. 0. 0.]\n",
            " [1. 0. 0.]\n",
            " [1. 0. 0.]\n",
            " [1. 0. 0.]\n",
            " [1. 0. 0.]\n",
            " [1. 0. 0.]\n",
            " [1. 0. 0.]\n",
            " [1. 0. 0.]\n",
            " [1. 0. 0.]\n",
            " [1. 0. 0.]\n",
            " [1. 0. 0.]\n",
            " [1. 0. 0.]\n",
            " [1. 0. 0.]\n",
            " [1. 0. 0.]\n",
            " [1. 0. 0.]\n",
            " [1. 0. 0.]\n",
            " [1. 0. 0.]\n",
            " [1. 0. 0.]\n",
            " [1. 0. 0.]\n",
            " [1. 0. 0.]\n",
            " [1. 0. 0.]\n",
            " [1. 0. 0.]\n",
            " [1. 0. 0.]\n",
            " [1. 0. 0.]\n",
            " [1. 0. 0.]\n",
            " [1. 0. 0.]\n",
            " [0. 0. 1.]\n",
            " [1. 0. 0.]\n",
            " [1. 0. 0.]\n",
            " [0. 0. 1.]\n",
            " [1. 0. 0.]\n",
            " [1. 0. 0.]\n",
            " [1. 0. 0.]\n",
            " [1. 0. 0.]\n",
            " [1. 0. 0.]\n",
            " [1. 0. 0.]]\n"
          ]
        },
        {
          "output_type": "execute_result",
          "data": {
            "text/plain": [
              "array([[29,  7, 73,  4, 76,  5,  4,  7,  4,  5, 11,  6, 10, 55,  4, 35,\n",
              "         4,  7, 98, 20, 84, 25, 98, 26,  7, 73,  4, 33, 25,  9,  9, 23,\n",
              "         3,  0,  0,  0,  0,  0,  0,  0,  0,  0,  0,  0,  0,  0,  0,  0,\n",
              "         0,  0,  0,  0,  0,  0,  0,  0,  0,  0,  0,  0,  0,  0,  0,  0,\n",
              "         0,  0,  0,  0,  0,  0,  0,  0,  0,  0,  0,  0,  0,  0,  0,  0,\n",
              "         0,  0,  0,  0,  0,  0,  0,  0,  0,  0,  0,  0,  0,  0,  0,  0,\n",
              "         0,  0,  0,  0],\n",
              "       [19, 52, 64,  4, 80, 36,  8, 11,  1, 18, 61, 27, 71, 38, 46, 32,\n",
              "        24, 71,  1, 15,  2, 61, 33, 23,  7, 16, 15, 52, 64, 32, 10, 95,\n",
              "         1, 32, 75, 75, 24, 71,  2, 61, 79, 37, 14,  3,  0,  0,  0,  0,\n",
              "         0,  0,  0,  0,  0,  0,  0,  0,  0,  0,  0,  0,  0,  0,  0,  0,\n",
              "         0,  0,  0,  0,  0,  0,  0,  0,  0,  0,  0,  0,  0,  0,  0,  0,\n",
              "         0,  0,  0,  0,  0,  0,  0,  0,  0,  0,  0,  0,  0,  0,  0,  0,\n",
              "         0,  0,  0,  0],\n",
              "       [52, 64, 79, 16, 19, 92, 18,  3, 16,  1, 70, 93, 23, 63, 10, 63,\n",
              "         1,  7, 32,  2, 13, 27, 69, 63,  1, 15,  2,  3,  2,  5, 18, 94,\n",
              "        94,  1, 52, 64,  8, 11,  1,  2, 13, 23, 30,  0,  0,  0,  0,  0,\n",
              "         0,  0,  0,  0,  0,  0,  0,  0,  0,  0,  0,  0,  0,  0,  0,  0,\n",
              "         0,  0,  0,  0,  0,  0,  0,  0,  0,  0,  0,  0,  0,  0,  0,  0,\n",
              "         0,  0,  0,  0,  0,  0,  0,  0,  0,  0,  0,  0,  0,  0,  0,  0,\n",
              "         0,  0,  0,  0],\n",
              "       [ 1, 24,  3, 69, 21,  2, 47, 21,  0,  0,  0,  0,  0,  0,  0,  0,\n",
              "         0,  0,  0,  0,  0,  0,  0,  0,  0,  0,  0,  0,  0,  0,  0,  0,\n",
              "         0,  0,  0,  0,  0,  0,  0,  0,  0,  0,  0,  0,  0,  0,  0,  0,\n",
              "         0,  0,  0,  0,  0,  0,  0,  0,  0,  0,  0,  0,  0,  0,  0,  0,\n",
              "         0,  0,  0,  0,  0,  0,  0,  0,  0,  0,  0,  0,  0,  0,  0,  0,\n",
              "         0,  0,  0,  0,  0,  0,  0,  0,  0,  0,  0,  0,  0,  0,  0,  0,\n",
              "         0,  0,  0,  0],\n",
              "       [ 7, 35,  7,  7,  1, 44, 64, 16, 14,  3, 44,  1,  7, 17,  3,  7,\n",
              "        69, 21,  8, 51, 44, 40,  4,  7,  2,  7, 30,  4,  7, 96,  8, 15,\n",
              "         2, 52,  1, 21, 17, 11,  0,  0,  0,  0,  0,  0,  0,  0,  0,  0,\n",
              "         0,  0,  0,  0,  0,  0,  0,  0,  0,  0,  0,  0,  0,  0,  0,  0,\n",
              "         0,  0,  0,  0,  0,  0,  0,  0,  0,  0,  0,  0,  0,  0,  0,  0,\n",
              "         0,  0,  0,  0,  0,  0,  0,  0,  0,  0,  0,  0,  0,  0,  0,  0,\n",
              "         0,  0,  0,  0],\n",
              "       [ 2, 16, 29, 19,  2, 74,  5, 25, 77,  5,  1,  9,  0,  0,  0,  0,\n",
              "         0,  0,  0,  0,  0,  0,  0,  0,  0,  0,  0,  0,  0,  0,  0,  0,\n",
              "         0,  0,  0,  0,  0,  0,  0,  0,  0,  0,  0,  0,  0,  0,  0,  0,\n",
              "         0,  0,  0,  0,  0,  0,  0,  0,  0,  0,  0,  0,  0,  0,  0,  0,\n",
              "         0,  0,  0,  0,  0,  0,  0,  0,  0,  0,  0,  0,  0,  0,  0,  0,\n",
              "         0,  0,  0,  0,  0,  0,  0,  0,  0,  0,  0,  0,  0,  0,  0,  0,\n",
              "         0,  0,  0,  0],\n",
              "       [80, 77,  5, 68,  3, 25,  1, 20,  4, 19, 14, 85, 12, 16,  3, 34,\n",
              "         0,  0,  0,  0,  0,  0,  0,  0,  0,  0,  0,  0,  0,  0,  0,  0,\n",
              "         0,  0,  0,  0,  0,  0,  0,  0,  0,  0,  0,  0,  0,  0,  0,  0,\n",
              "         0,  0,  0,  0,  0,  0,  0,  0,  0,  0,  0,  0,  0,  0,  0,  0,\n",
              "         0,  0,  0,  0,  0,  0,  0,  0,  0,  0,  0,  0,  0,  0,  0,  0,\n",
              "         0,  0,  0,  0,  0,  0,  0,  0,  0,  0,  0,  0,  0,  0,  0,  0,\n",
              "         0,  0,  0,  0]], dtype=int32)"
            ]
          },
          "metadata": {},
          "execution_count": 54
        }
      ]
    },
    {
      "cell_type": "code",
      "source": [
        "#Gerando o modelo compilado de rede neural \n",
        "\n",
        "modelo=Sequential()\n",
        "modelo.add(Embedding(input_dim=len(token.word_index),output_dim=128,input_length=X.shape[1]))\n",
        "modelo.add(SpatialDropout1D(0.2))\n",
        "modelo.add(LSTM(units=196, dropout=0.2, recurrent_dropout=0,\n",
        "                activation='tanh', recurrent_activation='sigmoid', unroll=False, use_bias=True))\n",
        "modelo.add(Dense(units=3, activation=\"softmax\"))\n",
        "\n",
        "\n",
        "modelo.compile(loss='categorical_crossentropy', optimizer=\"adam\", metrics=['accuracy']) \n",
        "print(modelo.summary())"
      ],
      "metadata": {
        "colab": {
          "base_uri": "https://localhost:8080/"
        },
        "id": "6L_UpVg-Ziy4",
        "outputId": "84eb3a9b-9f52-47a5-c328-f78d7e46b313"
      },
      "execution_count": null,
      "outputs": [
        {
          "output_type": "stream",
          "name": "stdout",
          "text": [
            "Model: \"sequential\"\n",
            "_________________________________________________________________\n",
            " Layer (type)                Output Shape              Param #   \n",
            "=================================================================\n",
            " embedding (Embedding)       (None, 100, 128)          135680    \n",
            "                                                                 \n",
            " spatial_dropout1d (SpatialD  (None, 100, 128)         0         \n",
            " ropout1D)                                                       \n",
            "                                                                 \n",
            " lstm (LSTM)                 (None, 196)               254800    \n",
            "                                                                 \n",
            " dense (Dense)               (None, 3)                 591       \n",
            "                                                                 \n",
            "=================================================================\n",
            "Total params: 391,071\n",
            "Trainable params: 391,071\n",
            "Non-trainable params: 0\n",
            "_________________________________________________________________\n",
            "None\n"
          ]
        }
      ]
    },
    {
      "cell_type": "code",
      "source": [
        "#Outro modelo de rede neural\n",
        "\n",
        "modelo.fit(X_train, Y_train, epochs=10, batch_size=30, verbose=True, validation_data=(X_test, Y_test))"
      ],
      "metadata": {
        "colab": {
          "base_uri": "https://localhost:8080/"
        },
        "id": "f39EAC6Wlu2c",
        "outputId": "555ed636-7eb6-4979-e460-bbfea04ff5eb"
      },
      "execution_count": null,
      "outputs": [
        {
          "output_type": "stream",
          "name": "stdout",
          "text": [
            "Epoch 1/10\n",
            "2/2 [==============================] - 3s 834ms/step - loss: 1.0448 - accuracy: 0.8167 - val_loss: 0.8888 - val_accuracy: 1.0000\n",
            "Epoch 2/10\n",
            "2/2 [==============================] - 1s 291ms/step - loss: 0.8816 - accuracy: 0.8500 - val_loss: 0.5812 - val_accuracy: 1.0000\n",
            "Epoch 3/10\n",
            "2/2 [==============================] - 1s 289ms/step - loss: 0.6043 - accuracy: 0.8500 - val_loss: 0.0303 - val_accuracy: 1.0000\n",
            "Epoch 4/10\n",
            "2/2 [==============================] - 1s 283ms/step - loss: 0.6205 - accuracy: 0.8500 - val_loss: 0.0560 - val_accuracy: 1.0000\n",
            "Epoch 5/10\n",
            "2/2 [==============================] - 1s 305ms/step - loss: 0.5063 - accuracy: 0.8500 - val_loss: 0.1795 - val_accuracy: 1.0000\n",
            "Epoch 6/10\n",
            "2/2 [==============================] - 1s 297ms/step - loss: 0.5035 - accuracy: 0.8500 - val_loss: 0.3055 - val_accuracy: 1.0000\n",
            "Epoch 7/10\n",
            "2/2 [==============================] - 1s 322ms/step - loss: 0.5241 - accuracy: 0.8500 - val_loss: 0.3177 - val_accuracy: 1.0000\n",
            "Epoch 8/10\n",
            "2/2 [==============================] - 1s 307ms/step - loss: 0.5161 - accuracy: 0.8500 - val_loss: 0.2609 - val_accuracy: 1.0000\n",
            "Epoch 9/10\n",
            "2/2 [==============================] - 1s 333ms/step - loss: 0.5009 - accuracy: 0.8500 - val_loss: 0.1777 - val_accuracy: 1.0000\n",
            "Epoch 10/10\n",
            "2/2 [==============================] - 1s 298ms/step - loss: 0.4760 - accuracy: 0.8500 - val_loss: 0.1322 - val_accuracy: 1.0000\n"
          ]
        },
        {
          "output_type": "execute_result",
          "data": {
            "text/plain": [
              "<keras.callbacks.History at 0x7f1280f9db10>"
            ]
          },
          "metadata": {},
          "execution_count": 56
        }
      ]
    },
    {
      "cell_type": "code",
      "source": [
        "loss, accuracy=modelo.evaluate(X_test, Y_test) \n",
        "print(\"Loss:\", loss)\n",
        "print(\"Accuracy:\", accuracy)"
      ],
      "metadata": {
        "colab": {
          "base_uri": "https://localhost:8080/"
        },
        "id": "NMBpCxFKnYly",
        "outputId": "a0d461a7-f62c-47d0-a325-175f046ce174"
      },
      "execution_count": null,
      "outputs": [
        {
          "output_type": "stream",
          "name": "stdout",
          "text": [
            "1/1 [==============================] - 0s 51ms/step - loss: 0.1322 - accuracy: 1.0000\n",
            "Loss: 0.13220129907131195\n",
            "Accuracy: 1.0\n"
          ]
        }
      ]
    },
    {
      "cell_type": "code",
      "source": [
        "prev=modelo.predict(X_test)\n",
        "print(prev)"
      ],
      "metadata": {
        "colab": {
          "base_uri": "https://localhost:8080/"
        },
        "id": "SjuBwJCLnwgX",
        "outputId": "cf194aa4-ebef-46ca-b851-bd2338e5803a"
      },
      "execution_count": null,
      "outputs": [
        {
          "output_type": "stream",
          "name": "stdout",
          "text": [
            "[[0.87617964 0.01208902 0.11173137]\n",
            " [0.87610006 0.01210723 0.11179276]\n",
            " [0.8761168  0.01210341 0.11177988]\n",
            " [0.8762001  0.01208434 0.11171561]\n",
            " [0.87615836 0.01209389 0.11174775]\n",
            " [0.8761993  0.01208452 0.11171618]\n",
            " [0.87619805 0.0120848  0.11171717]]\n"
          ]
        }
      ]
    },
    {
      "cell_type": "code",
      "source": [
        "#Modelo de previsao\n",
        "\n",
        "prev=modelo.predict(X_test) \n",
        "print(prev)\n",
        "\n",
        "#chance de cada item ser 0"
      ],
      "metadata": {
        "colab": {
          "base_uri": "https://localhost:8080/"
        },
        "id": "t3TVkW2yUZAi",
        "outputId": "d2f42f9a-616d-4598-a0fd-69d7ff4e7f5f"
      },
      "execution_count": null,
      "outputs": [
        {
          "output_type": "stream",
          "name": "stdout",
          "text": [
            "[[0.87617964 0.01208902 0.11173137]\n",
            " [0.87610006 0.01210723 0.11179276]\n",
            " [0.8761168  0.01210341 0.11177988]\n",
            " [0.8762001  0.01208434 0.11171561]\n",
            " [0.87615836 0.01209389 0.11174775]\n",
            " [0.8761993  0.01208452 0.11171618]\n",
            " [0.87619805 0.0120848  0.11171717]]\n"
          ]
        }
      ]
    },
    {
      "cell_type": "markdown",
      "source": [
        "#VADER"
      ],
      "metadata": {
        "id": "n1cbAz49VeHG"
      }
    },
    {
      "cell_type": "markdown",
      "source": [
        "vê o sentimento maior na fala"
      ],
      "metadata": {
        "id": "DZ9lqpj6H651"
      }
    },
    {
      "cell_type": "code",
      "source": [
        "nltk.download(\"vader_lexicon\")"
      ],
      "metadata": {
        "colab": {
          "base_uri": "https://localhost:8080/"
        },
        "id": "ttNmuoxAHMMn",
        "outputId": "243d2a6a-cc30-4646-9a00-6d160da87d3b"
      },
      "execution_count": null,
      "outputs": [
        {
          "output_type": "stream",
          "name": "stderr",
          "text": [
            "[nltk_data] Downloading package vader_lexicon to /root/nltk_data...\n",
            "[nltk_data]   Package vader_lexicon is already up-to-date!\n"
          ]
        },
        {
          "output_type": "execute_result",
          "data": {
            "text/plain": [
              "True"
            ]
          },
          "metadata": {},
          "execution_count": 113
        }
      ]
    },
    {
      "cell_type": "code",
      "source": [
        "from nltk.sentiment.vader import SentimentIntensityAnalyzer \n",
        "s = SentimentIntensityAnalyzer()"
      ],
      "metadata": {
        "id": "4yaSRurSVdwf"
      },
      "execution_count": null,
      "outputs": []
    },
    {
      "cell_type": "code",
      "source": [
        "a = 'lies'\n",
        "x=mas.polarity_scores(a)\n",
        "print(x)"
      ],
      "metadata": {
        "colab": {
          "base_uri": "https://localhost:8080/"
        },
        "id": "-izKpkbDXws6",
        "outputId": "4b478f1c-6361-486a-b59e-8b191465c48a"
      },
      "execution_count": null,
      "outputs": [
        {
          "output_type": "stream",
          "name": "stdout",
          "text": [
            "{'neg': 1.0, 'neu': 0.0, 'pos': 0.0, 'compound': -0.4215}\n"
          ]
        }
      ]
    },
    {
      "cell_type": "markdown",
      "source": [
        "vê o sentimento maior na fala em pt"
      ],
      "metadata": {
        "id": "4WJygu8eH-dr"
      }
    }
  ]
}